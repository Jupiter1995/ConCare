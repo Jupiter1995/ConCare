{
 "cells": [
  {
   "cell_type": "code",
   "execution_count": 2,
   "metadata": {
    "collapsed": true
   },
   "outputs": [],
   "source": [
    "import numpy as np\n",
    "import argparse\n",
    "import os\n",
    "import imp\n",
    "import re\n",
    "import pickle\n",
    "import datetime\n",
    "import random\n",
    "import math\n",
    "import copy\n",
    "\n",
    "\n",
    "import torch\n",
    "from torch import nn\n",
    "import torch.nn.utils.rnn as rnn_utils\n",
    "from torch.utils import data\n",
    "from torch.autograd import Variable\n",
    "import torch.nn.functional as F\n",
    "\n",
    "\n",
    "from utils import utils\n",
    "from utils.readers import InHospitalMortalityReader\n",
    "from utils.preprocessing import Discretizer, Normalizer\n",
    "from utils import metrics\n",
    "from utils import common_utils"
   ]
  },
  {
   "cell_type": "code",
   "execution_count": 3,
   "outputs": [],
   "source": [
    "data_path = './data/'\n",
    "file_name = './model/concare0'\n",
    "small_part = True\n",
    "arg_timestep = 1.0\n",
    "batch_size = 256\n",
    "epochs = 100"
   ],
   "metadata": {
    "collapsed": false,
    "pycharm": {
     "name": "#%%\n"
    }
   }
  },
  {
   "cell_type": "code",
   "execution_count": 4,
   "outputs": [],
   "source": [
    "# Build readers, discretizers, normalizers\n",
    "train_reader = InHospitalMortalityReader(dataset_dir=os.path.join(data_path, 'train'),\n",
    "                                         listfile=os.path.join(data_path, 'train_listfile.csv'),\n",
    "                                         period_length=48.0)\n",
    "\n",
    "val_reader = InHospitalMortalityReader(dataset_dir=os.path.join(data_path, 'train'),\n",
    "                                       listfile=os.path.join(data_path, 'val_listfile.csv'),\n",
    "                                       period_length=48.0)\n",
    "\n",
    "discretizer = Discretizer(timestep=arg_timestep,\n",
    "                          store_masks=True,\n",
    "                          impute_strategy='previous',\n",
    "                          start_time='zero')"
   ],
   "metadata": {
    "collapsed": false,
    "pycharm": {
     "name": "#%%\n"
    }
   }
  },
  {
   "cell_type": "code",
   "execution_count": 5,
   "outputs": [],
   "source": [
    "discretizer_header = discretizer.transform(train_reader.read_example(0)[\"X\"])[1].split(',')\n",
    "cont_channels = [i for (i, x) in enumerate(discretizer_header) if x.find(\"->\") == -1]\n",
    "\n",
    "normalizer = Normalizer(fields=cont_channels)  # choose here which columns to standardize\n",
    "normalizer_state = 'ihm_normalizer'\n",
    "normalizer_state = os.path.join(os.path.dirname(data_path), normalizer_state)\n",
    "normalizer.load_params(normalizer_state)"
   ],
   "metadata": {
    "collapsed": false,
    "pycharm": {
     "name": "#%%\n"
    }
   }
  },
  {
   "cell_type": "code",
   "execution_count": 6,
   "outputs": [],
   "source": [
    "n_trained_chunks = 0\n",
    "train_raw = utils.load_data(train_reader, discretizer, normalizer, small_part, return_names=True)\n",
    "val_raw = utils.load_data(val_reader, discretizer, normalizer, small_part, return_names=True)"
   ],
   "metadata": {
    "collapsed": false,
    "pycharm": {
     "name": "#%%\n"
    }
   }
  },
  {
   "cell_type": "code",
   "execution_count": 7,
   "outputs": [
    {
     "name": "stderr",
     "output_type": "stream",
     "text": [
      "C:\\Users\\berse\\anaconda3\\envs\\ConCare2\\lib\\site-packages\\ipykernel_launcher.py:32: DeprecationWarning: `np.int` is a deprecated alias for the builtin `int`. To silence this warning, use `int` by itself. Doing this will not modify any behavior and is safe. When replacing `np.int`, you may wish to use e.g. `np.int64` or `np.int32` to specify the precision. If you wish to review your current use, check the release note link for additional information.\n",
      "Deprecated in NumPy 1.20; for more details and guidance: https://numpy.org/devdocs/release/1.20.0-notes.html#deprecations\n"
     ]
    }
   ],
   "source": [
    "demographic_data = []\n",
    "diagnosis_data = []\n",
    "idx_list = []\n",
    "\n",
    "demo_path = data_path + 'demographic/'\n",
    "for cur_name in os.listdir(demo_path):\n",
    "    cur_id, cur_episode = cur_name.split('_', 1)\n",
    "    cur_episode = cur_episode[:-4]\n",
    "    cur_file = demo_path + cur_name\n",
    "\n",
    "    with open(cur_file, \"r\") as tsfile:\n",
    "        header = tsfile.readline().strip().split(',')\n",
    "        if header[0] != \"Icustay\":\n",
    "            continue\n",
    "        cur_data = tsfile.readline().strip().split(',')\n",
    "\n",
    "    if len(cur_data) == 1:\n",
    "        cur_demo = np.zeros(12)\n",
    "        cur_diag = np.zeros(128)\n",
    "    else:\n",
    "        if cur_data[3] == '':\n",
    "            cur_data[3] = 60.0\n",
    "        if cur_data[4] == '':\n",
    "            cur_data[4] = 160\n",
    "        if cur_data[5] == '':\n",
    "            cur_data[5] = 60\n",
    "\n",
    "        cur_demo = np.zeros(12)\n",
    "        cur_demo[int(cur_data[1])] = 1\n",
    "        cur_demo[5 + int(cur_data[2])] = 1\n",
    "        cur_demo[9:] = cur_data[3:6]\n",
    "        cur_diag = np.array(cur_data[8:], dtype=np.int)\n",
    "\n",
    "    demographic_data.append(cur_demo)\n",
    "    diagnosis_data.append(cur_diag)\n",
    "    idx_list.append(cur_id+'_'+cur_episode)\n",
    "\n",
    "for each_idx in range(9,12):\n",
    "    cur_val = []\n",
    "    for i in range(len(demographic_data)):\n",
    "        cur_val.append(demographic_data[i][each_idx])\n",
    "    cur_val = np.array(cur_val)\n",
    "    _mean = np.mean(cur_val)\n",
    "    _std = np.std(cur_val)\n",
    "    _std = _std if _std > 1e-7 else 1e-7\n",
    "    for i in range(len(demographic_data)):\n",
    "        demographic_data[i][each_idx] = (demographic_data[i][each_idx] - _mean) / _std"
   ],
   "metadata": {
    "collapsed": false,
    "pycharm": {
     "name": "#%%\n"
    }
   }
  },
  {
   "cell_type": "code",
   "execution_count": 8,
   "outputs": [
    {
     "name": "stdout",
     "output_type": "stream",
     "text": [
      "available device: cpu\n"
     ]
    }
   ],
   "source": [
    "device = torch.device(\"cuda:0\" if torch.cuda.is_available() == True else 'cpu')\n",
    "#device = torch.device('cpu')\n",
    "print(\"available device: {}\".format(device))"
   ],
   "metadata": {
    "collapsed": false,
    "pycharm": {
     "name": "#%%\n"
    }
   }
  },
  {
   "cell_type": "code",
   "execution_count": 10,
   "outputs": [],
   "source": [
    "class SingleAttention(nn.Module):\n",
    "    def __init__(self, attention_input_dim, attention_hidden_dim, attention_type='add', demographic_dim=12, time_aware=False, use_demographic=False):\n",
    "        super(SingleAttention, self).__init__()\n",
    "\n",
    "        self.attention_type = attention_type\n",
    "        self.attention_hidden_dim = attention_hidden_dim\n",
    "        self.attention_input_dim = attention_input_dim\n",
    "        self.use_demographic = use_demographic\n",
    "        self.demographic_dim = demographic_dim\n",
    "        self.time_aware = time_aware\n",
    "\n",
    "        # batch_time = torch.arange(0, batch_mask.size()[1], dtype=torch.float32).reshape(1, batch_mask.size()[1], 1)\n",
    "        # batch_time = batch_time.repeat(batch_mask.size()[0], 1, 1)\n",
    "\n",
    "        if attention_type == 'add':\n",
    "            if self.time_aware == True:\n",
    "                # self.Wx = nn.Parameter(torch.randn(attention_input_dim+1, attention_hidden_dim))\n",
    "                self.Wx = nn.Parameter(torch.randn(attention_input_dim, attention_hidden_dim))\n",
    "                self.Wtime_aware = nn.Parameter(torch.randn(1, attention_hidden_dim))\n",
    "                nn.init.kaiming_uniform_(self.Wtime_aware, a=math.sqrt(5))\n",
    "            else:\n",
    "                self.Wx = nn.Parameter(torch.randn(attention_input_dim, attention_hidden_dim))\n",
    "            self.Wt = nn.Parameter(torch.randn(attention_input_dim, attention_hidden_dim))\n",
    "            self.Wd = nn.Parameter(torch.randn(demographic_dim, attention_hidden_dim))\n",
    "            self.bh = nn.Parameter(torch.zeros(attention_hidden_dim,))\n",
    "            self.Wa = nn.Parameter(torch.randn(attention_hidden_dim, 1))\n",
    "            self.ba = nn.Parameter(torch.zeros(1,))\n",
    "\n",
    "            nn.init.kaiming_uniform_(self.Wd, a=math.sqrt(5))\n",
    "            nn.init.kaiming_uniform_(self.Wx, a=math.sqrt(5))\n",
    "            nn.init.kaiming_uniform_(self.Wt, a=math.sqrt(5))\n",
    "            nn.init.kaiming_uniform_(self.Wa, a=math.sqrt(5))\n",
    "        elif attention_type == 'mul':\n",
    "            self.Wa = nn.Parameter(torch.randn(attention_input_dim, attention_input_dim))\n",
    "            self.ba = nn.Parameter(torch.zeros(1,))\n",
    "\n",
    "            nn.init.kaiming_uniform_(self.Wa, a=math.sqrt(5))\n",
    "        elif attention_type == 'concat':\n",
    "            if self.time_aware == True:\n",
    "                self.Wh = nn.Parameter(torch.randn(2*attention_input_dim+1, attention_hidden_dim))\n",
    "            else:\n",
    "                self.Wh = nn.Parameter(torch.randn(2*attention_input_dim, attention_hidden_dim))\n",
    "\n",
    "            self.Wa = nn.Parameter(torch.randn(attention_hidden_dim, 1))\n",
    "            self.ba = nn.Parameter(torch.zeros(1,))\n",
    "\n",
    "            nn.init.kaiming_uniform_(self.Wh, a=math.sqrt(5))\n",
    "            nn.init.kaiming_uniform_(self.Wa, a=math.sqrt(5))\n",
    "\n",
    "        elif attention_type == 'new':\n",
    "            self.Wt = nn.Parameter(torch.randn(attention_input_dim, attention_hidden_dim))\n",
    "            self.Wx = nn.Parameter(torch.randn(attention_input_dim, attention_hidden_dim))\n",
    "\n",
    "            self.rate = nn.Parameter(torch.zeros(1)+0.8)\n",
    "            nn.init.kaiming_uniform_(self.Wx, a=math.sqrt(5))\n",
    "            nn.init.kaiming_uniform_(self.Wt, a=math.sqrt(5))\n",
    "\n",
    "        else:\n",
    "            raise RuntimeError('Wrong attention type.')\n",
    "\n",
    "        self.tanh = nn.Tanh()\n",
    "        self.softmax = nn.Softmax()\n",
    "        self.sigmoid = nn.Sigmoid()\n",
    "        self.relu = nn.ReLU()\n",
    "\n",
    "    def forward(self, input, demo=None):\n",
    "\n",
    "        batch_size, time_step, input_dim = input.size() # batch_size * time_step * hidden_dim(i)\n",
    "        #assert(input_dim == self.input_dim)\n",
    "\n",
    "        # time_decays = torch.zeros((time_step,time_step)).to(device)# t*t\n",
    "        # for this_time in range(time_step):\n",
    "        #     for pre_time in range(time_step):\n",
    "        #         if pre_time > this_time:\n",
    "        #             break\n",
    "        #         time_decays[this_time][pre_time] = torch.tensor(this_time - pre_time, dtype=torch.float32).to(device)\n",
    "        # b_time_decays = tile(time_decays, 0, batch_size).view(batch_size,time_step,time_step).unsqueeze(-1).to(device)# b t t 1\n",
    "\n",
    "        time_decays = torch.tensor(range(47,-1,-1), dtype=torch.float32).unsqueeze(-1).unsqueeze(0).to(device)# 1*t*1\n",
    "        b_time_decays = time_decays.repeat(batch_size,1,1)+1# b t 1\n",
    "\n",
    "        if self.attention_type == 'add': #B*T*I  @ H*I\n",
    "            q = torch.matmul(input[:,-1,:], self.Wt)# b h\n",
    "            q = torch.reshape(q, (batch_size, 1, self.attention_hidden_dim)) #B*1*H\n",
    "            if self.time_aware == True:\n",
    "                # k_input = torch.cat((input, time), dim=-1)\n",
    "                k = torch.matmul(input, self.Wx)#b t h\n",
    "                # k = torch.reshape(k, (batch_size, 1, time_step, self.attention_hidden_dim)) #B*1*T*H\n",
    "                time_hidden = torch.matmul(b_time_decays, self.Wtime_aware)#  b t h\n",
    "            else:\n",
    "                k = torch.matmul(input, self.Wx)# b t h\n",
    "                # k = torch.reshape(k, (batch_size, 1, time_step, self.attention_hidden_dim)) #B*1*T*H\n",
    "            if self.use_demographic == True:\n",
    "                d = torch.matmul(demo, self.Wd) #B*H\n",
    "                d = torch.reshape(d, (batch_size, 1, self.attention_hidden_dim)) # b 1 h\n",
    "            h = q + k + self.bh # b t h\n",
    "            if self.time_aware == True:\n",
    "                h += time_hidden\n",
    "            h = self.tanh(h) #B*T*H\n",
    "            e = torch.matmul(h, self.Wa) + self.ba #B*T*1\n",
    "            e = torch.reshape(e, (batch_size, time_step))# b t\n",
    "        elif self.attention_type == 'mul':\n",
    "            e = torch.matmul(input[:,-1,:], self.Wa)#b i\n",
    "            e = torch.matmul(e.unsqueeze(1), input.permute(0,2,1)).squeeze() + self.ba #b t\n",
    "        elif self.attention_type == 'concat':\n",
    "            q = input[:,-1,:].unsqueeze(1).repeat(1,time_step,1)# b t i\n",
    "            k = input\n",
    "            c = torch.cat((q, k), dim=-1) #B*T*2I\n",
    "            if self.time_aware == True:\n",
    "                c = torch.cat((c, b_time_decays), dim=-1) #B*T*2I+1\n",
    "            h = torch.matmul(c, self.Wh)\n",
    "            h = self.tanh(h)\n",
    "            e = torch.matmul(h, self.Wa) + self.ba #B*T*1\n",
    "            e = torch.reshape(e, (batch_size, time_step)) # b t\n",
    "\n",
    "        elif self.attention_type == 'new':\n",
    "\n",
    "            q = torch.matmul(input[:,-1,:], self.Wt)# b h\n",
    "            q = torch.reshape(q, (batch_size, 1, self.attention_hidden_dim)) #B*1*H\n",
    "            k = torch.matmul(input, self.Wx)#b t h\n",
    "            dot_product = torch.matmul(q, k.transpose(1, 2)).squeeze() # b t\n",
    "            denominator =  self.sigmoid(self.rate) * (torch.log(2.72 +  (1-self.sigmoid(dot_product)))* (b_time_decays.squeeze()))\n",
    "            e = self.relu(self.sigmoid(dot_product)/(denominator)) # b * t\n",
    "        #          * (b_time_decays.squeeze())\n",
    "        # e = torch.exp(e - torch.max(e, dim=-1, keepdim=True).values)\n",
    "\n",
    "        # if self.attention_width is not None:\n",
    "        #     if self.history_only:\n",
    "        #         lower = torch.arange(0, time_step).to(device) - (self.attention_width - 1)\n",
    "        #     else:\n",
    "        #         lower = torch.arange(0, time_step).to(device) - self.attention_width // 2\n",
    "        #     lower = lower.unsqueeze(-1)\n",
    "        #     upper = lower + self.attention_width\n",
    "        #     indices = torch.arange(0, time_step).unsqueeze(0).to(device)\n",
    "        #     e = e * (lower <= indices).float() * (indices < upper).float()\n",
    "\n",
    "        # s = torch.sum(e, dim=-1, keepdim=True)\n",
    "        # mask = subsequent_mask(time_step).to(device) # 1 t t 下三角\n",
    "        # scores = e.masked_fill(mask == 0, -1e9)# b t t 下三角\n",
    "        a = self.softmax(e) #B*T\n",
    "        v = torch.matmul(a.unsqueeze(1), input).squeeze() #B*I\n",
    "\n",
    "        return v, a\n",
    "\n",
    "class FinalAttentionQKV(nn.Module):\n",
    "    def __init__(self, attention_input_dim, attention_hidden_dim, attention_type='add', dropout=None):\n",
    "        super(FinalAttentionQKV, self).__init__()\n",
    "\n",
    "        self.attention_type = attention_type\n",
    "        self.attention_hidden_dim = attention_hidden_dim\n",
    "        self.attention_input_dim = attention_input_dim\n",
    "\n",
    "\n",
    "        self.W_q = nn.Linear(attention_input_dim, attention_hidden_dim)\n",
    "        self.W_k = nn.Linear(attention_input_dim, attention_hidden_dim)\n",
    "        self.W_v = nn.Linear(attention_input_dim, attention_hidden_dim)\n",
    "\n",
    "        self.W_out = nn.Linear(attention_hidden_dim, 1)\n",
    "\n",
    "        self.b_in = nn.Parameter(torch.zeros(1,))\n",
    "        self.b_out = nn.Parameter(torch.zeros(1,))\n",
    "\n",
    "        nn.init.kaiming_uniform_(self.W_q.weight, a=math.sqrt(5))\n",
    "        nn.init.kaiming_uniform_(self.W_k.weight, a=math.sqrt(5))\n",
    "        nn.init.kaiming_uniform_(self.W_v.weight, a=math.sqrt(5))\n",
    "        nn.init.kaiming_uniform_(self.W_out.weight, a=math.sqrt(5))\n",
    "\n",
    "        self.Wh = nn.Parameter(torch.randn(2*attention_input_dim, attention_hidden_dim))\n",
    "        self.Wa = nn.Parameter(torch.randn(attention_hidden_dim, 1))\n",
    "        self.ba = nn.Parameter(torch.zeros(1,))\n",
    "\n",
    "        nn.init.kaiming_uniform_(self.Wh, a=math.sqrt(5))\n",
    "        nn.init.kaiming_uniform_(self.Wa, a=math.sqrt(5))\n",
    "\n",
    "        self.dropout = nn.Dropout(p=dropout)\n",
    "        self.tanh = nn.Tanh()\n",
    "        self.softmax = nn.Softmax()\n",
    "        self.sigmoid = nn.Sigmoid()\n",
    "\n",
    "    def forward(self, input):\n",
    "\n",
    "        batch_size, time_step, input_dim = input.size() # batch_size * input_dim + 1 * hidden_dim(i)\n",
    "        input_q = self.W_q(input[:, -1, :]) # b h\n",
    "        input_k = self.W_k(input)# b t h\n",
    "        input_v = self.W_v(input)# b t h\n",
    "\n",
    "        if self.attention_type == 'add': #B*T*I  @ H*I\n",
    "\n",
    "            q = torch.reshape(input_q, (batch_size, 1, self.attention_hidden_dim)) #B*1*H\n",
    "            h = q + input_k + self.b_in # b t h\n",
    "            h = self.tanh(h) #B*T*H\n",
    "            e = self.W_out(h) # b t 1\n",
    "            e = torch.reshape(e, (batch_size, time_step))# b t\n",
    "\n",
    "        elif self.attention_type == 'mul':\n",
    "            q = torch.reshape(input_q, (batch_size, self.attention_hidden_dim, 1)) #B*h 1\n",
    "            e = torch.matmul(input_k, q).squeeze()#b t\n",
    "\n",
    "        elif self.attention_type == 'concat':\n",
    "            q = input_q.unsqueeze(1).repeat(1,time_step,1)# b t h\n",
    "            k = input_k\n",
    "            c = torch.cat((q, k), dim=-1) #B*T*2I\n",
    "            h = torch.matmul(c, self.Wh)\n",
    "            h = self.tanh(h)\n",
    "            e = torch.matmul(h, self.Wa) + self.ba #B*T*1\n",
    "            e = torch.reshape(e, (batch_size, time_step)) # b t\n",
    "\n",
    "        a = self.softmax(e) #B*T\n",
    "        if self.dropout is not None:\n",
    "            a = self.dropout(a)\n",
    "        v = torch.matmul(a.unsqueeze(1), input_v).squeeze() #B*I\n",
    "\n",
    "        return v, a\n",
    "\n",
    "def clones(module, N):\n",
    "    \"Produce N identical layers.\"\n",
    "    return nn.ModuleList([copy.deepcopy(module) for _ in range(N)])\n",
    "\n",
    "def tile(a, dim, n_tile):\n",
    "    init_dim = a.size(dim)\n",
    "    repeat_idx = [1] * a.dim()\n",
    "    repeat_idx[dim] = n_tile\n",
    "    a = a.repeat(*(repeat_idx))\n",
    "    order_index = torch.LongTensor(np.concatenate([init_dim * np.arange(n_tile) + i for i in range(init_dim)])).to(device)\n",
    "    return torch.index_select(a, dim, order_index).to(device)\n",
    "\n",
    "class PositionwiseFeedForward(nn.Module): # new added\n",
    "    \"Implements FFN equation.\"\n",
    "    def __init__(self, d_model, d_ff, dropout=0.1):\n",
    "        super(PositionwiseFeedForward, self).__init__()\n",
    "        self.w_1 = nn.Linear(d_model, d_ff)\n",
    "        self.w_2 = nn.Linear(d_ff, d_model)\n",
    "        self.dropout = nn.Dropout(dropout)\n",
    "\n",
    "    def forward(self, x):\n",
    "        return self.w_2(self.dropout(F.relu(self.w_1(x)))), None\n",
    "\n",
    "# class PositionwiseFeedForwardConv(nn.Module):\n",
    "\n",
    "#     def __init__(self, model_dim=512, ffn_dim=2048, dropout=0.0):\n",
    "#         super(PositionalWiseFeedForward, self).__init__()\n",
    "#         self.w1 = nn.Conv1d(model_dim, ffn_dim, 1)\n",
    "#         self.w2 = nn.Conv1d(model_dim, ffn_dim, 1)\n",
    "#         self.dropout = nn.Dropout(dropout)\n",
    "#         self.layer_norm = nn.LayerNorm(model_dim)\n",
    "\n",
    "#     def forward(self, x):\n",
    "#         output = x.transpose(1, 2)\n",
    "#         output = self.w2(F.relu(self.w1(output)))\n",
    "#         output = self.dropout(output.transpose(1, 2))\n",
    "\n",
    "#         # add residual and norm layer\n",
    "#         output = self.layer_norm(x + output)\n",
    "#         return output\n",
    "\n",
    "class PositionalEncoding(nn.Module): # new added / not use anymore\n",
    "    \"Implement the PE function.\"\n",
    "    def __init__(self, d_model, dropout, max_len=400):\n",
    "        super(PositionalEncoding, self).__init__()\n",
    "        self.dropout = nn.Dropout(p=dropout)\n",
    "\n",
    "        # Compute the positional encodings once in log space.\n",
    "        pe = torch.zeros(max_len, d_model)\n",
    "        position = torch.arange(0., max_len).unsqueeze(1)\n",
    "        div_term = torch.exp(torch.arange(0., d_model, 2) * -(math.log(10000.0) / d_model))\n",
    "        pe[:, 0::2] = torch.sin(position * div_term)\n",
    "        pe[:, 1::2] = torch.cos(position * div_term)\n",
    "        pe = pe.unsqueeze(0)\n",
    "        self.register_buffer('pe', pe)\n",
    "\n",
    "    def forward(self, x):\n",
    "        x = x + Variable(self.pe[:, :x.size(1)],\n",
    "                         requires_grad=False)\n",
    "        return self.dropout(x)\n",
    "\n",
    "def subsequent_mask(size):\n",
    "    \"Mask out subsequent positions.\"\n",
    "    attn_shape = (1, size, size)\n",
    "    subsequent_mask = np.triu(np.ones(attn_shape), k=1).astype('uint8')\n",
    "    return torch.from_numpy(subsequent_mask) == 0 # 下三角矩阵\n",
    "\n",
    "def attention(query, key, value, mask=None, dropout=None):\n",
    "    \"Compute 'Scaled Dot Product Attention'\"\n",
    "    d_k = query.size(-1)# b h t d_k\n",
    "    scores = torch.matmul(query, key.transpose(-2, -1)) / math.sqrt(d_k) # b h t t\n",
    "    if mask is not None:# 1 1 t t\n",
    "        scores = scores.masked_fill(mask == 0, -1e9)# b h t t 下三角\n",
    "    p_attn = F.softmax(scores, dim = -1)# b h t t\n",
    "    if dropout is not None:\n",
    "        p_attn = dropout(p_attn)\n",
    "    return torch.matmul(p_attn, value), p_attn # b h t v (d_k)\n",
    "\n",
    "class MultiHeadedAttention(nn.Module):\n",
    "    def __init__(self, h, d_model, dropout=0):\n",
    "        \"Take in model size and number of heads.\"\n",
    "        super(MultiHeadedAttention, self).__init__()\n",
    "        assert d_model % h == 0\n",
    "        # We assume d_v always equals d_k\n",
    "        self.d_k = d_model // h\n",
    "        self.h = h\n",
    "        self.linears = clones(nn.Linear(d_model, self.d_k * self.h), 3)\n",
    "        self.final_linear = nn.Linear(d_model, d_model)\n",
    "        self.attn = None\n",
    "        self.dropout = nn.Dropout(p=dropout)\n",
    "\n",
    "    def forward(self, query, key, value, mask=None):\n",
    "        if mask is not None:\n",
    "            # Same mask applied to all h heads.\n",
    "            mask = mask.unsqueeze(1) # 1 1 t t\n",
    "\n",
    "        nbatches = query.size(0)# b\n",
    "        input_dim = query.size(1)# i+1\n",
    "        feature_dim = query.size(-1)# i+1\n",
    "\n",
    "        #input size -> # batch_size * d_input * hidden_dim\n",
    "\n",
    "        # d_model => h * d_k\n",
    "        query, key, value = [l(x).view(nbatches, -1, self.h, self.d_k).transpose(1, 2)\n",
    "             for l, x in zip(self.linears, (query, key, value))] # b num_head d_input d_k\n",
    "\n",
    "\n",
    "        x, self.attn = attention(query, key, value, mask=mask,\n",
    "                                 dropout=self.dropout)# b num_head d_input d_v (d_k)\n",
    "\n",
    "\n",
    "        x = x.transpose(1, 2).contiguous().view(nbatches, -1, self.h * self.d_k)# batch_size * d_input * hidden_dim\n",
    "\n",
    "        #DeCov\n",
    "        DeCov_contexts = x.transpose(0, 1).transpose(1, 2) # I+1 H B\n",
    "        Covs = cov(DeCov_contexts[0,:,:])\n",
    "        DeCov_loss = 0.5 * (torch.norm(Covs, p = 'fro')**2 - torch.norm(torch.diag(Covs))**2 )\n",
    "        for i in range(feature_dim -1 + 1):\n",
    "            Covs = cov(DeCov_contexts[i+1,:,:])\n",
    "            DeCov_loss += 0.5 * (torch.norm(Covs, p = 'fro')**2 - torch.norm(torch.diag(Covs))**2 )\n",
    "\n",
    "\n",
    "        return self.final_linear(x), DeCov_loss\n",
    "\n",
    "class LayerNorm(nn.Module):\n",
    "    def __init__(self, features, eps=1e-7):\n",
    "        super(LayerNorm, self).__init__()\n",
    "        self.a_2 = nn.Parameter(torch.ones(features))\n",
    "        self.b_2 = nn.Parameter(torch.zeros(features))\n",
    "        self.eps = eps\n",
    "\n",
    "    def forward(self, x):\n",
    "        mean = x.mean(-1, keepdim=True)\n",
    "        std = x.std(-1, keepdim=True)\n",
    "        return self.a_2 * (x - mean) / (std + self.eps) + self.b_2\n",
    "\n",
    "def cov(m, y=None):\n",
    "    if y is not None:\n",
    "        m = torch.cat((m, y), dim=0)\n",
    "    m_exp = torch.mean(m, dim=1)\n",
    "    x = m - m_exp[:, None]\n",
    "    cov = 1 / (x.size(1) - 1) * x.mm(x.t())\n",
    "    return cov\n",
    "\n",
    "class SublayerConnection(nn.Module):\n",
    "    \"\"\"\n",
    "    A residual connection followed by a layer norm.\n",
    "    Note for code simplicity the norm is first as opposed to last.\n",
    "    \"\"\"\n",
    "    def __init__(self, size, dropout):\n",
    "        super(SublayerConnection, self).__init__()\n",
    "        self.norm = LayerNorm(size)\n",
    "        self.dropout = nn.Dropout(dropout)\n",
    "\n",
    "    def forward(self, x, sublayer):\n",
    "        \"Apply residual connection to any sublayer with the same size.\"\n",
    "        returned_value = sublayer(self.norm(x))\n",
    "        return x + self.dropout(returned_value[0]) , returned_value[1]\n",
    "\n",
    "class ConCare(nn.Module):\n",
    "    def __init__(self, input_dim, hidden_dim, d_model,  MHD_num_head, d_ff, output_dim, keep_prob=0.5):\n",
    "        super(ConCare, self).__init__()\n",
    "\n",
    "        # hyperparameters\n",
    "        self.input_dim = input_dim\n",
    "        self.hidden_dim = hidden_dim  # d_model\n",
    "        self.d_model = d_model\n",
    "        self.MHD_num_head = MHD_num_head\n",
    "        self.d_ff = d_ff\n",
    "        self.output_dim = output_dim\n",
    "        self.keep_prob = keep_prob\n",
    "\n",
    "        # layers\n",
    "        self.PositionalEncoding = PositionalEncoding(self.d_model, dropout = 0, max_len = 400)\n",
    "\n",
    "        self.GRUs = clones(nn.GRU(1, self.hidden_dim, batch_first = True), self.input_dim)\n",
    "        self.LastStepAttentions = clones(SingleAttention(self.hidden_dim, 8, attention_type='new', demographic_dim=12, time_aware=True, use_demographic=False),self.input_dim)\n",
    "\n",
    "        self.FinalAttentionQKV = FinalAttentionQKV(self.hidden_dim, self.hidden_dim, attention_type='mul',dropout = 1 - self.keep_prob)\n",
    "\n",
    "        self.MultiHeadedAttention = MultiHeadedAttention(self.MHD_num_head, self.d_model,dropout = 1 - self.keep_prob)\n",
    "        self.SublayerConnection = SublayerConnection(self.d_model, dropout = 1 - self.keep_prob)\n",
    "\n",
    "        self.PositionwiseFeedForward = PositionwiseFeedForward(self.d_model, self.d_ff, dropout=0.1)\n",
    "\n",
    "        self.demo_proj_main = nn.Linear(12, self.hidden_dim)\n",
    "        self.demo_proj = nn.Linear(12, self.hidden_dim)\n",
    "        self.output0 = nn.Linear(self.hidden_dim, self.hidden_dim)\n",
    "        self.output1 = nn.Linear(self.hidden_dim, self.output_dim)\n",
    "\n",
    "        self.dropout = nn.Dropout(p = 1 - self.keep_prob)\n",
    "        self.tanh=nn.Tanh()\n",
    "        self.softmax = nn.Softmax()\n",
    "        self.sigmoid = nn.Sigmoid()\n",
    "        self.relu=nn.ReLU()\n",
    "\n",
    "    def forward(self, input, demo_input):\n",
    "        # input shape [batch_size, timestep, feature_dim]\n",
    "        demo_main = self.tanh(self.demo_proj_main(demo_input)).unsqueeze(1)# b hidden_dim\n",
    "\n",
    "        batch_size = input.size(0)\n",
    "        time_step = input.size(1)\n",
    "        feature_dim = input.size(2)\n",
    "        assert(feature_dim == self.input_dim)# input Tensor : 256 * 48 * 76\n",
    "        assert(self.d_model % self.MHD_num_head == 0)\n",
    "\n",
    "        # Initialization\n",
    "        #cur_hs = Variable(torch.zeros(batch_size, self.hidden_dim).unsqueeze(0))\n",
    "\n",
    "        # forward\n",
    "        GRU_embeded_input = self.GRUs[0](input[:,:,0].unsqueeze(-1), Variable(torch.zeros(batch_size, self.hidden_dim).unsqueeze(0)).to(device))[0] # b t h\n",
    "        Attention_embeded_input = self.LastStepAttentions[0](GRU_embeded_input)[0].unsqueeze(1)# b 1 h\n",
    "        for i in range(feature_dim-1):\n",
    "            embeded_input = self.GRUs[i+1](input[:,:,i+1].unsqueeze(-1), Variable(torch.zeros(batch_size, self.hidden_dim).unsqueeze(0)).to(device))[0] # b 1 h\n",
    "            embeded_input = self.LastStepAttentions[i+1](embeded_input)[0].unsqueeze(1)# b 1 h\n",
    "            Attention_embeded_input = torch.cat((Attention_embeded_input, embeded_input), 1)# b i h\n",
    "\n",
    "        Attention_embeded_input = torch.cat((Attention_embeded_input, demo_main), 1)# b i+1 h\n",
    "        posi_input = self.dropout(Attention_embeded_input) # batch_size * d_input+1 * hidden_dim\n",
    "\n",
    "        #         GRU_embeded_input = self.GRUs[0](input[:,:,0].unsqueeze(-1), Variable(torch.zeros(batch_size, self.hidden_dim).unsqueeze(0)).to(device))[0][:,-1,:].unsqueeze(1) # b 1 h\n",
    "        #         for i in range(feature_dim-1):\n",
    "        #             embeded_input = self.GRUs[i+1](input[:,:,i+1].unsqueeze(-1), Variable(torch.zeros(batch_size, self.hidden_dim).unsqueeze(0)).to(device))[0][:,-1,:].unsqueeze(1) # b 1 h\n",
    "        #             GRU_embeded_input = torch.cat((GRU_embeded_input, embeded_input), 1)\n",
    "\n",
    "        #         GRU_embeded_input = torch.cat((GRU_embeded_input, demo_main), 1)# b i+1 h\n",
    "        #         posi_input = self.dropout(GRU_embeded_input) # batch_size * d_input * hidden_dim\n",
    "\n",
    "\n",
    "        #mask = subsequent_mask(time_step).to(device) # 1 t t 下三角 N to 1任务不用mask\n",
    "        contexts = self.SublayerConnection(posi_input, lambda x: self.MultiHeadedAttention(posi_input, posi_input, posi_input, None))# # batch_size * d_input * hidden_dim\n",
    "\n",
    "        DeCov_loss = contexts[1]\n",
    "        contexts = contexts[0]\n",
    "\n",
    "        contexts = self.SublayerConnection(contexts, lambda x: self.PositionwiseFeedForward(contexts))[0]# # batch_size * d_input * hidden_dim\n",
    "        #contexts = contexts.view(batch_size, feature_dim * self.hidden_dim)#\n",
    "        # contexts = torch.matmul(self.Wproj, contexts) + self.bproj\n",
    "        # contexts = contexts.squeeze()\n",
    "        # demo_key = self.demo_proj(demo_input)# b hidden_dim\n",
    "        # demo_key = self.relu(demo_key)\n",
    "        # input_dim_scores = torch.matmul(contexts, demo_key.unsqueeze(-1)).squeeze() # b i\n",
    "        # input_dim_scores = self.dropout(self.sigmoid(input_dim_scores)).unsqueeze(1)# b i\n",
    "\n",
    "        # weighted_contexts = torch.matmul(input_dim_scores, contexts).squeeze()\n",
    "\n",
    "        weighted_contexts = self.FinalAttentionQKV(contexts)[0]\n",
    "        output = self.output1(self.relu(self.output0(weighted_contexts)))# b 1\n",
    "        output = self.sigmoid(output)\n",
    "\n",
    "        return output, DeCov_loss\n",
    "    #, self.MultiHeadedAttention.attn\n"
   ],
   "metadata": {
    "collapsed": false,
    "pycharm": {
     "name": "#%%\n"
    }
   }
  },
  {
   "cell_type": "code",
   "execution_count": 11,
   "outputs": [],
   "source": [
    "def get_loss(y_pred, y_true):\n",
    "    loss = torch.nn.BCELoss()\n",
    "    return loss(y_pred, y_true)"
   ],
   "metadata": {
    "collapsed": false,
    "pycharm": {
     "name": "#%%\n"
    }
   }
  },
  {
   "cell_type": "code",
   "execution_count": 12,
   "outputs": [],
   "source": [
    "class Dataset(data.Dataset):\n",
    "    def __init__(self, x, y, name):\n",
    "        self.x = x\n",
    "        self.y = y\n",
    "        self.name = name\n",
    "\n",
    "    def __getitem__(self, index):#返回的是tensor\n",
    "        return self.x[index], self.y[index], self.name[index]\n",
    "\n",
    "    def __len__(self):\n",
    "        return len(self.x)"
   ],
   "metadata": {
    "collapsed": false,
    "pycharm": {
     "name": "#%%\n"
    }
   }
  },
  {
   "cell_type": "code",
   "execution_count": 13,
   "outputs": [],
   "source": [
    "train_dataset = Dataset(train_raw['data'][0], train_raw['data'][1], train_raw['names'])\n",
    "train_loader = torch.utils.data.DataLoader(train_dataset, batch_size=batch_size, shuffle=True)\n",
    "valid_dataset = Dataset(val_raw['data'][0], val_raw['data'][1], val_raw['names'])\n",
    "valid_loader = torch.utils.data.DataLoader(valid_dataset, batch_size=batch_size, shuffle=False)"
   ],
   "metadata": {
    "collapsed": false,
    "pycharm": {
     "name": "#%%\n"
    }
   }
  },
  {
   "cell_type": "code",
   "execution_count": 15,
   "outputs": [
    {
     "name": "stderr",
     "output_type": "stream",
     "text": [
      "C:\\Users\\berse\\anaconda3\\envs\\ConCare2\\lib\\site-packages\\ipykernel_launcher.py:140: UserWarning: Implicit dimension choice for softmax has been deprecated. Change the call to include dim=X as an argument.\n",
      "C:\\Users\\berse\\anaconda3\\envs\\ConCare2\\lib\\site-packages\\ipykernel_launcher.py:208: UserWarning: Implicit dimension choice for softmax has been deprecated. Change the call to include dim=X as an argument.\n"
     ]
    },
    {
     "name": "stdout",
     "output_type": "stream",
     "text": [
      "Epoch 0 Batch 0: Train Loss = 0.9473\n",
      "Model Loss = 0.7090, Decov Loss = 0.0003\n",
      "\n",
      "==>Predicting on validation\n",
      "Valid Loss = 0.6479\n",
      "valid_model Loss = 0.6479\n",
      "valid_decov Loss = 0.0000\n",
      "confusion matrix:\n",
      "[[859   0]\n",
      " [141   0]]\n",
      "accuracy = 0.859000027179718\n",
      "precision class 0 = 0.859000027179718\n",
      "precision class 1 = nan\n",
      "recall class 0 = 1.0\n",
      "recall class 1 = 0.0\n",
      "AUC of ROC = 0.5325671447089226\n",
      "AUC of PRC = 0.15720638865426895\n",
      "min(+P, Se) = 0.19742489270386265\n",
      "f1_score = nan\n",
      "\n",
      "\n",
      "------------ Save best model ------------\n",
      "\n"
     ]
    },
    {
     "name": "stderr",
     "output_type": "stream",
     "text": [
      "C:\\work\\code\\ConCareUs\\utils\\metrics.py:23: RuntimeWarning: invalid value encountered in float_scalars\n",
      "  prec1 = cf[1][1] / (cf[1][1] + cf[0][1])\n",
      "C:\\Users\\berse\\anaconda3\\envs\\ConCare2\\lib\\site-packages\\ipykernel_launcher.py:140: UserWarning: Implicit dimension choice for softmax has been deprecated. Change the call to include dim=X as an argument.\n",
      "C:\\Users\\berse\\anaconda3\\envs\\ConCare2\\lib\\site-packages\\ipykernel_launcher.py:208: UserWarning: Implicit dimension choice for softmax has been deprecated. Change the call to include dim=X as an argument.\n"
     ]
    },
    {
     "name": "stdout",
     "output_type": "stream",
     "text": [
      "Epoch 1 Batch 0: Train Loss = 0.7230\n",
      "Model Loss = 0.6472, Decov Loss = 0.0001\n",
      "\n",
      "==>Predicting on validation\n",
      "Valid Loss = 0.5955\n",
      "valid_model Loss = 0.5955\n",
      "valid_decov Loss = 0.0000\n",
      "confusion matrix:\n",
      "[[859   0]\n",
      " [141   0]]\n",
      "accuracy = 0.859000027179718\n",
      "precision class 0 = 0.859000027179718\n",
      "precision class 1 = nan\n",
      "recall class 0 = 1.0\n",
      "recall class 1 = 0.0\n",
      "AUC of ROC = 0.45294297343934475\n",
      "AUC of PRC = 0.13560424385323075\n",
      "min(+P, Se) = 0.14393939393939395\n",
      "f1_score = nan\n",
      "\n"
     ]
    },
    {
     "name": "stderr",
     "output_type": "stream",
     "text": [
      "C:\\work\\code\\ConCareUs\\utils\\metrics.py:23: RuntimeWarning: invalid value encountered in float_scalars\n",
      "  prec1 = cf[1][1] / (cf[1][1] + cf[0][1])\n",
      "C:\\Users\\berse\\anaconda3\\envs\\ConCare2\\lib\\site-packages\\ipykernel_launcher.py:140: UserWarning: Implicit dimension choice for softmax has been deprecated. Change the call to include dim=X as an argument.\n",
      "C:\\Users\\berse\\anaconda3\\envs\\ConCare2\\lib\\site-packages\\ipykernel_launcher.py:208: UserWarning: Implicit dimension choice for softmax has been deprecated. Change the call to include dim=X as an argument.\n"
     ]
    },
    {
     "name": "stdout",
     "output_type": "stream",
     "text": [
      "Epoch 2 Batch 0: Train Loss = 0.6205\n",
      "Model Loss = 0.5914, Decov Loss = 0.0000\n",
      "\n",
      "==>Predicting on validation\n",
      "Valid Loss = 0.5189\n",
      "valid_model Loss = 0.5189\n",
      "valid_decov Loss = 0.0000\n",
      "confusion matrix:\n",
      "[[859   0]\n",
      " [141   0]]\n",
      "accuracy = 0.859000027179718\n",
      "precision class 0 = 0.859000027179718\n",
      "precision class 1 = nan\n",
      "recall class 0 = 1.0\n",
      "recall class 1 = 0.0\n",
      "AUC of ROC = 0.44409217381253147\n",
      "AUC of PRC = 0.1354248010115906\n",
      "min(+P, Se) = 0.14583333333333334\n",
      "f1_score = nan\n",
      "\n"
     ]
    },
    {
     "name": "stderr",
     "output_type": "stream",
     "text": [
      "C:\\work\\code\\ConCareUs\\utils\\metrics.py:23: RuntimeWarning: invalid value encountered in float_scalars\n",
      "  prec1 = cf[1][1] / (cf[1][1] + cf[0][1])\n",
      "C:\\Users\\berse\\anaconda3\\envs\\ConCare2\\lib\\site-packages\\ipykernel_launcher.py:140: UserWarning: Implicit dimension choice for softmax has been deprecated. Change the call to include dim=X as an argument.\n",
      "C:\\Users\\berse\\anaconda3\\envs\\ConCare2\\lib\\site-packages\\ipykernel_launcher.py:208: UserWarning: Implicit dimension choice for softmax has been deprecated. Change the call to include dim=X as an argument.\n"
     ]
    },
    {
     "name": "stdout",
     "output_type": "stream",
     "text": [
      "Epoch 3 Batch 0: Train Loss = 0.5476\n",
      "Model Loss = 0.5317, Decov Loss = 0.0000\n",
      "\n",
      "==>Predicting on validation\n",
      "Valid Loss = 0.4315\n",
      "valid_model Loss = 0.4315\n",
      "valid_decov Loss = 0.0000\n",
      "confusion matrix:\n",
      "[[859   0]\n",
      " [141   0]]\n",
      "accuracy = 0.859000027179718\n",
      "precision class 0 = 0.859000027179718\n",
      "precision class 1 = nan\n",
      "recall class 0 = 1.0\n",
      "recall class 1 = 0.0\n",
      "AUC of ROC = 0.5365343174894113\n",
      "AUC of PRC = 0.1833143056728533\n",
      "min(+P, Se) = 0.23076923076923078\n",
      "f1_score = nan\n",
      "\n",
      "\n",
      "------------ Save best model ------------\n",
      "\n"
     ]
    },
    {
     "name": "stderr",
     "output_type": "stream",
     "text": [
      "C:\\work\\code\\ConCareUs\\utils\\metrics.py:23: RuntimeWarning: invalid value encountered in float_scalars\n",
      "  prec1 = cf[1][1] / (cf[1][1] + cf[0][1])\n",
      "C:\\Users\\berse\\anaconda3\\envs\\ConCare2\\lib\\site-packages\\ipykernel_launcher.py:140: UserWarning: Implicit dimension choice for softmax has been deprecated. Change the call to include dim=X as an argument.\n",
      "C:\\Users\\berse\\anaconda3\\envs\\ConCare2\\lib\\site-packages\\ipykernel_launcher.py:208: UserWarning: Implicit dimension choice for softmax has been deprecated. Change the call to include dim=X as an argument.\n"
     ]
    },
    {
     "name": "stdout",
     "output_type": "stream",
     "text": [
      "Epoch 4 Batch 0: Train Loss = 0.4521\n",
      "Model Loss = 0.4397, Decov Loss = 0.0000\n",
      "\n",
      "==>Predicting on validation\n",
      "Valid Loss = 0.4061\n",
      "valid_model Loss = 0.4061\n",
      "valid_decov Loss = 0.0000\n",
      "confusion matrix:\n",
      "[[859   0]\n",
      " [141   0]]\n",
      "accuracy = 0.859000027179718\n",
      "precision class 0 = 0.859000027179718\n",
      "precision class 1 = nan\n",
      "recall class 0 = 1.0\n",
      "recall class 1 = 0.0\n",
      "AUC of ROC = 0.6151759839496693\n",
      "AUC of PRC = 0.23040968356819963\n",
      "min(+P, Se) = 0.2905405405405405\n",
      "f1_score = nan\n",
      "\n",
      "\n",
      "------------ Save best model ------------\n",
      "\n"
     ]
    },
    {
     "name": "stderr",
     "output_type": "stream",
     "text": [
      "C:\\work\\code\\ConCareUs\\utils\\metrics.py:23: RuntimeWarning: invalid value encountered in float_scalars\n",
      "  prec1 = cf[1][1] / (cf[1][1] + cf[0][1])\n",
      "C:\\Users\\berse\\anaconda3\\envs\\ConCare2\\lib\\site-packages\\ipykernel_launcher.py:140: UserWarning: Implicit dimension choice for softmax has been deprecated. Change the call to include dim=X as an argument.\n",
      "C:\\Users\\berse\\anaconda3\\envs\\ConCare2\\lib\\site-packages\\ipykernel_launcher.py:208: UserWarning: Implicit dimension choice for softmax has been deprecated. Change the call to include dim=X as an argument.\n"
     ]
    },
    {
     "name": "stdout",
     "output_type": "stream",
     "text": [
      "Epoch 5 Batch 0: Train Loss = 0.4034\n",
      "Model Loss = 0.3934, Decov Loss = 0.0000\n",
      "\n",
      "==>Predicting on validation\n",
      "Valid Loss = 0.4062\n",
      "valid_model Loss = 0.4062\n",
      "valid_decov Loss = 0.0000\n",
      "confusion matrix:\n",
      "[[859   0]\n",
      " [141   0]]\n",
      "accuracy = 0.859000027179718\n",
      "precision class 0 = 0.859000027179718\n",
      "precision class 1 = nan\n",
      "recall class 0 = 1.0\n",
      "recall class 1 = 0.0\n",
      "AUC of ROC = 0.6319776418233307\n",
      "AUC of PRC = 0.24631389290127276\n",
      "min(+P, Se) = 0.2789115646258503\n",
      "f1_score = nan\n",
      "\n",
      "\n",
      "------------ Save best model ------------\n",
      "\n"
     ]
    },
    {
     "name": "stderr",
     "output_type": "stream",
     "text": [
      "C:\\work\\code\\ConCareUs\\utils\\metrics.py:23: RuntimeWarning: invalid value encountered in float_scalars\n",
      "  prec1 = cf[1][1] / (cf[1][1] + cf[0][1])\n",
      "C:\\Users\\berse\\anaconda3\\envs\\ConCare2\\lib\\site-packages\\ipykernel_launcher.py:140: UserWarning: Implicit dimension choice for softmax has been deprecated. Change the call to include dim=X as an argument.\n",
      "C:\\Users\\berse\\anaconda3\\envs\\ConCare2\\lib\\site-packages\\ipykernel_launcher.py:208: UserWarning: Implicit dimension choice for softmax has been deprecated. Change the call to include dim=X as an argument.\n"
     ]
    },
    {
     "name": "stdout",
     "output_type": "stream",
     "text": [
      "Epoch 6 Batch 0: Train Loss = 0.4352\n",
      "Model Loss = 0.4257, Decov Loss = 0.0000\n",
      "\n",
      "==>Predicting on validation\n",
      "Valid Loss = 0.4093\n",
      "valid_model Loss = 0.4093\n",
      "valid_decov Loss = 0.0000\n",
      "confusion matrix:\n",
      "[[859   0]\n",
      " [141   0]]\n",
      "accuracy = 0.859000027179718\n",
      "precision class 0 = 0.859000027179718\n",
      "precision class 1 = nan\n",
      "recall class 0 = 1.0\n",
      "recall class 1 = 0.0\n",
      "AUC of ROC = 0.6506700022292127\n",
      "AUC of PRC = 0.26060765910272843\n",
      "min(+P, Se) = 0.3120567375886525\n",
      "f1_score = nan\n",
      "\n",
      "\n",
      "------------ Save best model ------------\n"
     ]
    },
    {
     "name": "stderr",
     "output_type": "stream",
     "text": [
      "C:\\work\\code\\ConCareUs\\utils\\metrics.py:23: RuntimeWarning: invalid value encountered in float_scalars\n",
      "  prec1 = cf[1][1] / (cf[1][1] + cf[0][1])\n"
     ]
    },
    {
     "name": "stdout",
     "output_type": "stream",
     "text": [
      "\n"
     ]
    },
    {
     "name": "stderr",
     "output_type": "stream",
     "text": [
      "C:\\Users\\berse\\anaconda3\\envs\\ConCare2\\lib\\site-packages\\ipykernel_launcher.py:140: UserWarning: Implicit dimension choice for softmax has been deprecated. Change the call to include dim=X as an argument.\n",
      "C:\\Users\\berse\\anaconda3\\envs\\ConCare2\\lib\\site-packages\\ipykernel_launcher.py:208: UserWarning: Implicit dimension choice for softmax has been deprecated. Change the call to include dim=X as an argument.\n"
     ]
    },
    {
     "name": "stdout",
     "output_type": "stream",
     "text": [
      "Epoch 7 Batch 0: Train Loss = 0.4018\n",
      "Model Loss = 0.3940, Decov Loss = 0.0000\n",
      "\n",
      "==>Predicting on validation\n",
      "Valid Loss = 0.4144\n",
      "valid_model Loss = 0.4144\n",
      "valid_decov Loss = 0.0000\n",
      "confusion matrix:\n",
      "[[859   0]\n",
      " [141   0]]\n",
      "accuracy = 0.859000027179718\n",
      "precision class 0 = 0.859000027179718\n",
      "precision class 1 = nan\n",
      "recall class 0 = 1.0\n",
      "recall class 1 = 0.0\n",
      "AUC of ROC = 0.6713149877393307\n",
      "AUC of PRC = 0.2818520127437688\n",
      "min(+P, Se) = 0.3380281690140845\n",
      "f1_score = nan\n",
      "\n",
      "\n",
      "------------ Save best model ------------\n",
      "\n"
     ]
    },
    {
     "name": "stderr",
     "output_type": "stream",
     "text": [
      "C:\\work\\code\\ConCareUs\\utils\\metrics.py:23: RuntimeWarning: invalid value encountered in float_scalars\n",
      "  prec1 = cf[1][1] / (cf[1][1] + cf[0][1])\n",
      "C:\\Users\\berse\\anaconda3\\envs\\ConCare2\\lib\\site-packages\\ipykernel_launcher.py:140: UserWarning: Implicit dimension choice for softmax has been deprecated. Change the call to include dim=X as an argument.\n",
      "C:\\Users\\berse\\anaconda3\\envs\\ConCare2\\lib\\site-packages\\ipykernel_launcher.py:208: UserWarning: Implicit dimension choice for softmax has been deprecated. Change the call to include dim=X as an argument.\n"
     ]
    },
    {
     "name": "stdout",
     "output_type": "stream",
     "text": [
      "Epoch 8 Batch 0: Train Loss = 0.4087\n",
      "Model Loss = 0.4010, Decov Loss = 0.0000\n",
      "\n",
      "==>Predicting on validation\n",
      "Valid Loss = 0.4101\n",
      "valid_model Loss = 0.4101\n",
      "valid_decov Loss = 0.0000\n",
      "confusion matrix:\n",
      "[[859   0]\n",
      " [141   0]]\n",
      "accuracy = 0.859000027179718\n",
      "precision class 0 = 0.859000027179718\n",
      "precision class 1 = nan\n",
      "recall class 0 = 1.0\n",
      "recall class 1 = 0.0\n",
      "AUC of ROC = 0.6962326307185496\n",
      "AUC of PRC = 0.3112755264831296\n",
      "min(+P, Se) = 0.38028169014084506\n",
      "f1_score = nan\n",
      "\n",
      "\n",
      "------------ Save best model ------------\n",
      "\n"
     ]
    },
    {
     "name": "stderr",
     "output_type": "stream",
     "text": [
      "C:\\work\\code\\ConCareUs\\utils\\metrics.py:23: RuntimeWarning: invalid value encountered in float_scalars\n",
      "  prec1 = cf[1][1] / (cf[1][1] + cf[0][1])\n",
      "C:\\Users\\berse\\anaconda3\\envs\\ConCare2\\lib\\site-packages\\ipykernel_launcher.py:140: UserWarning: Implicit dimension choice for softmax has been deprecated. Change the call to include dim=X as an argument.\n",
      "C:\\Users\\berse\\anaconda3\\envs\\ConCare2\\lib\\site-packages\\ipykernel_launcher.py:208: UserWarning: Implicit dimension choice for softmax has been deprecated. Change the call to include dim=X as an argument.\n"
     ]
    },
    {
     "name": "stdout",
     "output_type": "stream",
     "text": [
      "Epoch 9 Batch 0: Train Loss = 0.4097\n",
      "Model Loss = 0.4030, Decov Loss = 0.0000\n",
      "\n",
      "==>Predicting on validation\n",
      "Valid Loss = 0.4060\n",
      "valid_model Loss = 0.4060\n",
      "valid_decov Loss = 0.0000\n",
      "confusion matrix:\n",
      "[[859   0]\n",
      " [141   0]]\n",
      "accuracy = 0.859000027179718\n",
      "precision class 0 = 0.859000027179718\n",
      "precision class 1 = nan\n",
      "recall class 0 = 1.0\n",
      "recall class 1 = 0.0\n",
      "AUC of ROC = 0.7158662142190738\n",
      "AUC of PRC = 0.3359543371864415\n",
      "min(+P, Se) = 0.41134751773049644\n",
      "f1_score = nan\n",
      "\n",
      "\n",
      "------------ Save best model ------------\n",
      "\n"
     ]
    },
    {
     "name": "stderr",
     "output_type": "stream",
     "text": [
      "C:\\work\\code\\ConCareUs\\utils\\metrics.py:23: RuntimeWarning: invalid value encountered in float_scalars\n",
      "  prec1 = cf[1][1] / (cf[1][1] + cf[0][1])\n",
      "C:\\Users\\berse\\anaconda3\\envs\\ConCare2\\lib\\site-packages\\ipykernel_launcher.py:140: UserWarning: Implicit dimension choice for softmax has been deprecated. Change the call to include dim=X as an argument.\n",
      "C:\\Users\\berse\\anaconda3\\envs\\ConCare2\\lib\\site-packages\\ipykernel_launcher.py:208: UserWarning: Implicit dimension choice for softmax has been deprecated. Change the call to include dim=X as an argument.\n"
     ]
    },
    {
     "name": "stdout",
     "output_type": "stream",
     "text": [
      "Epoch 10 Batch 0: Train Loss = 0.4078\n",
      "Model Loss = 0.4017, Decov Loss = 0.0000\n",
      "\n",
      "==>Predicting on validation\n",
      "Valid Loss = 0.4056\n",
      "valid_model Loss = 0.4056\n",
      "valid_decov Loss = 0.0000\n",
      "confusion matrix:\n",
      "[[859   0]\n",
      " [141   0]]\n",
      "accuracy = 0.859000027179718\n",
      "precision class 0 = 0.859000027179718\n",
      "precision class 1 = nan\n",
      "recall class 0 = 1.0\n",
      "recall class 1 = 0.0\n",
      "AUC of ROC = 0.7269792518102032\n",
      "AUC of PRC = 0.35590406261365576\n",
      "min(+P, Se) = 0.4025974025974026\n",
      "f1_score = nan\n",
      "\n",
      "\n",
      "------------ Save best model ------------\n",
      "\n"
     ]
    },
    {
     "name": "stderr",
     "output_type": "stream",
     "text": [
      "C:\\work\\code\\ConCareUs\\utils\\metrics.py:23: RuntimeWarning: invalid value encountered in float_scalars\n",
      "  prec1 = cf[1][1] / (cf[1][1] + cf[0][1])\n",
      "C:\\Users\\berse\\anaconda3\\envs\\ConCare2\\lib\\site-packages\\ipykernel_launcher.py:140: UserWarning: Implicit dimension choice for softmax has been deprecated. Change the call to include dim=X as an argument.\n",
      "C:\\Users\\berse\\anaconda3\\envs\\ConCare2\\lib\\site-packages\\ipykernel_launcher.py:208: UserWarning: Implicit dimension choice for softmax has been deprecated. Change the call to include dim=X as an argument.\n"
     ]
    },
    {
     "name": "stdout",
     "output_type": "stream",
     "text": [
      "Epoch 11 Batch 0: Train Loss = 0.4268\n",
      "Model Loss = 0.4212, Decov Loss = 0.0000\n",
      "\n",
      "==>Predicting on validation\n",
      "Valid Loss = 0.4052\n",
      "valid_model Loss = 0.4052\n",
      "valid_decov Loss = 0.0000\n",
      "confusion matrix:\n",
      "[[859   0]\n",
      " [141   0]]\n",
      "accuracy = 0.859000027179718\n",
      "precision class 0 = 0.859000027179718\n",
      "precision class 1 = nan\n",
      "recall class 0 = 1.0\n",
      "recall class 1 = 0.0\n",
      "AUC of ROC = 0.7328082299226379\n",
      "AUC of PRC = 0.3670721772705472\n",
      "min(+P, Se) = 0.3945578231292517\n",
      "f1_score = nan\n",
      "\n",
      "\n",
      "------------ Save best model ------------\n"
     ]
    },
    {
     "name": "stderr",
     "output_type": "stream",
     "text": [
      "C:\\work\\code\\ConCareUs\\utils\\metrics.py:23: RuntimeWarning: invalid value encountered in float_scalars\n",
      "  prec1 = cf[1][1] / (cf[1][1] + cf[0][1])\n"
     ]
    },
    {
     "name": "stdout",
     "output_type": "stream",
     "text": [
      "\n"
     ]
    },
    {
     "name": "stderr",
     "output_type": "stream",
     "text": [
      "C:\\Users\\berse\\anaconda3\\envs\\ConCare2\\lib\\site-packages\\ipykernel_launcher.py:140: UserWarning: Implicit dimension choice for softmax has been deprecated. Change the call to include dim=X as an argument.\n",
      "C:\\Users\\berse\\anaconda3\\envs\\ConCare2\\lib\\site-packages\\ipykernel_launcher.py:208: UserWarning: Implicit dimension choice for softmax has been deprecated. Change the call to include dim=X as an argument.\n"
     ]
    },
    {
     "name": "stdout",
     "output_type": "stream",
     "text": [
      "Epoch 12 Batch 0: Train Loss = 0.4454\n",
      "Model Loss = 0.4403, Decov Loss = 0.0000\n",
      "\n",
      "==>Predicting on validation\n",
      "Valid Loss = 0.4063\n",
      "valid_model Loss = 0.4063\n",
      "valid_decov Loss = 0.0000\n",
      "confusion matrix:\n",
      "[[859   0]\n",
      " [141   0]]\n",
      "accuracy = 0.859000027179718\n",
      "precision class 0 = 0.859000027179718\n",
      "precision class 1 = nan\n",
      "recall class 0 = 1.0\n",
      "recall class 1 = 0.0\n",
      "AUC of ROC = 0.7371758353354965\n",
      "AUC of PRC = 0.37676800230614305\n",
      "min(+P, Se) = 0.3900709219858156\n",
      "f1_score = nan\n",
      "\n",
      "\n",
      "------------ Save best model ------------\n"
     ]
    },
    {
     "name": "stderr",
     "output_type": "stream",
     "text": [
      "C:\\work\\code\\ConCareUs\\utils\\metrics.py:23: RuntimeWarning: invalid value encountered in float_scalars\n",
      "  prec1 = cf[1][1] / (cf[1][1] + cf[0][1])\n"
     ]
    },
    {
     "name": "stdout",
     "output_type": "stream",
     "text": [
      "\n"
     ]
    },
    {
     "name": "stderr",
     "output_type": "stream",
     "text": [
      "C:\\Users\\berse\\anaconda3\\envs\\ConCare2\\lib\\site-packages\\ipykernel_launcher.py:140: UserWarning: Implicit dimension choice for softmax has been deprecated. Change the call to include dim=X as an argument.\n",
      "C:\\Users\\berse\\anaconda3\\envs\\ConCare2\\lib\\site-packages\\ipykernel_launcher.py:208: UserWarning: Implicit dimension choice for softmax has been deprecated. Change the call to include dim=X as an argument.\n"
     ]
    },
    {
     "name": "stdout",
     "output_type": "stream",
     "text": [
      "Epoch 13 Batch 0: Train Loss = 0.4525\n",
      "Model Loss = 0.4480, Decov Loss = 0.0000\n",
      "\n",
      "==>Predicting on validation\n",
      "Valid Loss = 0.4073\n",
      "valid_model Loss = 0.4073\n",
      "valid_decov Loss = 0.0000\n",
      "confusion matrix:\n",
      "[[859   0]\n",
      " [141   0]]\n",
      "accuracy = 0.859000027179718\n",
      "precision class 0 = 0.859000027179718\n",
      "precision class 1 = nan\n",
      "recall class 0 = 1.0\n",
      "recall class 1 = 0.0\n",
      "AUC of ROC = 0.7409077023423246\n",
      "AUC of PRC = 0.3888267359171856\n",
      "min(+P, Se) = 0.40425531914893614\n",
      "f1_score = nan\n",
      "\n",
      "\n",
      "------------ Save best model ------------\n",
      "\n"
     ]
    },
    {
     "name": "stderr",
     "output_type": "stream",
     "text": [
      "C:\\work\\code\\ConCareUs\\utils\\metrics.py:23: RuntimeWarning: invalid value encountered in float_scalars\n",
      "  prec1 = cf[1][1] / (cf[1][1] + cf[0][1])\n",
      "C:\\Users\\berse\\anaconda3\\envs\\ConCare2\\lib\\site-packages\\ipykernel_launcher.py:140: UserWarning: Implicit dimension choice for softmax has been deprecated. Change the call to include dim=X as an argument.\n",
      "C:\\Users\\berse\\anaconda3\\envs\\ConCare2\\lib\\site-packages\\ipykernel_launcher.py:208: UserWarning: Implicit dimension choice for softmax has been deprecated. Change the call to include dim=X as an argument.\n"
     ]
    },
    {
     "name": "stdout",
     "output_type": "stream",
     "text": [
      "Epoch 14 Batch 0: Train Loss = 0.3917\n",
      "Model Loss = 0.3876, Decov Loss = 0.0000\n",
      "\n",
      "==>Predicting on validation\n",
      "Valid Loss = 0.4057\n",
      "valid_model Loss = 0.4057\n",
      "valid_decov Loss = 0.0000\n",
      "confusion matrix:\n",
      "[[859   0]\n",
      " [141   0]]\n",
      "accuracy = 0.859000027179718\n",
      "precision class 0 = 0.859000027179718\n",
      "precision class 1 = nan\n",
      "recall class 0 = 1.0\n",
      "recall class 1 = 0.0\n",
      "AUC of ROC = 0.7430130697908668\n",
      "AUC of PRC = 0.39440824246316214\n",
      "min(+P, Se) = 0.3971631205673759\n",
      "f1_score = nan\n",
      "\n",
      "\n",
      "------------ Save best model ------------\n",
      "\n"
     ]
    },
    {
     "name": "stderr",
     "output_type": "stream",
     "text": [
      "C:\\work\\code\\ConCareUs\\utils\\metrics.py:23: RuntimeWarning: invalid value encountered in float_scalars\n",
      "  prec1 = cf[1][1] / (cf[1][1] + cf[0][1])\n",
      "C:\\Users\\berse\\anaconda3\\envs\\ConCare2\\lib\\site-packages\\ipykernel_launcher.py:140: UserWarning: Implicit dimension choice for softmax has been deprecated. Change the call to include dim=X as an argument.\n",
      "C:\\Users\\berse\\anaconda3\\envs\\ConCare2\\lib\\site-packages\\ipykernel_launcher.py:208: UserWarning: Implicit dimension choice for softmax has been deprecated. Change the call to include dim=X as an argument.\n"
     ]
    },
    {
     "name": "stdout",
     "output_type": "stream",
     "text": [
      "Epoch 15 Batch 0: Train Loss = 0.4125\n",
      "Model Loss = 0.4087, Decov Loss = 0.0000\n",
      "\n",
      "==>Predicting on validation\n",
      "Valid Loss = 0.4051\n",
      "valid_model Loss = 0.4051\n",
      "valid_decov Loss = 0.0000\n",
      "confusion matrix:\n",
      "[[859   0]\n",
      " [141   0]]\n",
      "accuracy = 0.859000027179718\n",
      "precision class 0 = 0.859000027179718\n",
      "precision class 1 = nan\n",
      "recall class 0 = 1.0\n",
      "recall class 1 = 0.0\n",
      "AUC of ROC = 0.7427571231598676\n",
      "AUC of PRC = 0.39359207172215593\n",
      "min(+P, Se) = 0.3945578231292517\n",
      "f1_score = nan\n",
      "\n"
     ]
    },
    {
     "name": "stderr",
     "output_type": "stream",
     "text": [
      "C:\\work\\code\\ConCareUs\\utils\\metrics.py:23: RuntimeWarning: invalid value encountered in float_scalars\n",
      "  prec1 = cf[1][1] / (cf[1][1] + cf[0][1])\n",
      "C:\\Users\\berse\\anaconda3\\envs\\ConCare2\\lib\\site-packages\\ipykernel_launcher.py:140: UserWarning: Implicit dimension choice for softmax has been deprecated. Change the call to include dim=X as an argument.\n",
      "C:\\Users\\berse\\anaconda3\\envs\\ConCare2\\lib\\site-packages\\ipykernel_launcher.py:208: UserWarning: Implicit dimension choice for softmax has been deprecated. Change the call to include dim=X as an argument.\n"
     ]
    },
    {
     "name": "stdout",
     "output_type": "stream",
     "text": [
      "Epoch 16 Batch 0: Train Loss = 0.4006\n",
      "Model Loss = 0.3971, Decov Loss = 0.0000\n",
      "\n",
      "==>Predicting on validation\n",
      "Valid Loss = 0.4048\n",
      "valid_model Loss = 0.4048\n",
      "valid_decov Loss = 0.0000\n",
      "confusion matrix:\n",
      "[[859   0]\n",
      " [141   0]]\n",
      "accuracy = 0.859000027179718\n",
      "precision class 0 = 0.859000027179718\n",
      "precision class 1 = nan\n",
      "recall class 0 = 1.0\n",
      "recall class 1 = 0.0\n",
      "AUC of ROC = 0.7421255129253048\n",
      "AUC of PRC = 0.3915784120074775\n",
      "min(+P, Se) = 0.3971631205673759\n",
      "f1_score = nan\n",
      "\n"
     ]
    },
    {
     "name": "stderr",
     "output_type": "stream",
     "text": [
      "C:\\work\\code\\ConCareUs\\utils\\metrics.py:23: RuntimeWarning: invalid value encountered in float_scalars\n",
      "  prec1 = cf[1][1] / (cf[1][1] + cf[0][1])\n",
      "C:\\Users\\berse\\anaconda3\\envs\\ConCare2\\lib\\site-packages\\ipykernel_launcher.py:140: UserWarning: Implicit dimension choice for softmax has been deprecated. Change the call to include dim=X as an argument.\n",
      "C:\\Users\\berse\\anaconda3\\envs\\ConCare2\\lib\\site-packages\\ipykernel_launcher.py:208: UserWarning: Implicit dimension choice for softmax has been deprecated. Change the call to include dim=X as an argument.\n"
     ]
    },
    {
     "name": "stdout",
     "output_type": "stream",
     "text": [
      "Epoch 17 Batch 0: Train Loss = 0.3718\n",
      "Model Loss = 0.3684, Decov Loss = 0.0000\n",
      "\n",
      "==>Predicting on validation\n",
      "Valid Loss = 0.4047\n",
      "valid_model Loss = 0.4047\n",
      "valid_decov Loss = 0.0000\n",
      "confusion matrix:\n",
      "[[859   0]\n",
      " [141   0]]\n",
      "accuracy = 0.859000027179718\n",
      "precision class 0 = 0.859000027179718\n",
      "precision class 1 = nan\n",
      "recall class 0 = 1.0\n",
      "recall class 1 = 0.0\n",
      "AUC of ROC = 0.7409407277140664\n",
      "AUC of PRC = 0.3877741672840581\n",
      "min(+P, Se) = 0.3972602739726027\n",
      "f1_score = nan\n",
      "\n"
     ]
    },
    {
     "name": "stderr",
     "output_type": "stream",
     "text": [
      "C:\\work\\code\\ConCareUs\\utils\\metrics.py:23: RuntimeWarning: invalid value encountered in float_scalars\n",
      "  prec1 = cf[1][1] / (cf[1][1] + cf[0][1])\n",
      "C:\\Users\\berse\\anaconda3\\envs\\ConCare2\\lib\\site-packages\\ipykernel_launcher.py:140: UserWarning: Implicit dimension choice for softmax has been deprecated. Change the call to include dim=X as an argument.\n",
      "C:\\Users\\berse\\anaconda3\\envs\\ConCare2\\lib\\site-packages\\ipykernel_launcher.py:208: UserWarning: Implicit dimension choice for softmax has been deprecated. Change the call to include dim=X as an argument.\n"
     ]
    },
    {
     "name": "stdout",
     "output_type": "stream",
     "text": [
      "Epoch 18 Batch 0: Train Loss = 0.3665\n",
      "Model Loss = 0.3634, Decov Loss = 0.0000\n",
      "\n",
      "==>Predicting on validation\n",
      "Valid Loss = 0.4050\n",
      "valid_model Loss = 0.4050\n",
      "valid_decov Loss = 0.0000\n",
      "confusion matrix:\n",
      "[[859   0]\n",
      " [141   0]]\n",
      "accuracy = 0.859000027179718\n",
      "precision class 0 = 0.859000027179718\n",
      "precision class 1 = nan\n",
      "recall class 0 = 1.0\n",
      "recall class 1 = 0.0\n",
      "AUC of ROC = 0.7391573576400069\n",
      "AUC of PRC = 0.38083411703974357\n",
      "min(+P, Se) = 0.40425531914893614\n",
      "f1_score = nan\n",
      "\n"
     ]
    },
    {
     "name": "stderr",
     "output_type": "stream",
     "text": [
      "C:\\work\\code\\ConCareUs\\utils\\metrics.py:23: RuntimeWarning: invalid value encountered in float_scalars\n",
      "  prec1 = cf[1][1] / (cf[1][1] + cf[0][1])\n",
      "C:\\Users\\berse\\anaconda3\\envs\\ConCare2\\lib\\site-packages\\ipykernel_launcher.py:140: UserWarning: Implicit dimension choice for softmax has been deprecated. Change the call to include dim=X as an argument.\n",
      "C:\\Users\\berse\\anaconda3\\envs\\ConCare2\\lib\\site-packages\\ipykernel_launcher.py:208: UserWarning: Implicit dimension choice for softmax has been deprecated. Change the call to include dim=X as an argument.\n"
     ]
    },
    {
     "name": "stdout",
     "output_type": "stream",
     "text": [
      "Epoch 19 Batch 0: Train Loss = 0.4033\n",
      "Model Loss = 0.4002, Decov Loss = 0.0000\n",
      "\n",
      "==>Predicting on validation\n",
      "Valid Loss = 0.4059\n",
      "valid_model Loss = 0.4059\n",
      "valid_decov Loss = 0.0000\n",
      "confusion matrix:\n",
      "[[859   0]\n",
      " [141   0]]\n",
      "accuracy = 0.859000027179718\n",
      "precision class 0 = 0.859000027179718\n",
      "precision class 1 = nan\n",
      "recall class 0 = 1.0\n",
      "recall class 1 = 0.0\n",
      "AUC of ROC = 0.7357392316647265\n",
      "AUC of PRC = 0.37265444943956394\n",
      "min(+P, Se) = 0.4041095890410959\n",
      "f1_score = nan\n",
      "\n"
     ]
    },
    {
     "name": "stderr",
     "output_type": "stream",
     "text": [
      "C:\\work\\code\\ConCareUs\\utils\\metrics.py:23: RuntimeWarning: invalid value encountered in float_scalars\n",
      "  prec1 = cf[1][1] / (cf[1][1] + cf[0][1])\n",
      "C:\\Users\\berse\\anaconda3\\envs\\ConCare2\\lib\\site-packages\\ipykernel_launcher.py:140: UserWarning: Implicit dimension choice for softmax has been deprecated. Change the call to include dim=X as an argument.\n",
      "C:\\Users\\berse\\anaconda3\\envs\\ConCare2\\lib\\site-packages\\ipykernel_launcher.py:208: UserWarning: Implicit dimension choice for softmax has been deprecated. Change the call to include dim=X as an argument.\n"
     ]
    },
    {
     "name": "stdout",
     "output_type": "stream",
     "text": [
      "Epoch 20 Batch 0: Train Loss = 0.3617\n",
      "Model Loss = 0.3589, Decov Loss = 0.0000\n",
      "\n",
      "==>Predicting on validation\n",
      "Valid Loss = 0.4043\n",
      "valid_model Loss = 0.4043\n",
      "valid_decov Loss = 0.0000\n",
      "confusion matrix:\n",
      "[[859   0]\n",
      " [141   0]]\n",
      "accuracy = 0.859000027179718\n",
      "precision class 0 = 0.859000027179718\n",
      "precision class 1 = nan\n",
      "recall class 0 = 1.0\n",
      "recall class 1 = 0.0\n",
      "AUC of ROC = 0.732056902715511\n",
      "AUC of PRC = 0.36246923855130014\n",
      "min(+P, Se) = 0.3986013986013986\n",
      "f1_score = nan\n",
      "\n"
     ]
    },
    {
     "name": "stderr",
     "output_type": "stream",
     "text": [
      "C:\\work\\code\\ConCareUs\\utils\\metrics.py:23: RuntimeWarning: invalid value encountered in float_scalars\n",
      "  prec1 = cf[1][1] / (cf[1][1] + cf[0][1])\n",
      "C:\\Users\\berse\\anaconda3\\envs\\ConCare2\\lib\\site-packages\\ipykernel_launcher.py:140: UserWarning: Implicit dimension choice for softmax has been deprecated. Change the call to include dim=X as an argument.\n",
      "C:\\Users\\berse\\anaconda3\\envs\\ConCare2\\lib\\site-packages\\ipykernel_launcher.py:208: UserWarning: Implicit dimension choice for softmax has been deprecated. Change the call to include dim=X as an argument.\n"
     ]
    },
    {
     "name": "stdout",
     "output_type": "stream",
     "text": [
      "Epoch 21 Batch 0: Train Loss = 0.4099\n",
      "Model Loss = 0.4073, Decov Loss = 0.0000\n",
      "\n",
      "==>Predicting on validation\n",
      "Valid Loss = 0.4044\n",
      "valid_model Loss = 0.4044\n",
      "valid_decov Loss = 0.0000\n",
      "confusion matrix:\n",
      "[[859   0]\n",
      " [141   0]]\n",
      "accuracy = 0.859000027179718\n",
      "precision class 0 = 0.859000027179718\n",
      "precision class 1 = nan\n",
      "recall class 0 = 1.0\n",
      "recall class 1 = 0.0\n",
      "AUC of ROC = 0.7311156796208688\n",
      "AUC of PRC = 0.36365953747405444\n",
      "min(+P, Se) = 0.3931034482758621\n",
      "f1_score = nan\n",
      "\n"
     ]
    },
    {
     "name": "stderr",
     "output_type": "stream",
     "text": [
      "C:\\work\\code\\ConCareUs\\utils\\metrics.py:23: RuntimeWarning: invalid value encountered in float_scalars\n",
      "  prec1 = cf[1][1] / (cf[1][1] + cf[0][1])\n",
      "C:\\Users\\berse\\anaconda3\\envs\\ConCare2\\lib\\site-packages\\ipykernel_launcher.py:140: UserWarning: Implicit dimension choice for softmax has been deprecated. Change the call to include dim=X as an argument.\n",
      "C:\\Users\\berse\\anaconda3\\envs\\ConCare2\\lib\\site-packages\\ipykernel_launcher.py:208: UserWarning: Implicit dimension choice for softmax has been deprecated. Change the call to include dim=X as an argument.\n"
     ]
    },
    {
     "name": "stdout",
     "output_type": "stream",
     "text": [
      "Epoch 22 Batch 0: Train Loss = 0.4297\n",
      "Model Loss = 0.4271, Decov Loss = 0.0000\n",
      "\n",
      "==>Predicting on validation\n",
      "Valid Loss = 0.4036\n",
      "valid_model Loss = 0.4036\n",
      "valid_decov Loss = 0.0000\n",
      "confusion matrix:\n",
      "[[859   0]\n",
      " [141   0]]\n",
      "accuracy = 0.859000027179718\n",
      "precision class 0 = 0.859000027179718\n",
      "precision class 1 = nan\n",
      "recall class 0 = 1.0\n",
      "recall class 1 = 0.0\n",
      "AUC of ROC = 0.725790338427497\n",
      "AUC of PRC = 0.3607634561381753\n",
      "min(+P, Se) = 0.3900709219858156\n",
      "f1_score = nan\n",
      "\n"
     ]
    },
    {
     "name": "stderr",
     "output_type": "stream",
     "text": [
      "C:\\work\\code\\ConCareUs\\utils\\metrics.py:23: RuntimeWarning: invalid value encountered in float_scalars\n",
      "  prec1 = cf[1][1] / (cf[1][1] + cf[0][1])\n",
      "C:\\Users\\berse\\anaconda3\\envs\\ConCare2\\lib\\site-packages\\ipykernel_launcher.py:140: UserWarning: Implicit dimension choice for softmax has been deprecated. Change the call to include dim=X as an argument.\n",
      "C:\\Users\\berse\\anaconda3\\envs\\ConCare2\\lib\\site-packages\\ipykernel_launcher.py:208: UserWarning: Implicit dimension choice for softmax has been deprecated. Change the call to include dim=X as an argument.\n"
     ]
    },
    {
     "name": "stdout",
     "output_type": "stream",
     "text": [
      "Epoch 23 Batch 0: Train Loss = 0.3973\n",
      "Model Loss = 0.3947, Decov Loss = 0.0000\n",
      "\n",
      "==>Predicting on validation\n",
      "Valid Loss = 0.4030\n",
      "valid_model Loss = 0.4030\n",
      "valid_decov Loss = 0.0000\n",
      "confusion matrix:\n",
      "[[859   0]\n",
      " [141   0]]\n",
      "accuracy = 0.859000027179718\n",
      "precision class 0 = 0.859000027179718\n",
      "precision class 1 = nan\n",
      "recall class 0 = 1.0\n",
      "recall class 1 = 0.0\n",
      "AUC of ROC = 0.7183637579570504\n",
      "AUC of PRC = 0.34946221400413335\n",
      "min(+P, Se) = 0.3829787234042553\n",
      "f1_score = nan\n",
      "\n"
     ]
    },
    {
     "name": "stderr",
     "output_type": "stream",
     "text": [
      "C:\\work\\code\\ConCareUs\\utils\\metrics.py:23: RuntimeWarning: invalid value encountered in float_scalars\n",
      "  prec1 = cf[1][1] / (cf[1][1] + cf[0][1])\n",
      "C:\\Users\\berse\\anaconda3\\envs\\ConCare2\\lib\\site-packages\\ipykernel_launcher.py:140: UserWarning: Implicit dimension choice for softmax has been deprecated. Change the call to include dim=X as an argument.\n",
      "C:\\Users\\berse\\anaconda3\\envs\\ConCare2\\lib\\site-packages\\ipykernel_launcher.py:208: UserWarning: Implicit dimension choice for softmax has been deprecated. Change the call to include dim=X as an argument.\n"
     ]
    },
    {
     "name": "stdout",
     "output_type": "stream",
     "text": [
      "Epoch 24 Batch 0: Train Loss = 0.4132\n",
      "Model Loss = 0.4107, Decov Loss = 0.0000\n",
      "\n",
      "==>Predicting on validation\n",
      "Valid Loss = 0.4030\n",
      "valid_model Loss = 0.4030\n",
      "valid_decov Loss = 0.0000\n",
      "confusion matrix:\n",
      "[[859   0]\n",
      " [141   0]]\n",
      "accuracy = 0.859000027179718\n",
      "precision class 0 = 0.859000027179718\n",
      "precision class 1 = nan\n",
      "recall class 0 = 1.0\n",
      "recall class 1 = 0.0\n",
      "AUC of ROC = 0.7158290606758642\n",
      "AUC of PRC = 0.3400345233548855\n",
      "min(+P, Se) = 0.3829787234042553\n",
      "f1_score = nan\n",
      "\n"
     ]
    },
    {
     "name": "stderr",
     "output_type": "stream",
     "text": [
      "C:\\work\\code\\ConCareUs\\utils\\metrics.py:23: RuntimeWarning: invalid value encountered in float_scalars\n",
      "  prec1 = cf[1][1] / (cf[1][1] + cf[0][1])\n",
      "C:\\Users\\berse\\anaconda3\\envs\\ConCare2\\lib\\site-packages\\ipykernel_launcher.py:140: UserWarning: Implicit dimension choice for softmax has been deprecated. Change the call to include dim=X as an argument.\n",
      "C:\\Users\\berse\\anaconda3\\envs\\ConCare2\\lib\\site-packages\\ipykernel_launcher.py:208: UserWarning: Implicit dimension choice for softmax has been deprecated. Change the call to include dim=X as an argument.\n"
     ]
    },
    {
     "name": "stdout",
     "output_type": "stream",
     "text": [
      "Epoch 25 Batch 0: Train Loss = 0.4275\n",
      "Model Loss = 0.4251, Decov Loss = 0.0000\n",
      "\n",
      "==>Predicting on validation\n",
      "Valid Loss = 0.4024\n",
      "valid_model Loss = 0.4024\n",
      "valid_decov Loss = 0.0000\n",
      "confusion matrix:\n",
      "[[859   0]\n",
      " [141   0]]\n",
      "accuracy = 0.859000027179718\n",
      "precision class 0 = 0.859000027179718\n",
      "precision class 1 = nan\n",
      "recall class 0 = 1.0\n",
      "recall class 1 = 0.0\n",
      "AUC of ROC = 0.709731751418027\n",
      "AUC of PRC = 0.3289783043964702\n",
      "min(+P, Se) = 0.36879432624113473\n",
      "f1_score = nan\n",
      "\n"
     ]
    },
    {
     "name": "stderr",
     "output_type": "stream",
     "text": [
      "C:\\work\\code\\ConCareUs\\utils\\metrics.py:23: RuntimeWarning: invalid value encountered in float_scalars\n",
      "  prec1 = cf[1][1] / (cf[1][1] + cf[0][1])\n",
      "C:\\Users\\berse\\anaconda3\\envs\\ConCare2\\lib\\site-packages\\ipykernel_launcher.py:140: UserWarning: Implicit dimension choice for softmax has been deprecated. Change the call to include dim=X as an argument.\n",
      "C:\\Users\\berse\\anaconda3\\envs\\ConCare2\\lib\\site-packages\\ipykernel_launcher.py:208: UserWarning: Implicit dimension choice for softmax has been deprecated. Change the call to include dim=X as an argument.\n"
     ]
    },
    {
     "name": "stdout",
     "output_type": "stream",
     "text": [
      "Epoch 26 Batch 0: Train Loss = 0.5395\n",
      "Model Loss = 0.5371, Decov Loss = 0.0000\n",
      "\n",
      "==>Predicting on validation\n",
      "Valid Loss = 0.4019\n",
      "valid_model Loss = 0.4019\n",
      "valid_decov Loss = 0.0000\n",
      "confusion matrix:\n",
      "[[859   0]\n",
      " [141   0]]\n",
      "accuracy = 0.859000027179718\n",
      "precision class 0 = 0.859000027179718\n",
      "precision class 1 = nan\n",
      "recall class 0 = 1.0\n",
      "recall class 1 = 0.0\n",
      "AUC of ROC = 0.7031514460984651\n",
      "AUC of PRC = 0.317940579301071\n",
      "min(+P, Se) = 0.35664335664335667\n",
      "f1_score = nan\n",
      "\n"
     ]
    },
    {
     "name": "stderr",
     "output_type": "stream",
     "text": [
      "C:\\work\\code\\ConCareUs\\utils\\metrics.py:23: RuntimeWarning: invalid value encountered in float_scalars\n",
      "  prec1 = cf[1][1] / (cf[1][1] + cf[0][1])\n",
      "C:\\Users\\berse\\anaconda3\\envs\\ConCare2\\lib\\site-packages\\ipykernel_launcher.py:140: UserWarning: Implicit dimension choice for softmax has been deprecated. Change the call to include dim=X as an argument.\n",
      "C:\\Users\\berse\\anaconda3\\envs\\ConCare2\\lib\\site-packages\\ipykernel_launcher.py:208: UserWarning: Implicit dimension choice for softmax has been deprecated. Change the call to include dim=X as an argument.\n"
     ]
    },
    {
     "name": "stdout",
     "output_type": "stream",
     "text": [
      "Epoch 27 Batch 0: Train Loss = 0.4127\n",
      "Model Loss = 0.4104, Decov Loss = 0.0000\n",
      "\n",
      "==>Predicting on validation\n",
      "Valid Loss = 0.4003\n",
      "valid_model Loss = 0.4003\n",
      "valid_decov Loss = 0.0000\n",
      "confusion matrix:\n",
      "[[859   0]\n",
      " [141   0]]\n",
      "accuracy = 0.859000027179718\n",
      "precision class 0 = 0.859000027179718\n",
      "precision class 1 = nan\n",
      "recall class 0 = 1.0\n",
      "recall class 1 = 0.0\n",
      "AUC of ROC = 0.6920796902220131\n",
      "AUC of PRC = 0.30316246659454443\n",
      "min(+P, Se) = 0.3561643835616438\n",
      "f1_score = nan\n",
      "\n"
     ]
    },
    {
     "name": "stderr",
     "output_type": "stream",
     "text": [
      "C:\\work\\code\\ConCareUs\\utils\\metrics.py:23: RuntimeWarning: invalid value encountered in float_scalars\n",
      "  prec1 = cf[1][1] / (cf[1][1] + cf[0][1])\n",
      "C:\\Users\\berse\\anaconda3\\envs\\ConCare2\\lib\\site-packages\\ipykernel_launcher.py:140: UserWarning: Implicit dimension choice for softmax has been deprecated. Change the call to include dim=X as an argument.\n",
      "C:\\Users\\berse\\anaconda3\\envs\\ConCare2\\lib\\site-packages\\ipykernel_launcher.py:208: UserWarning: Implicit dimension choice for softmax has been deprecated. Change the call to include dim=X as an argument.\n"
     ]
    },
    {
     "name": "stdout",
     "output_type": "stream",
     "text": [
      "Epoch 28 Batch 0: Train Loss = 0.4324\n",
      "Model Loss = 0.4299, Decov Loss = 0.0000\n",
      "\n",
      "==>Predicting on validation\n",
      "Valid Loss = 0.3984\n",
      "valid_model Loss = 0.3984\n",
      "valid_decov Loss = 0.0000\n",
      "confusion matrix:\n",
      "[[859   0]\n",
      " [141   0]]\n",
      "accuracy = 0.859000027179718\n",
      "precision class 0 = 0.859000027179718\n",
      "precision class 1 = nan\n",
      "recall class 0 = 1.0\n",
      "recall class 1 = 0.0\n",
      "AUC of ROC = 0.6861020979367399\n",
      "AUC of PRC = 0.30873568336711754\n",
      "min(+P, Se) = 0.3475177304964539\n",
      "f1_score = nan\n",
      "\n"
     ]
    },
    {
     "name": "stderr",
     "output_type": "stream",
     "text": [
      "C:\\work\\code\\ConCareUs\\utils\\metrics.py:23: RuntimeWarning: invalid value encountered in float_scalars\n",
      "  prec1 = cf[1][1] / (cf[1][1] + cf[0][1])\n",
      "C:\\Users\\berse\\anaconda3\\envs\\ConCare2\\lib\\site-packages\\ipykernel_launcher.py:140: UserWarning: Implicit dimension choice for softmax has been deprecated. Change the call to include dim=X as an argument.\n",
      "C:\\Users\\berse\\anaconda3\\envs\\ConCare2\\lib\\site-packages\\ipykernel_launcher.py:208: UserWarning: Implicit dimension choice for softmax has been deprecated. Change the call to include dim=X as an argument.\n"
     ]
    },
    {
     "name": "stdout",
     "output_type": "stream",
     "text": [
      "Epoch 29 Batch 0: Train Loss = 0.4069\n",
      "Model Loss = 0.4044, Decov Loss = 0.0000\n",
      "\n",
      "==>Predicting on validation\n",
      "Valid Loss = 0.3927\n",
      "valid_model Loss = 0.3927\n",
      "valid_decov Loss = 0.0000\n",
      "confusion matrix:\n",
      "[[859   0]\n",
      " [141   0]]\n",
      "accuracy = 0.859000027179718\n",
      "precision class 0 = 0.859000027179718\n",
      "precision class 1 = nan\n",
      "recall class 0 = 1.0\n",
      "recall class 1 = 0.0\n",
      "AUC of ROC = 0.6881166456129921\n",
      "AUC of PRC = 0.31282560265261194\n",
      "min(+P, Se) = 0.3422818791946309\n",
      "f1_score = nan\n",
      "\n"
     ]
    },
    {
     "name": "stderr",
     "output_type": "stream",
     "text": [
      "C:\\work\\code\\ConCareUs\\utils\\metrics.py:23: RuntimeWarning: invalid value encountered in float_scalars\n",
      "  prec1 = cf[1][1] / (cf[1][1] + cf[0][1])\n",
      "C:\\Users\\berse\\anaconda3\\envs\\ConCare2\\lib\\site-packages\\ipykernel_launcher.py:140: UserWarning: Implicit dimension choice for softmax has been deprecated. Change the call to include dim=X as an argument.\n",
      "C:\\Users\\berse\\anaconda3\\envs\\ConCare2\\lib\\site-packages\\ipykernel_launcher.py:208: UserWarning: Implicit dimension choice for softmax has been deprecated. Change the call to include dim=X as an argument.\n"
     ]
    },
    {
     "name": "stdout",
     "output_type": "stream",
     "text": [
      "Epoch 30 Batch 0: Train Loss = 0.3961\n",
      "Model Loss = 0.3935, Decov Loss = 0.0000\n",
      "\n",
      "==>Predicting on validation\n",
      "Valid Loss = 0.3980\n",
      "valid_model Loss = 0.3980\n",
      "valid_decov Loss = 0.0000\n",
      "confusion matrix:\n",
      "[[832  27]\n",
      " [122  19]]\n",
      "accuracy = 0.8510000109672546\n",
      "precision class 0 = 0.8721174001693726\n",
      "precision class 1 = 0.41304346919059753\n",
      "recall class 0 = 0.9685680866241455\n",
      "recall class 1 = 0.13475176692008972\n",
      "AUC of ROC = 0.6479990752895911\n",
      "AUC of PRC = 0.28330105604643796\n",
      "min(+P, Se) = 0.2978723404255319\n",
      "f1_score = 0.20320854808233624\n",
      "\n"
     ]
    },
    {
     "name": "stderr",
     "output_type": "stream",
     "text": [
      "C:\\Users\\berse\\anaconda3\\envs\\ConCare2\\lib\\site-packages\\ipykernel_launcher.py:140: UserWarning: Implicit dimension choice for softmax has been deprecated. Change the call to include dim=X as an argument.\n",
      "C:\\Users\\berse\\anaconda3\\envs\\ConCare2\\lib\\site-packages\\ipykernel_launcher.py:208: UserWarning: Implicit dimension choice for softmax has been deprecated. Change the call to include dim=X as an argument.\n"
     ]
    },
    {
     "name": "stdout",
     "output_type": "stream",
     "text": [
      "Epoch 31 Batch 0: Train Loss = 0.4321\n",
      "Model Loss = 0.4282, Decov Loss = 0.0000\n",
      "\n",
      "==>Predicting on validation\n",
      "Valid Loss = 0.3817\n",
      "valid_model Loss = 0.3817\n",
      "valid_decov Loss = 0.0000\n",
      "confusion matrix:\n",
      "[[853   6]\n",
      " [131  10]]\n",
      "accuracy = 0.8629999756813049\n",
      "precision class 0 = 0.8668699264526367\n",
      "precision class 1 = 0.625\n",
      "recall class 0 = 0.9930151104927063\n",
      "recall class 1 = 0.07092198729515076\n",
      "AUC of ROC = 0.6813216753771085\n",
      "AUC of PRC = 0.30963368023745486\n",
      "min(+P, Se) = 0.3191489361702128\n",
      "f1_score = 0.12738853196323216\n",
      "\n"
     ]
    },
    {
     "name": "stderr",
     "output_type": "stream",
     "text": [
      "C:\\Users\\berse\\anaconda3\\envs\\ConCare2\\lib\\site-packages\\ipykernel_launcher.py:140: UserWarning: Implicit dimension choice for softmax has been deprecated. Change the call to include dim=X as an argument.\n",
      "C:\\Users\\berse\\anaconda3\\envs\\ConCare2\\lib\\site-packages\\ipykernel_launcher.py:208: UserWarning: Implicit dimension choice for softmax has been deprecated. Change the call to include dim=X as an argument.\n"
     ]
    },
    {
     "name": "stdout",
     "output_type": "stream",
     "text": [
      "Epoch 32 Batch 0: Train Loss = 0.3544\n",
      "Model Loss = 0.3520, Decov Loss = 0.0000\n",
      "\n",
      "==>Predicting on validation\n",
      "Valid Loss = 0.3839\n",
      "valid_model Loss = 0.3839\n",
      "valid_decov Loss = 0.0000\n",
      "confusion matrix:\n",
      "[[846  13]\n",
      " [130  11]]\n",
      "accuracy = 0.8569999933242798\n",
      "precision class 0 = 0.8668032884597778\n",
      "precision class 1 = 0.4583333432674408\n",
      "recall class 0 = 0.9848661422729492\n",
      "recall class 1 = 0.07801418751478195\n",
      "AUC of ROC = 0.6859287147350952\n",
      "AUC of PRC = 0.27776684004633057\n",
      "min(+P, Se) = 0.3120567375886525\n",
      "f1_score = 0.13333334386348755\n",
      "\n"
     ]
    },
    {
     "name": "stderr",
     "output_type": "stream",
     "text": [
      "C:\\Users\\berse\\anaconda3\\envs\\ConCare2\\lib\\site-packages\\ipykernel_launcher.py:140: UserWarning: Implicit dimension choice for softmax has been deprecated. Change the call to include dim=X as an argument.\n",
      "C:\\Users\\berse\\anaconda3\\envs\\ConCare2\\lib\\site-packages\\ipykernel_launcher.py:208: UserWarning: Implicit dimension choice for softmax has been deprecated. Change the call to include dim=X as an argument.\n"
     ]
    },
    {
     "name": "stdout",
     "output_type": "stream",
     "text": [
      "Epoch 33 Batch 0: Train Loss = 0.3581\n",
      "Model Loss = 0.3556, Decov Loss = 0.0000\n",
      "\n",
      "==>Predicting on validation\n",
      "Valid Loss = 0.3837\n",
      "valid_model Loss = 0.3837\n",
      "valid_decov Loss = 0.0000\n",
      "confusion matrix:\n",
      "[[832  27]\n",
      " [117  24]]\n",
      "accuracy = 0.8560000061988831\n",
      "precision class 0 = 0.8767123222351074\n",
      "precision class 1 = 0.47058823704719543\n",
      "recall class 0 = 0.9685680866241455\n",
      "recall class 1 = 0.1702127605676651\n",
      "AUC of ROC = 0.6969013944963217\n",
      "AUC of PRC = 0.28060802059884904\n",
      "min(+P, Se) = 0.296875\n",
      "f1_score = 0.24999998862040246\n",
      "\n"
     ]
    },
    {
     "name": "stderr",
     "output_type": "stream",
     "text": [
      "C:\\Users\\berse\\anaconda3\\envs\\ConCare2\\lib\\site-packages\\ipykernel_launcher.py:140: UserWarning: Implicit dimension choice for softmax has been deprecated. Change the call to include dim=X as an argument.\n",
      "C:\\Users\\berse\\anaconda3\\envs\\ConCare2\\lib\\site-packages\\ipykernel_launcher.py:208: UserWarning: Implicit dimension choice for softmax has been deprecated. Change the call to include dim=X as an argument.\n"
     ]
    },
    {
     "name": "stdout",
     "output_type": "stream",
     "text": [
      "Epoch 34 Batch 0: Train Loss = 0.3471\n",
      "Model Loss = 0.3447, Decov Loss = 0.0000\n",
      "\n",
      "==>Predicting on validation\n",
      "Valid Loss = 0.3801\n",
      "valid_model Loss = 0.3801\n",
      "valid_decov Loss = 0.0000\n",
      "confusion matrix:\n",
      "[[828  31]\n",
      " [116  25]]\n",
      "accuracy = 0.8529999852180481\n",
      "precision class 0 = 0.8771186470985413\n",
      "precision class 1 = 0.4464285671710968\n",
      "recall class 0 = 0.9639115333557129\n",
      "recall class 1 = 0.1773049682378769\n",
      "AUC of ROC = 0.7060081407541344\n",
      "AUC of PRC = 0.30091357201683466\n",
      "min(+P, Se) = 0.3191489361702128\n",
      "f1_score = 0.25380711576414555\n",
      "\n"
     ]
    },
    {
     "name": "stderr",
     "output_type": "stream",
     "text": [
      "C:\\Users\\berse\\anaconda3\\envs\\ConCare2\\lib\\site-packages\\ipykernel_launcher.py:140: UserWarning: Implicit dimension choice for softmax has been deprecated. Change the call to include dim=X as an argument.\n",
      "C:\\Users\\berse\\anaconda3\\envs\\ConCare2\\lib\\site-packages\\ipykernel_launcher.py:208: UserWarning: Implicit dimension choice for softmax has been deprecated. Change the call to include dim=X as an argument.\n"
     ]
    },
    {
     "name": "stdout",
     "output_type": "stream",
     "text": [
      "Epoch 35 Batch 0: Train Loss = 0.4007\n",
      "Model Loss = 0.3983, Decov Loss = 0.0000\n",
      "\n",
      "==>Predicting on validation\n",
      "Valid Loss = 0.3756\n",
      "valid_model Loss = 0.3756\n",
      "valid_decov Loss = 0.0000\n",
      "confusion matrix:\n",
      "[[842  17]\n",
      " [121  20]]\n",
      "accuracy = 0.8619999885559082\n",
      "precision class 0 = 0.8743509650230408\n",
      "precision class 1 = 0.5405405163764954\n",
      "recall class 0 = 0.9802095293998718\n",
      "recall class 1 = 0.1418439745903015\n",
      "AUC of ROC = 0.7152800138706561\n",
      "AUC of PRC = 0.3329984403356832\n",
      "min(+P, Se) = 0.33098591549295775\n",
      "f1_score = 0.22471910274897133\n",
      "\n"
     ]
    },
    {
     "name": "stderr",
     "output_type": "stream",
     "text": [
      "C:\\Users\\berse\\anaconda3\\envs\\ConCare2\\lib\\site-packages\\ipykernel_launcher.py:140: UserWarning: Implicit dimension choice for softmax has been deprecated. Change the call to include dim=X as an argument.\n",
      "C:\\Users\\berse\\anaconda3\\envs\\ConCare2\\lib\\site-packages\\ipykernel_launcher.py:208: UserWarning: Implicit dimension choice for softmax has been deprecated. Change the call to include dim=X as an argument.\n"
     ]
    },
    {
     "name": "stdout",
     "output_type": "stream",
     "text": [
      "Epoch 36 Batch 0: Train Loss = 0.4014\n",
      "Model Loss = 0.3992, Decov Loss = 0.0000\n",
      "\n",
      "==>Predicting on validation\n",
      "Valid Loss = 0.3736\n",
      "valid_model Loss = 0.3736\n",
      "valid_decov Loss = 0.0000\n",
      "confusion matrix:\n",
      "[[843  16]\n",
      " [124  17]]\n",
      "accuracy = 0.8600000143051147\n",
      "precision class 0 = 0.8717683553695679\n",
      "precision class 1 = 0.5151515007019043\n",
      "recall class 0 = 0.98137366771698\n",
      "recall class 1 = 0.12056737393140793\n",
      "AUC of ROC = 0.722471288567442\n",
      "AUC of PRC = 0.3463234329801723\n",
      "min(+P, Se) = 0.3617021276595745\n",
      "f1_score = 0.1954022929533058\n",
      "\n"
     ]
    },
    {
     "name": "stderr",
     "output_type": "stream",
     "text": [
      "C:\\Users\\berse\\anaconda3\\envs\\ConCare2\\lib\\site-packages\\ipykernel_launcher.py:140: UserWarning: Implicit dimension choice for softmax has been deprecated. Change the call to include dim=X as an argument.\n",
      "C:\\Users\\berse\\anaconda3\\envs\\ConCare2\\lib\\site-packages\\ipykernel_launcher.py:208: UserWarning: Implicit dimension choice for softmax has been deprecated. Change the call to include dim=X as an argument.\n"
     ]
    },
    {
     "name": "stdout",
     "output_type": "stream",
     "text": [
      "Epoch 37 Batch 0: Train Loss = 0.3226\n",
      "Model Loss = 0.3203, Decov Loss = 0.0000\n",
      "\n",
      "==>Predicting on validation\n",
      "Valid Loss = 0.3671\n",
      "valid_model Loss = 0.3671\n",
      "valid_decov Loss = 0.0000\n",
      "confusion matrix:\n",
      "[[835  24]\n",
      " [117  24]]\n",
      "accuracy = 0.859000027179718\n",
      "precision class 0 = 0.8771008253097534\n",
      "precision class 1 = 0.5\n",
      "recall class 0 = 0.9720605611801147\n",
      "recall class 1 = 0.1702127605676651\n",
      "AUC of ROC = 0.7279122185619102\n",
      "AUC of PRC = 0.35882662243180097\n",
      "min(+P, Se) = 0.36551724137931035\n",
      "f1_score = 0.2539682536153416\n",
      "\n"
     ]
    },
    {
     "name": "stderr",
     "output_type": "stream",
     "text": [
      "C:\\Users\\berse\\anaconda3\\envs\\ConCare2\\lib\\site-packages\\ipykernel_launcher.py:140: UserWarning: Implicit dimension choice for softmax has been deprecated. Change the call to include dim=X as an argument.\n",
      "C:\\Users\\berse\\anaconda3\\envs\\ConCare2\\lib\\site-packages\\ipykernel_launcher.py:208: UserWarning: Implicit dimension choice for softmax has been deprecated. Change the call to include dim=X as an argument.\n"
     ]
    },
    {
     "name": "stdout",
     "output_type": "stream",
     "text": [
      "Epoch 38 Batch 0: Train Loss = 0.3617\n",
      "Model Loss = 0.3596, Decov Loss = 0.0000\n",
      "\n",
      "==>Predicting on validation\n",
      "Valid Loss = 0.3722\n",
      "valid_model Loss = 0.3722\n",
      "valid_decov Loss = 0.0000\n",
      "confusion matrix:\n",
      "[[823  36]\n",
      " [109  32]]\n",
      "accuracy = 0.8550000190734863\n",
      "precision class 0 = 0.8830472230911255\n",
      "precision class 1 = 0.47058823704719543\n",
      "recall class 0 = 0.9580907821655273\n",
      "recall class 1 = 0.22695034742355347\n",
      "AUC of ROC = 0.7302487636126453\n",
      "AUC of PRC = 0.3684724756075986\n",
      "min(+P, Se) = 0.3618421052631579\n",
      "f1_score = 0.30622007644006527\n",
      "\n"
     ]
    },
    {
     "name": "stderr",
     "output_type": "stream",
     "text": [
      "C:\\Users\\berse\\anaconda3\\envs\\ConCare2\\lib\\site-packages\\ipykernel_launcher.py:140: UserWarning: Implicit dimension choice for softmax has been deprecated. Change the call to include dim=X as an argument.\n",
      "C:\\Users\\berse\\anaconda3\\envs\\ConCare2\\lib\\site-packages\\ipykernel_launcher.py:208: UserWarning: Implicit dimension choice for softmax has been deprecated. Change the call to include dim=X as an argument.\n"
     ]
    },
    {
     "name": "stdout",
     "output_type": "stream",
     "text": [
      "Epoch 39 Batch 0: Train Loss = 0.4018\n",
      "Model Loss = 0.3992, Decov Loss = 0.0000\n",
      "\n",
      "==>Predicting on validation\n",
      "Valid Loss = 0.3673\n",
      "valid_model Loss = 0.3673\n",
      "valid_decov Loss = 0.0000\n",
      "confusion matrix:\n",
      "[[837  22]\n",
      " [122  19]]\n",
      "accuracy = 0.8560000061988831\n",
      "precision class 0 = 0.8727841377258301\n",
      "precision class 1 = 0.46341463923454285\n",
      "recall class 0 = 0.974388837814331\n",
      "recall class 1 = 0.13475176692008972\n",
      "AUC of ROC = 0.7320486463725757\n",
      "AUC of PRC = 0.3577763216261109\n",
      "min(+P, Se) = 0.36363636363636365\n",
      "f1_score = 0.20879120194973846\n",
      "\n"
     ]
    },
    {
     "name": "stderr",
     "output_type": "stream",
     "text": [
      "C:\\Users\\berse\\anaconda3\\envs\\ConCare2\\lib\\site-packages\\ipykernel_launcher.py:140: UserWarning: Implicit dimension choice for softmax has been deprecated. Change the call to include dim=X as an argument.\n",
      "C:\\Users\\berse\\anaconda3\\envs\\ConCare2\\lib\\site-packages\\ipykernel_launcher.py:208: UserWarning: Implicit dimension choice for softmax has been deprecated. Change the call to include dim=X as an argument.\n"
     ]
    },
    {
     "name": "stdout",
     "output_type": "stream",
     "text": [
      "Epoch 40 Batch 0: Train Loss = 0.3044\n",
      "Model Loss = 0.3022, Decov Loss = 0.0000\n",
      "\n",
      "==>Predicting on validation\n",
      "Valid Loss = 0.3738\n",
      "valid_model Loss = 0.3738\n",
      "valid_decov Loss = 0.0000\n",
      "confusion matrix:\n",
      "[[845  14]\n",
      " [124  17]]\n",
      "accuracy = 0.8619999885559082\n",
      "precision class 0 = 0.8720329999923706\n",
      "precision class 1 = 0.5483871102333069\n",
      "recall class 0 = 0.9837020039558411\n",
      "recall class 1 = 0.12056737393140793\n",
      "AUC of ROC = 0.7347732395412776\n",
      "AUC of PRC = 0.358784851826515\n",
      "min(+P, Se) = 0.3493150684931507\n",
      "f1_score = 0.1976744146496783\n",
      "\n"
     ]
    },
    {
     "name": "stderr",
     "output_type": "stream",
     "text": [
      "C:\\Users\\berse\\anaconda3\\envs\\ConCare2\\lib\\site-packages\\ipykernel_launcher.py:140: UserWarning: Implicit dimension choice for softmax has been deprecated. Change the call to include dim=X as an argument.\n",
      "C:\\Users\\berse\\anaconda3\\envs\\ConCare2\\lib\\site-packages\\ipykernel_launcher.py:208: UserWarning: Implicit dimension choice for softmax has been deprecated. Change the call to include dim=X as an argument.\n"
     ]
    },
    {
     "name": "stdout",
     "output_type": "stream",
     "text": [
      "Epoch 41 Batch 0: Train Loss = 0.3402\n",
      "Model Loss = 0.3378, Decov Loss = 0.0000\n",
      "\n",
      "==>Predicting on validation\n",
      "Valid Loss = 0.3642\n",
      "valid_model Loss = 0.3642\n",
      "valid_decov Loss = 0.0000\n",
      "confusion matrix:\n",
      "[[833  26]\n",
      " [114  27]]\n",
      "accuracy = 0.8600000143051147\n",
      "precision class 0 = 0.879619836807251\n",
      "precision class 1 = 0.5094339847564697\n",
      "recall class 0 = 0.9697322249412537\n",
      "recall class 1 = 0.19148936867713928\n",
      "AUC of ROC = 0.7331632526688628\n",
      "AUC of PRC = 0.3683633236230595\n",
      "min(+P, Se) = 0.375886524822695\n",
      "f1_score = 0.2783505380255018\n",
      "\n"
     ]
    },
    {
     "name": "stderr",
     "output_type": "stream",
     "text": [
      "C:\\Users\\berse\\anaconda3\\envs\\ConCare2\\lib\\site-packages\\ipykernel_launcher.py:140: UserWarning: Implicit dimension choice for softmax has been deprecated. Change the call to include dim=X as an argument.\n",
      "C:\\Users\\berse\\anaconda3\\envs\\ConCare2\\lib\\site-packages\\ipykernel_launcher.py:208: UserWarning: Implicit dimension choice for softmax has been deprecated. Change the call to include dim=X as an argument.\n"
     ]
    },
    {
     "name": "stdout",
     "output_type": "stream",
     "text": [
      "Epoch 42 Batch 0: Train Loss = 0.3217\n",
      "Model Loss = 0.3196, Decov Loss = 0.0000\n",
      "\n",
      "==>Predicting on validation\n",
      "Valid Loss = 0.3755\n",
      "valid_model Loss = 0.3755\n",
      "valid_decov Loss = 0.0000\n",
      "confusion matrix:\n",
      "[[812  47]\n",
      " [ 99  42]]\n",
      "accuracy = 0.8539999723434448\n",
      "precision class 0 = 0.8913282155990601\n",
      "precision class 1 = 0.47191011905670166\n",
      "recall class 0 = 0.9452852010726929\n",
      "recall class 1 = 0.2978723347187042\n",
      "AUC of ROC = 0.7247748082464353\n",
      "AUC of PRC = 0.37363653775123795\n",
      "min(+P, Se) = 0.3546099290780142\n",
      "f1_score = 0.3652174031599261\n",
      "\n"
     ]
    },
    {
     "name": "stderr",
     "output_type": "stream",
     "text": [
      "C:\\Users\\berse\\anaconda3\\envs\\ConCare2\\lib\\site-packages\\ipykernel_launcher.py:140: UserWarning: Implicit dimension choice for softmax has been deprecated. Change the call to include dim=X as an argument.\n",
      "C:\\Users\\berse\\anaconda3\\envs\\ConCare2\\lib\\site-packages\\ipykernel_launcher.py:208: UserWarning: Implicit dimension choice for softmax has been deprecated. Change the call to include dim=X as an argument.\n"
     ]
    },
    {
     "name": "stdout",
     "output_type": "stream",
     "text": [
      "Epoch 43 Batch 0: Train Loss = 0.4034\n",
      "Model Loss = 0.4013, Decov Loss = 0.0000\n",
      "\n",
      "==>Predicting on validation\n",
      "Valid Loss = 0.3661\n",
      "valid_model Loss = 0.3661\n",
      "valid_decov Loss = 0.0000\n",
      "confusion matrix:\n",
      "[[842  17]\n",
      " [119  22]]\n",
      "accuracy = 0.8640000224113464\n",
      "precision class 0 = 0.8761706352233887\n",
      "precision class 1 = 0.5641025900840759\n",
      "recall class 0 = 0.9802095293998718\n",
      "recall class 1 = 0.1560283750295639\n",
      "AUC of ROC = 0.7313963952806745\n",
      "AUC of PRC = 0.3792233704158958\n",
      "min(+P, Se) = 0.3732394366197183\n",
      "f1_score = 0.24444444947772567\n",
      "\n"
     ]
    },
    {
     "name": "stderr",
     "output_type": "stream",
     "text": [
      "C:\\Users\\berse\\anaconda3\\envs\\ConCare2\\lib\\site-packages\\ipykernel_launcher.py:140: UserWarning: Implicit dimension choice for softmax has been deprecated. Change the call to include dim=X as an argument.\n",
      "C:\\Users\\berse\\anaconda3\\envs\\ConCare2\\lib\\site-packages\\ipykernel_launcher.py:208: UserWarning: Implicit dimension choice for softmax has been deprecated. Change the call to include dim=X as an argument.\n"
     ]
    },
    {
     "name": "stdout",
     "output_type": "stream",
     "text": [
      "Epoch 44 Batch 0: Train Loss = 0.3511\n",
      "Model Loss = 0.3491, Decov Loss = 0.0000\n",
      "\n",
      "==>Predicting on validation\n",
      "Valid Loss = 0.3679\n",
      "valid_model Loss = 0.3679\n",
      "valid_decov Loss = 0.0000\n",
      "confusion matrix:\n",
      "[[851   8]\n",
      " [126  15]]\n",
      "accuracy = 0.8659999966621399\n",
      "precision class 0 = 0.871033787727356\n",
      "precision class 1 = 0.6521739363670349\n",
      "recall class 0 = 0.99068683385849\n",
      "recall class 1 = 0.10638298094272614\n",
      "AUC of ROC = 0.7398426341036501\n",
      "AUC of PRC = 0.38144972195175675\n",
      "min(+P, Se) = 0.36879432624113473\n",
      "f1_score = 0.1829268370601551\n",
      "\n"
     ]
    },
    {
     "name": "stderr",
     "output_type": "stream",
     "text": [
      "C:\\Users\\berse\\anaconda3\\envs\\ConCare2\\lib\\site-packages\\ipykernel_launcher.py:140: UserWarning: Implicit dimension choice for softmax has been deprecated. Change the call to include dim=X as an argument.\n",
      "C:\\Users\\berse\\anaconda3\\envs\\ConCare2\\lib\\site-packages\\ipykernel_launcher.py:208: UserWarning: Implicit dimension choice for softmax has been deprecated. Change the call to include dim=X as an argument.\n"
     ]
    },
    {
     "name": "stdout",
     "output_type": "stream",
     "text": [
      "Epoch 45 Batch 0: Train Loss = 0.3541\n",
      "Model Loss = 0.3519, Decov Loss = 0.0000\n",
      "\n",
      "==>Predicting on validation\n",
      "Valid Loss = 0.3599\n",
      "valid_model Loss = 0.3599\n",
      "valid_decov Loss = 0.0000\n",
      "confusion matrix:\n",
      "[[847  12]\n",
      " [122  19]]\n",
      "accuracy = 0.8659999966621399\n",
      "precision class 0 = 0.8740969896316528\n",
      "precision class 1 = 0.6129032373428345\n",
      "recall class 0 = 0.9860302805900574\n",
      "recall class 1 = 0.13475176692008972\n",
      "AUC of ROC = 0.7434671686523171\n",
      "AUC of PRC = 0.38769898547198317\n",
      "min(+P, Se) = 0.36879432624113473\n",
      "f1_score = 0.22093021626276535\n",
      "\n",
      "\n",
      "------------ Save best model ------------\n",
      "\n"
     ]
    },
    {
     "name": "stderr",
     "output_type": "stream",
     "text": [
      "C:\\Users\\berse\\anaconda3\\envs\\ConCare2\\lib\\site-packages\\ipykernel_launcher.py:140: UserWarning: Implicit dimension choice for softmax has been deprecated. Change the call to include dim=X as an argument.\n",
      "C:\\Users\\berse\\anaconda3\\envs\\ConCare2\\lib\\site-packages\\ipykernel_launcher.py:208: UserWarning: Implicit dimension choice for softmax has been deprecated. Change the call to include dim=X as an argument.\n"
     ]
    },
    {
     "name": "stdout",
     "output_type": "stream",
     "text": [
      "Epoch 46 Batch 0: Train Loss = 0.3722\n",
      "Model Loss = 0.3701, Decov Loss = 0.0000\n",
      "\n",
      "==>Predicting on validation\n",
      "Valid Loss = 0.3622\n",
      "valid_model Loss = 0.3622\n",
      "valid_decov Loss = 0.0000\n",
      "confusion matrix:\n",
      "[[829  30]\n",
      " [111  30]]\n",
      "accuracy = 0.859000027179718\n",
      "precision class 0 = 0.8819149136543274\n",
      "precision class 1 = 0.5\n",
      "recall class 0 = 0.965075671672821\n",
      "recall class 1 = 0.21276596188545227\n",
      "AUC of ROC = 0.7422699989266754\n",
      "AUC of PRC = 0.3918299311244321\n",
      "min(+P, Se) = 0.38666666666666666\n",
      "f1_score = 0.2985074795362657\n",
      "\n"
     ]
    },
    {
     "name": "stderr",
     "output_type": "stream",
     "text": [
      "C:\\Users\\berse\\anaconda3\\envs\\ConCare2\\lib\\site-packages\\ipykernel_launcher.py:140: UserWarning: Implicit dimension choice for softmax has been deprecated. Change the call to include dim=X as an argument.\n",
      "C:\\Users\\berse\\anaconda3\\envs\\ConCare2\\lib\\site-packages\\ipykernel_launcher.py:208: UserWarning: Implicit dimension choice for softmax has been deprecated. Change the call to include dim=X as an argument.\n"
     ]
    },
    {
     "name": "stdout",
     "output_type": "stream",
     "text": [
      "Epoch 47 Batch 0: Train Loss = 0.3117\n",
      "Model Loss = 0.3089, Decov Loss = 0.0000\n",
      "\n",
      "==>Predicting on validation\n",
      "Valid Loss = 0.3526\n",
      "valid_model Loss = 0.3526\n",
      "valid_decov Loss = 0.0000\n",
      "confusion matrix:\n",
      "[[844  15]\n",
      " [119  22]]\n",
      "accuracy = 0.8659999966621399\n",
      "precision class 0 = 0.8764278292655945\n",
      "precision class 1 = 0.5945945978164673\n",
      "recall class 0 = 0.9825378060340881\n",
      "recall class 1 = 0.1560283750295639\n",
      "AUC of ROC = 0.7477687233216919\n",
      "AUC of PRC = 0.39971616891558875\n",
      "min(+P, Se) = 0.4125874125874126\n",
      "f1_score = 0.24719101443215155\n",
      "\n",
      "\n",
      "------------ Save best model ------------\n",
      "\n"
     ]
    },
    {
     "name": "stderr",
     "output_type": "stream",
     "text": [
      "C:\\Users\\berse\\anaconda3\\envs\\ConCare2\\lib\\site-packages\\ipykernel_launcher.py:140: UserWarning: Implicit dimension choice for softmax has been deprecated. Change the call to include dim=X as an argument.\n",
      "C:\\Users\\berse\\anaconda3\\envs\\ConCare2\\lib\\site-packages\\ipykernel_launcher.py:208: UserWarning: Implicit dimension choice for softmax has been deprecated. Change the call to include dim=X as an argument.\n"
     ]
    },
    {
     "name": "stdout",
     "output_type": "stream",
     "text": [
      "Epoch 48 Batch 0: Train Loss = 0.3610\n",
      "Model Loss = 0.3590, Decov Loss = 0.0000\n",
      "\n",
      "==>Predicting on validation\n",
      "Valid Loss = 0.3563\n",
      "valid_model Loss = 0.3563\n",
      "valid_decov Loss = 0.0000\n",
      "confusion matrix:\n",
      "[[859   0]\n",
      " [141   0]]\n",
      "accuracy = 0.859000027179718\n",
      "precision class 0 = 0.859000027179718\n",
      "precision class 1 = nan\n",
      "recall class 0 = 1.0\n",
      "recall class 1 = 0.0\n",
      "AUC of ROC = 0.7500722430006853\n",
      "AUC of PRC = 0.39956566663755017\n",
      "min(+P, Se) = 0.4326241134751773\n",
      "f1_score = nan\n",
      "\n",
      "\n",
      "------------ Save best model ------------\n",
      "\n"
     ]
    },
    {
     "name": "stderr",
     "output_type": "stream",
     "text": [
      "C:\\work\\code\\ConCareUs\\utils\\metrics.py:23: RuntimeWarning: invalid value encountered in float_scalars\n",
      "  prec1 = cf[1][1] / (cf[1][1] + cf[0][1])\n",
      "C:\\Users\\berse\\anaconda3\\envs\\ConCare2\\lib\\site-packages\\ipykernel_launcher.py:140: UserWarning: Implicit dimension choice for softmax has been deprecated. Change the call to include dim=X as an argument.\n",
      "C:\\Users\\berse\\anaconda3\\envs\\ConCare2\\lib\\site-packages\\ipykernel_launcher.py:208: UserWarning: Implicit dimension choice for softmax has been deprecated. Change the call to include dim=X as an argument.\n"
     ]
    },
    {
     "name": "stdout",
     "output_type": "stream",
     "text": [
      "Epoch 49 Batch 0: Train Loss = 0.3626\n",
      "Model Loss = 0.3605, Decov Loss = 0.0000\n",
      "\n",
      "==>Predicting on validation\n",
      "Valid Loss = 0.3541\n",
      "valid_model Loss = 0.3541\n",
      "valid_decov Loss = 0.0000\n",
      "confusion matrix:\n",
      "[[859   0]\n",
      " [141   0]]\n",
      "accuracy = 0.859000027179718\n",
      "precision class 0 = 0.859000027179718\n",
      "precision class 1 = nan\n",
      "recall class 0 = 1.0\n",
      "recall class 1 = 0.0\n",
      "AUC of ROC = 0.7500144486001371\n",
      "AUC of PRC = 0.3908995559953438\n",
      "min(+P, Se) = 0.3900709219858156\n",
      "f1_score = nan\n",
      "\n"
     ]
    },
    {
     "name": "stderr",
     "output_type": "stream",
     "text": [
      "C:\\work\\code\\ConCareUs\\utils\\metrics.py:23: RuntimeWarning: invalid value encountered in float_scalars\n",
      "  prec1 = cf[1][1] / (cf[1][1] + cf[0][1])\n",
      "C:\\Users\\berse\\anaconda3\\envs\\ConCare2\\lib\\site-packages\\ipykernel_launcher.py:140: UserWarning: Implicit dimension choice for softmax has been deprecated. Change the call to include dim=X as an argument.\n",
      "C:\\Users\\berse\\anaconda3\\envs\\ConCare2\\lib\\site-packages\\ipykernel_launcher.py:208: UserWarning: Implicit dimension choice for softmax has been deprecated. Change the call to include dim=X as an argument.\n"
     ]
    },
    {
     "name": "stdout",
     "output_type": "stream",
     "text": [
      "Epoch 50 Batch 0: Train Loss = 0.3031\n",
      "Model Loss = 0.3012, Decov Loss = 0.0000\n",
      "\n",
      "==>Predicting on validation\n",
      "Valid Loss = 0.3544\n",
      "valid_model Loss = 0.3544\n",
      "valid_decov Loss = 0.0000\n",
      "confusion matrix:\n",
      "[[847  12]\n",
      " [126  15]]\n",
      "accuracy = 0.8619999885559082\n",
      "precision class 0 = 0.8705036044120789\n",
      "precision class 1 = 0.5555555820465088\n",
      "recall class 0 = 0.9860302805900574\n",
      "recall class 1 = 0.10638298094272614\n",
      "AUC of ROC = 0.7524913514807752\n",
      "AUC of PRC = 0.388874580769702\n",
      "min(+P, Se) = 0.375886524822695\n",
      "f1_score = 0.17857143708637782\n",
      "\n",
      "\n",
      "------------ Save best model ------------\n",
      "\n"
     ]
    },
    {
     "name": "stderr",
     "output_type": "stream",
     "text": [
      "C:\\Users\\berse\\anaconda3\\envs\\ConCare2\\lib\\site-packages\\ipykernel_launcher.py:140: UserWarning: Implicit dimension choice for softmax has been deprecated. Change the call to include dim=X as an argument.\n",
      "C:\\Users\\berse\\anaconda3\\envs\\ConCare2\\lib\\site-packages\\ipykernel_launcher.py:208: UserWarning: Implicit dimension choice for softmax has been deprecated. Change the call to include dim=X as an argument.\n"
     ]
    },
    {
     "name": "stdout",
     "output_type": "stream",
     "text": [
      "Epoch 51 Batch 0: Train Loss = 0.3505\n",
      "Model Loss = 0.3487, Decov Loss = 0.0000\n",
      "\n",
      "==>Predicting on validation\n",
      "Valid Loss = 0.3565\n",
      "valid_model Loss = 0.3565\n",
      "valid_decov Loss = 0.0000\n",
      "confusion matrix:\n",
      "[[834  25]\n",
      " [115  26]]\n",
      "accuracy = 0.8600000143051147\n",
      "precision class 0 = 0.8788198232650757\n",
      "precision class 1 = 0.5098039507865906\n",
      "recall class 0 = 0.9708963632583618\n",
      "recall class 1 = 0.1843971610069275\n",
      "AUC of ROC = 0.7525408895383879\n",
      "AUC of PRC = 0.38773663329221153\n",
      "min(+P, Se) = 0.375886524822695\n",
      "f1_score = 0.27083333517657565\n",
      "\n",
      "\n",
      "------------ Save best model ------------\n",
      "\n"
     ]
    },
    {
     "name": "stderr",
     "output_type": "stream",
     "text": [
      "C:\\Users\\berse\\anaconda3\\envs\\ConCare2\\lib\\site-packages\\ipykernel_launcher.py:140: UserWarning: Implicit dimension choice for softmax has been deprecated. Change the call to include dim=X as an argument.\n",
      "C:\\Users\\berse\\anaconda3\\envs\\ConCare2\\lib\\site-packages\\ipykernel_launcher.py:208: UserWarning: Implicit dimension choice for softmax has been deprecated. Change the call to include dim=X as an argument.\n"
     ]
    },
    {
     "name": "stdout",
     "output_type": "stream",
     "text": [
      "Epoch 52 Batch 0: Train Loss = 0.2942\n",
      "Model Loss = 0.2921, Decov Loss = 0.0000\n",
      "\n",
      "==>Predicting on validation\n",
      "Valid Loss = 0.3591\n",
      "valid_model Loss = 0.3591\n",
      "valid_decov Loss = 0.0000\n",
      "confusion matrix:\n",
      "[[824  35]\n",
      " [111  30]]\n",
      "accuracy = 0.8539999723434448\n",
      "precision class 0 = 0.8812834024429321\n",
      "precision class 1 = 0.4615384638309479\n",
      "recall class 0 = 0.9592549204826355\n",
      "recall class 1 = 0.21276596188545227\n",
      "AUC of ROC = 0.7528298615411291\n",
      "AUC of PRC = 0.385236640182836\n",
      "min(+P, Se) = 0.38461538461538464\n",
      "f1_score = 0.2912621405377713\n",
      "\n",
      "\n",
      "------------ Save best model ------------\n",
      "\n"
     ]
    },
    {
     "name": "stderr",
     "output_type": "stream",
     "text": [
      "C:\\Users\\berse\\anaconda3\\envs\\ConCare2\\lib\\site-packages\\ipykernel_launcher.py:140: UserWarning: Implicit dimension choice for softmax has been deprecated. Change the call to include dim=X as an argument.\n",
      "C:\\Users\\berse\\anaconda3\\envs\\ConCare2\\lib\\site-packages\\ipykernel_launcher.py:208: UserWarning: Implicit dimension choice for softmax has been deprecated. Change the call to include dim=X as an argument.\n"
     ]
    },
    {
     "name": "stdout",
     "output_type": "stream",
     "text": [
      "Epoch 53 Batch 0: Train Loss = 0.3182\n",
      "Model Loss = 0.3162, Decov Loss = 0.0000\n",
      "\n",
      "==>Predicting on validation\n",
      "Valid Loss = 0.3567\n",
      "valid_model Loss = 0.3567\n",
      "valid_decov Loss = 0.0000\n",
      "confusion matrix:\n",
      "[[828  31]\n",
      " [113  28]]\n",
      "accuracy = 0.8560000061988831\n",
      "precision class 0 = 0.8799149990081787\n",
      "precision class 1 = 0.47457626461982727\n",
      "recall class 0 = 0.9639115333557129\n",
      "recall class 1 = 0.19858156144618988\n",
      "AUC of ROC = 0.7563553199745705\n",
      "AUC of PRC = 0.3880484238671806\n",
      "min(+P, Se) = 0.3829787234042553\n",
      "f1_score = 0.2800000062108042\n",
      "\n",
      "\n",
      "------------ Save best model ------------\n",
      "\n"
     ]
    },
    {
     "name": "stderr",
     "output_type": "stream",
     "text": [
      "C:\\Users\\berse\\anaconda3\\envs\\ConCare2\\lib\\site-packages\\ipykernel_launcher.py:140: UserWarning: Implicit dimension choice for softmax has been deprecated. Change the call to include dim=X as an argument.\n",
      "C:\\Users\\berse\\anaconda3\\envs\\ConCare2\\lib\\site-packages\\ipykernel_launcher.py:208: UserWarning: Implicit dimension choice for softmax has been deprecated. Change the call to include dim=X as an argument.\n"
     ]
    },
    {
     "name": "stdout",
     "output_type": "stream",
     "text": [
      "Epoch 54 Batch 0: Train Loss = 0.3446\n",
      "Model Loss = 0.3427, Decov Loss = 0.0000\n",
      "\n",
      "==>Predicting on validation\n",
      "Valid Loss = 0.3535\n",
      "valid_model Loss = 0.3535\n",
      "valid_decov Loss = 0.0000\n",
      "confusion matrix:\n",
      "[[859   0]\n",
      " [141   0]]\n",
      "accuracy = 0.859000027179718\n",
      "precision class 0 = 0.859000027179718\n",
      "precision class 1 = nan\n",
      "recall class 0 = 1.0\n",
      "recall class 1 = 0.0\n",
      "AUC of ROC = 0.7616806611679423\n",
      "AUC of PRC = 0.38974558707181167\n",
      "min(+P, Se) = 0.39072847682119205\n",
      "f1_score = nan\n",
      "\n",
      "\n",
      "------------ Save best model ------------\n",
      "\n"
     ]
    },
    {
     "name": "stderr",
     "output_type": "stream",
     "text": [
      "C:\\work\\code\\ConCareUs\\utils\\metrics.py:23: RuntimeWarning: invalid value encountered in float_scalars\n",
      "  prec1 = cf[1][1] / (cf[1][1] + cf[0][1])\n",
      "C:\\Users\\berse\\anaconda3\\envs\\ConCare2\\lib\\site-packages\\ipykernel_launcher.py:140: UserWarning: Implicit dimension choice for softmax has been deprecated. Change the call to include dim=X as an argument.\n",
      "C:\\Users\\berse\\anaconda3\\envs\\ConCare2\\lib\\site-packages\\ipykernel_launcher.py:208: UserWarning: Implicit dimension choice for softmax has been deprecated. Change the call to include dim=X as an argument.\n"
     ]
    },
    {
     "name": "stdout",
     "output_type": "stream",
     "text": [
      "Epoch 55 Batch 0: Train Loss = 0.3653\n",
      "Model Loss = 0.3635, Decov Loss = 0.0000\n",
      "\n",
      "==>Predicting on validation\n",
      "Valid Loss = 0.3544\n",
      "valid_model Loss = 0.3544\n",
      "valid_decov Loss = 0.0000\n",
      "confusion matrix:\n",
      "[[859   0]\n",
      " [141   0]]\n",
      "accuracy = 0.859000027179718\n",
      "precision class 0 = 0.859000027179718\n",
      "precision class 1 = nan\n",
      "recall class 0 = 1.0\n",
      "recall class 1 = 0.0\n",
      "AUC of ROC = 0.765734525549253\n",
      "AUC of PRC = 0.3894573847247702\n",
      "min(+P, Se) = 0.38028169014084506\n",
      "f1_score = nan\n",
      "\n",
      "\n",
      "------------ Save best model ------------\n",
      "\n"
     ]
    },
    {
     "name": "stderr",
     "output_type": "stream",
     "text": [
      "C:\\work\\code\\ConCareUs\\utils\\metrics.py:23: RuntimeWarning: invalid value encountered in float_scalars\n",
      "  prec1 = cf[1][1] / (cf[1][1] + cf[0][1])\n",
      "C:\\Users\\berse\\anaconda3\\envs\\ConCare2\\lib\\site-packages\\ipykernel_launcher.py:140: UserWarning: Implicit dimension choice for softmax has been deprecated. Change the call to include dim=X as an argument.\n",
      "C:\\Users\\berse\\anaconda3\\envs\\ConCare2\\lib\\site-packages\\ipykernel_launcher.py:208: UserWarning: Implicit dimension choice for softmax has been deprecated. Change the call to include dim=X as an argument.\n"
     ]
    },
    {
     "name": "stdout",
     "output_type": "stream",
     "text": [
      "Epoch 56 Batch 0: Train Loss = 0.3618\n",
      "Model Loss = 0.3600, Decov Loss = 0.0000\n",
      "\n",
      "==>Predicting on validation\n",
      "Valid Loss = 0.3493\n",
      "valid_model Loss = 0.3493\n",
      "valid_decov Loss = 0.0000\n",
      "confusion matrix:\n",
      "[[859   0]\n",
      " [141   0]]\n",
      "accuracy = 0.859000027179718\n",
      "precision class 0 = 0.859000027179718\n",
      "precision class 1 = nan\n",
      "recall class 0 = 1.0\n",
      "recall class 1 = 0.0\n",
      "AUC of ROC = 0.7704406410224655\n",
      "AUC of PRC = 0.39325867659040065\n",
      "min(+P, Se) = 0.3972602739726027\n",
      "f1_score = nan\n",
      "\n",
      "\n",
      "------------ Save best model ------------\n",
      "\n"
     ]
    },
    {
     "name": "stderr",
     "output_type": "stream",
     "text": [
      "C:\\work\\code\\ConCareUs\\utils\\metrics.py:23: RuntimeWarning: invalid value encountered in float_scalars\n",
      "  prec1 = cf[1][1] / (cf[1][1] + cf[0][1])\n",
      "C:\\Users\\berse\\anaconda3\\envs\\ConCare2\\lib\\site-packages\\ipykernel_launcher.py:140: UserWarning: Implicit dimension choice for softmax has been deprecated. Change the call to include dim=X as an argument.\n",
      "C:\\Users\\berse\\anaconda3\\envs\\ConCare2\\lib\\site-packages\\ipykernel_launcher.py:208: UserWarning: Implicit dimension choice for softmax has been deprecated. Change the call to include dim=X as an argument.\n"
     ]
    },
    {
     "name": "stdout",
     "output_type": "stream",
     "text": [
      "Epoch 57 Batch 0: Train Loss = 0.3488\n",
      "Model Loss = 0.3468, Decov Loss = 0.0000\n",
      "\n",
      "==>Predicting on validation\n",
      "Valid Loss = 0.3508\n",
      "valid_model Loss = 0.3508\n",
      "valid_decov Loss = 0.0000\n",
      "confusion matrix:\n",
      "[[859   0]\n",
      " [141   0]]\n",
      "accuracy = 0.859000027179718\n",
      "precision class 0 = 0.859000027179718\n",
      "precision class 1 = nan\n",
      "recall class 0 = 1.0\n",
      "recall class 1 = 0.0\n",
      "AUC of ROC = 0.7655776550334794\n",
      "AUC of PRC = 0.3964715986539719\n",
      "min(+P, Se) = 0.4097222222222222\n",
      "f1_score = nan\n",
      "\n"
     ]
    },
    {
     "name": "stderr",
     "output_type": "stream",
     "text": [
      "C:\\work\\code\\ConCareUs\\utils\\metrics.py:23: RuntimeWarning: invalid value encountered in float_scalars\n",
      "  prec1 = cf[1][1] / (cf[1][1] + cf[0][1])\n",
      "C:\\Users\\berse\\anaconda3\\envs\\ConCare2\\lib\\site-packages\\ipykernel_launcher.py:140: UserWarning: Implicit dimension choice for softmax has been deprecated. Change the call to include dim=X as an argument.\n",
      "C:\\Users\\berse\\anaconda3\\envs\\ConCare2\\lib\\site-packages\\ipykernel_launcher.py:208: UserWarning: Implicit dimension choice for softmax has been deprecated. Change the call to include dim=X as an argument.\n"
     ]
    },
    {
     "name": "stdout",
     "output_type": "stream",
     "text": [
      "Epoch 58 Batch 0: Train Loss = 0.3501\n",
      "Model Loss = 0.3482, Decov Loss = 0.0000\n",
      "\n",
      "==>Predicting on validation\n",
      "Valid Loss = 0.3504\n",
      "valid_model Loss = 0.3504\n",
      "valid_decov Loss = 0.0000\n",
      "confusion matrix:\n",
      "[[844  15]\n",
      " [121  20]]\n",
      "accuracy = 0.8640000224113464\n",
      "precision class 0 = 0.8746113777160645\n",
      "precision class 1 = 0.5714285969734192\n",
      "recall class 0 = 0.9825378060340881\n",
      "recall class 1 = 0.1418439745903015\n",
      "AUC of ROC = 0.7656271930910922\n",
      "AUC of PRC = 0.4019584407036672\n",
      "min(+P, Se) = 0.4225352112676056\n",
      "f1_score = 0.22727273309156912\n",
      "\n"
     ]
    },
    {
     "name": "stderr",
     "output_type": "stream",
     "text": [
      "C:\\Users\\berse\\anaconda3\\envs\\ConCare2\\lib\\site-packages\\ipykernel_launcher.py:140: UserWarning: Implicit dimension choice for softmax has been deprecated. Change the call to include dim=X as an argument.\n",
      "C:\\Users\\berse\\anaconda3\\envs\\ConCare2\\lib\\site-packages\\ipykernel_launcher.py:208: UserWarning: Implicit dimension choice for softmax has been deprecated. Change the call to include dim=X as an argument.\n"
     ]
    },
    {
     "name": "stdout",
     "output_type": "stream",
     "text": [
      "Epoch 59 Batch 0: Train Loss = 0.3089\n",
      "Model Loss = 0.3072, Decov Loss = 0.0000\n",
      "\n",
      "==>Predicting on validation\n",
      "Valid Loss = 0.3464\n",
      "valid_model Loss = 0.3464\n",
      "valid_decov Loss = 0.0000\n",
      "confusion matrix:\n",
      "[[832  27]\n",
      " [114  27]]\n",
      "accuracy = 0.859000027179718\n",
      "precision class 0 = 0.8794925808906555\n",
      "precision class 1 = 0.5\n",
      "recall class 0 = 0.9685680866241455\n",
      "recall class 1 = 0.19148936867713928\n",
      "AUC of ROC = 0.7697883899305641\n",
      "AUC of PRC = 0.40512636331680096\n",
      "min(+P, Se) = 0.42953020134228187\n",
      "f1_score = 0.2769230961517476\n",
      "\n"
     ]
    },
    {
     "name": "stderr",
     "output_type": "stream",
     "text": [
      "C:\\Users\\berse\\anaconda3\\envs\\ConCare2\\lib\\site-packages\\ipykernel_launcher.py:140: UserWarning: Implicit dimension choice for softmax has been deprecated. Change the call to include dim=X as an argument.\n",
      "C:\\Users\\berse\\anaconda3\\envs\\ConCare2\\lib\\site-packages\\ipykernel_launcher.py:208: UserWarning: Implicit dimension choice for softmax has been deprecated. Change the call to include dim=X as an argument.\n"
     ]
    },
    {
     "name": "stdout",
     "output_type": "stream",
     "text": [
      "Epoch 60 Batch 0: Train Loss = 0.3332\n",
      "Model Loss = 0.3315, Decov Loss = 0.0000\n",
      "\n",
      "==>Predicting on validation\n",
      "Valid Loss = 0.3475\n",
      "valid_model Loss = 0.3475\n",
      "valid_decov Loss = 0.0000\n",
      "confusion matrix:\n",
      "[[837  22]\n",
      " [115  26]]\n",
      "accuracy = 0.8629999756813049\n",
      "precision class 0 = 0.8792017102241516\n",
      "precision class 1 = 0.5416666865348816\n",
      "recall class 0 = 0.974388837814331\n",
      "recall class 1 = 0.1843971610069275\n",
      "AUC of ROC = 0.7746431195766148\n",
      "AUC of PRC = 0.4035920554761965\n",
      "min(+P, Se) = 0.41843971631205673\n",
      "f1_score = 0.27513227534252066\n",
      "\n",
      "\n",
      "------------ Save best model ------------\n",
      "\n"
     ]
    },
    {
     "name": "stderr",
     "output_type": "stream",
     "text": [
      "C:\\Users\\berse\\anaconda3\\envs\\ConCare2\\lib\\site-packages\\ipykernel_launcher.py:140: UserWarning: Implicit dimension choice for softmax has been deprecated. Change the call to include dim=X as an argument.\n",
      "C:\\Users\\berse\\anaconda3\\envs\\ConCare2\\lib\\site-packages\\ipykernel_launcher.py:208: UserWarning: Implicit dimension choice for softmax has been deprecated. Change the call to include dim=X as an argument.\n"
     ]
    },
    {
     "name": "stdout",
     "output_type": "stream",
     "text": [
      "Epoch 61 Batch 0: Train Loss = 0.3589\n",
      "Model Loss = 0.3571, Decov Loss = 0.0000\n",
      "\n",
      "==>Predicting on validation\n",
      "Valid Loss = 0.3459\n",
      "valid_model Loss = 0.3459\n",
      "valid_decov Loss = 0.0000\n",
      "confusion matrix:\n",
      "[[827  32]\n",
      " [106  35]]\n",
      "accuracy = 0.8619999885559082\n",
      "precision class 0 = 0.8863880038261414\n",
      "precision class 1 = 0.5223880410194397\n",
      "recall class 0 = 0.9627473950386047\n",
      "recall class 1 = 0.24822695553302765\n",
      "AUC of ROC = 0.7833948430882025\n",
      "AUC of PRC = 0.3986456036446075\n",
      "min(+P, Se) = 0.40425531914893614\n",
      "f1_score = 0.33653846892842354\n",
      "\n",
      "\n",
      "------------ Save best model ------------\n",
      "\n"
     ]
    },
    {
     "name": "stderr",
     "output_type": "stream",
     "text": [
      "C:\\Users\\berse\\anaconda3\\envs\\ConCare2\\lib\\site-packages\\ipykernel_launcher.py:140: UserWarning: Implicit dimension choice for softmax has been deprecated. Change the call to include dim=X as an argument.\n",
      "C:\\Users\\berse\\anaconda3\\envs\\ConCare2\\lib\\site-packages\\ipykernel_launcher.py:208: UserWarning: Implicit dimension choice for softmax has been deprecated. Change the call to include dim=X as an argument.\n"
     ]
    },
    {
     "name": "stdout",
     "output_type": "stream",
     "text": [
      "Epoch 62 Batch 0: Train Loss = 0.3427\n",
      "Model Loss = 0.3408, Decov Loss = 0.0000\n",
      "\n",
      "==>Predicting on validation\n",
      "Valid Loss = 0.3469\n",
      "valid_model Loss = 0.3469\n",
      "valid_decov Loss = 0.0000\n",
      "confusion matrix:\n",
      "[[824  35]\n",
      " [106  35]]\n",
      "accuracy = 0.859000027179718\n",
      "precision class 0 = 0.8860214948654175\n",
      "precision class 1 = 0.5\n",
      "recall class 0 = 0.9592549204826355\n",
      "recall class 1 = 0.24822695553302765\n",
      "AUC of ROC = 0.784748883329618\n",
      "AUC of PRC = 0.398800971003945\n",
      "min(+P, Se) = 0.3916083916083916\n",
      "f1_score = 0.3317535657342192\n",
      "\n",
      "\n",
      "------------ Save best model ------------\n",
      "\n"
     ]
    },
    {
     "name": "stderr",
     "output_type": "stream",
     "text": [
      "C:\\Users\\berse\\anaconda3\\envs\\ConCare2\\lib\\site-packages\\ipykernel_launcher.py:140: UserWarning: Implicit dimension choice for softmax has been deprecated. Change the call to include dim=X as an argument.\n",
      "C:\\Users\\berse\\anaconda3\\envs\\ConCare2\\lib\\site-packages\\ipykernel_launcher.py:208: UserWarning: Implicit dimension choice for softmax has been deprecated. Change the call to include dim=X as an argument.\n"
     ]
    },
    {
     "name": "stdout",
     "output_type": "stream",
     "text": [
      "Epoch 63 Batch 0: Train Loss = 0.3178\n",
      "Model Loss = 0.3160, Decov Loss = 0.0000\n",
      "\n",
      "==>Predicting on validation\n",
      "Valid Loss = 0.3477\n",
      "valid_model Loss = 0.3477\n",
      "valid_decov Loss = 0.0000\n",
      "confusion matrix:\n",
      "[[831  28]\n",
      " [110  31]]\n",
      "accuracy = 0.8619999885559082\n",
      "precision class 0 = 0.88310307264328\n",
      "precision class 1 = 0.5254237055778503\n",
      "recall class 0 = 0.9674039483070374\n",
      "recall class 1 = 0.21985815465450287\n",
      "AUC of ROC = 0.7876881414146418\n",
      "AUC of PRC = 0.4002676687123199\n",
      "min(+P, Se) = 0.4012345679012346\n",
      "f1_score = 0.3099999883919954\n",
      "\n",
      "\n",
      "------------ Save best model ------------\n",
      "\n"
     ]
    },
    {
     "name": "stderr",
     "output_type": "stream",
     "text": [
      "C:\\Users\\berse\\anaconda3\\envs\\ConCare2\\lib\\site-packages\\ipykernel_launcher.py:140: UserWarning: Implicit dimension choice for softmax has been deprecated. Change the call to include dim=X as an argument.\n",
      "C:\\Users\\berse\\anaconda3\\envs\\ConCare2\\lib\\site-packages\\ipykernel_launcher.py:208: UserWarning: Implicit dimension choice for softmax has been deprecated. Change the call to include dim=X as an argument.\n"
     ]
    },
    {
     "name": "stdout",
     "output_type": "stream",
     "text": [
      "Epoch 64 Batch 0: Train Loss = 0.3300\n",
      "Model Loss = 0.3282, Decov Loss = 0.0000\n",
      "\n",
      "==>Predicting on validation\n",
      "Valid Loss = 0.3434\n",
      "valid_model Loss = 0.3434\n",
      "valid_decov Loss = 0.0000\n",
      "confusion matrix:\n",
      "[[826  33]\n",
      " [108  33]]\n",
      "accuracy = 0.859000027179718\n",
      "precision class 0 = 0.8843683004379272\n",
      "precision class 1 = 0.5\n",
      "recall class 0 = 0.9615832567214966\n",
      "recall class 1 = 0.23404255509376526\n",
      "AUC of ROC = 0.7863506138590974\n",
      "AUC of PRC = 0.39600938128685026\n",
      "min(+P, Se) = 0.4011627906976744\n",
      "f1_score = 0.31884059442038654\n",
      "\n"
     ]
    },
    {
     "name": "stderr",
     "output_type": "stream",
     "text": [
      "C:\\Users\\berse\\anaconda3\\envs\\ConCare2\\lib\\site-packages\\ipykernel_launcher.py:140: UserWarning: Implicit dimension choice for softmax has been deprecated. Change the call to include dim=X as an argument.\n",
      "C:\\Users\\berse\\anaconda3\\envs\\ConCare2\\lib\\site-packages\\ipykernel_launcher.py:208: UserWarning: Implicit dimension choice for softmax has been deprecated. Change the call to include dim=X as an argument.\n"
     ]
    },
    {
     "name": "stdout",
     "output_type": "stream",
     "text": [
      "Epoch 65 Batch 0: Train Loss = 0.3289\n",
      "Model Loss = 0.3268, Decov Loss = 0.0000\n",
      "\n",
      "==>Predicting on validation\n",
      "Valid Loss = 0.3471\n",
      "valid_model Loss = 0.3471\n",
      "valid_decov Loss = 0.0000\n",
      "confusion matrix:\n",
      "[[843  16]\n",
      " [120  21]]\n",
      "accuracy = 0.8640000224113464\n",
      "precision class 0 = 0.8753893971443176\n",
      "precision class 1 = 0.5675675868988037\n",
      "recall class 0 = 0.98137366771698\n",
      "recall class 1 = 0.1489361673593521\n",
      "AUC of ROC = 0.7776979664627349\n",
      "AUC of PRC = 0.3948237282473789\n",
      "min(+P, Se) = 0.4097222222222222\n",
      "f1_score = 0.23595505917656212\n",
      "\n"
     ]
    },
    {
     "name": "stderr",
     "output_type": "stream",
     "text": [
      "C:\\Users\\berse\\anaconda3\\envs\\ConCare2\\lib\\site-packages\\ipykernel_launcher.py:140: UserWarning: Implicit dimension choice for softmax has been deprecated. Change the call to include dim=X as an argument.\n",
      "C:\\Users\\berse\\anaconda3\\envs\\ConCare2\\lib\\site-packages\\ipykernel_launcher.py:208: UserWarning: Implicit dimension choice for softmax has been deprecated. Change the call to include dim=X as an argument.\n"
     ]
    },
    {
     "name": "stdout",
     "output_type": "stream",
     "text": [
      "Epoch 66 Batch 0: Train Loss = 0.3203\n",
      "Model Loss = 0.3186, Decov Loss = 0.0000\n",
      "\n",
      "==>Predicting on validation\n",
      "Valid Loss = 0.3508\n",
      "valid_model Loss = 0.3508\n",
      "valid_decov Loss = 0.0000\n",
      "confusion matrix:\n",
      "[[859   0]\n",
      " [141   0]]\n",
      "accuracy = 0.859000027179718\n",
      "precision class 0 = 0.859000027179718\n",
      "precision class 1 = nan\n",
      "recall class 0 = 1.0\n",
      "recall class 1 = 0.0\n",
      "AUC of ROC = 0.775848545645192\n",
      "AUC of PRC = 0.3954490843392007\n",
      "min(+P, Se) = 0.3972602739726027\n",
      "f1_score = nan\n",
      "\n"
     ]
    },
    {
     "name": "stderr",
     "output_type": "stream",
     "text": [
      "C:\\work\\code\\ConCareUs\\utils\\metrics.py:23: RuntimeWarning: invalid value encountered in float_scalars\n",
      "  prec1 = cf[1][1] / (cf[1][1] + cf[0][1])\n",
      "C:\\Users\\berse\\anaconda3\\envs\\ConCare2\\lib\\site-packages\\ipykernel_launcher.py:140: UserWarning: Implicit dimension choice for softmax has been deprecated. Change the call to include dim=X as an argument.\n",
      "C:\\Users\\berse\\anaconda3\\envs\\ConCare2\\lib\\site-packages\\ipykernel_launcher.py:208: UserWarning: Implicit dimension choice for softmax has been deprecated. Change the call to include dim=X as an argument.\n"
     ]
    },
    {
     "name": "stdout",
     "output_type": "stream",
     "text": [
      "Epoch 67 Batch 0: Train Loss = 0.3387\n",
      "Model Loss = 0.3370, Decov Loss = 0.0000\n",
      "\n",
      "==>Predicting on validation\n",
      "Valid Loss = 0.3494\n",
      "valid_model Loss = 0.3494\n",
      "valid_decov Loss = 0.0000\n",
      "confusion matrix:\n",
      "[[859   0]\n",
      " [141   0]]\n",
      "accuracy = 0.859000027179718\n",
      "precision class 0 = 0.859000027179718\n",
      "precision class 1 = nan\n",
      "recall class 0 = 1.0\n",
      "recall class 1 = 0.0\n",
      "AUC of ROC = 0.7704984354230137\n",
      "AUC of PRC = 0.39051676323756535\n",
      "min(+P, Se) = 0.3829787234042553\n",
      "f1_score = nan\n",
      "\n"
     ]
    },
    {
     "name": "stderr",
     "output_type": "stream",
     "text": [
      "C:\\work\\code\\ConCareUs\\utils\\metrics.py:23: RuntimeWarning: invalid value encountered in float_scalars\n",
      "  prec1 = cf[1][1] / (cf[1][1] + cf[0][1])\n",
      "C:\\Users\\berse\\anaconda3\\envs\\ConCare2\\lib\\site-packages\\ipykernel_launcher.py:140: UserWarning: Implicit dimension choice for softmax has been deprecated. Change the call to include dim=X as an argument.\n",
      "C:\\Users\\berse\\anaconda3\\envs\\ConCare2\\lib\\site-packages\\ipykernel_launcher.py:208: UserWarning: Implicit dimension choice for softmax has been deprecated. Change the call to include dim=X as an argument.\n"
     ]
    },
    {
     "name": "stdout",
     "output_type": "stream",
     "text": [
      "Epoch 68 Batch 0: Train Loss = 0.2848\n",
      "Model Loss = 0.2831, Decov Loss = 0.0000\n",
      "\n",
      "==>Predicting on validation\n",
      "Valid Loss = 0.3523\n",
      "valid_model Loss = 0.3523\n",
      "valid_decov Loss = 0.0000\n",
      "confusion matrix:\n",
      "[[859   0]\n",
      " [141   0]]\n",
      "accuracy = 0.859000027179718\n",
      "precision class 0 = 0.859000027179718\n",
      "precision class 1 = nan\n",
      "recall class 0 = 1.0\n",
      "recall class 1 = 0.0\n",
      "AUC of ROC = 0.768492144089697\n",
      "AUC of PRC = 0.3885168512274815\n",
      "min(+P, Se) = 0.39864864864864863\n",
      "f1_score = nan\n",
      "\n"
     ]
    },
    {
     "name": "stderr",
     "output_type": "stream",
     "text": [
      "C:\\work\\code\\ConCareUs\\utils\\metrics.py:23: RuntimeWarning: invalid value encountered in float_scalars\n",
      "  prec1 = cf[1][1] / (cf[1][1] + cf[0][1])\n",
      "C:\\Users\\berse\\anaconda3\\envs\\ConCare2\\lib\\site-packages\\ipykernel_launcher.py:140: UserWarning: Implicit dimension choice for softmax has been deprecated. Change the call to include dim=X as an argument.\n",
      "C:\\Users\\berse\\anaconda3\\envs\\ConCare2\\lib\\site-packages\\ipykernel_launcher.py:208: UserWarning: Implicit dimension choice for softmax has been deprecated. Change the call to include dim=X as an argument.\n"
     ]
    },
    {
     "name": "stdout",
     "output_type": "stream",
     "text": [
      "Epoch 69 Batch 0: Train Loss = 0.3063\n",
      "Model Loss = 0.3045, Decov Loss = 0.0000\n",
      "\n",
      "==>Predicting on validation\n",
      "Valid Loss = 0.3497\n",
      "valid_model Loss = 0.3497\n",
      "valid_decov Loss = 0.0000\n",
      "confusion matrix:\n",
      "[[837  22]\n",
      " [117  24]]\n",
      "accuracy = 0.8610000014305115\n",
      "precision class 0 = 0.8773584961891174\n",
      "precision class 1 = 0.52173912525177\n",
      "recall class 0 = 0.974388837814331\n",
      "recall class 1 = 0.1702127605676651\n",
      "AUC of ROC = 0.7760632105615137\n",
      "AUC of PRC = 0.39472100938762067\n",
      "min(+P, Se) = 0.40853658536585363\n",
      "f1_score = 0.25668449075051775\n",
      "\n"
     ]
    },
    {
     "name": "stderr",
     "output_type": "stream",
     "text": [
      "C:\\Users\\berse\\anaconda3\\envs\\ConCare2\\lib\\site-packages\\ipykernel_launcher.py:140: UserWarning: Implicit dimension choice for softmax has been deprecated. Change the call to include dim=X as an argument.\n",
      "C:\\Users\\berse\\anaconda3\\envs\\ConCare2\\lib\\site-packages\\ipykernel_launcher.py:208: UserWarning: Implicit dimension choice for softmax has been deprecated. Change the call to include dim=X as an argument.\n"
     ]
    },
    {
     "name": "stdout",
     "output_type": "stream",
     "text": [
      "Epoch 70 Batch 0: Train Loss = 0.3529\n",
      "Model Loss = 0.3511, Decov Loss = 0.0000\n",
      "\n",
      "==>Predicting on validation\n",
      "Valid Loss = 0.3405\n",
      "valid_model Loss = 0.3405\n",
      "valid_decov Loss = 0.0000\n",
      "confusion matrix:\n",
      "[[825  34]\n",
      " [104  37]]\n",
      "accuracy = 0.8619999885559082\n",
      "precision class 0 = 0.8880516886711121\n",
      "precision class 1 = 0.5211267471313477\n",
      "recall class 0 = 0.9604191184043884\n",
      "recall class 1 = 0.26241135597229004\n",
      "AUC of ROC = 0.7849718045888754\n",
      "AUC of PRC = 0.4070365127637307\n",
      "min(+P, Se) = 0.4225352112676056\n",
      "f1_score = 0.34905660824021967\n",
      "\n"
     ]
    },
    {
     "name": "stderr",
     "output_type": "stream",
     "text": [
      "C:\\Users\\berse\\anaconda3\\envs\\ConCare2\\lib\\site-packages\\ipykernel_launcher.py:140: UserWarning: Implicit dimension choice for softmax has been deprecated. Change the call to include dim=X as an argument.\n",
      "C:\\Users\\berse\\anaconda3\\envs\\ConCare2\\lib\\site-packages\\ipykernel_launcher.py:208: UserWarning: Implicit dimension choice for softmax has been deprecated. Change the call to include dim=X as an argument.\n"
     ]
    },
    {
     "name": "stdout",
     "output_type": "stream",
     "text": [
      "Epoch 71 Batch 0: Train Loss = 0.4068\n",
      "Model Loss = 0.4050, Decov Loss = 0.0000\n",
      "\n",
      "==>Predicting on validation\n",
      "Valid Loss = 0.3362\n",
      "valid_model Loss = 0.3362\n",
      "valid_decov Loss = 0.0000\n",
      "confusion matrix:\n",
      "[[821  38]\n",
      " [100  41]]\n",
      "accuracy = 0.8619999885559082\n",
      "precision class 0 = 0.8914223909378052\n",
      "precision class 1 = 0.5189873576164246\n",
      "recall class 0 = 0.955762505531311\n",
      "recall class 1 = 0.29078012704849243\n",
      "AUC of ROC = 0.7918410819111783\n",
      "AUC of PRC = 0.4134253014092765\n",
      "min(+P, Se) = 0.4258064516129032\n",
      "f1_score = 0.3727272646584781\n",
      "\n",
      "\n",
      "------------ Save best model ------------\n",
      "\n"
     ]
    },
    {
     "name": "stderr",
     "output_type": "stream",
     "text": [
      "C:\\Users\\berse\\anaconda3\\envs\\ConCare2\\lib\\site-packages\\ipykernel_launcher.py:140: UserWarning: Implicit dimension choice for softmax has been deprecated. Change the call to include dim=X as an argument.\n",
      "C:\\Users\\berse\\anaconda3\\envs\\ConCare2\\lib\\site-packages\\ipykernel_launcher.py:208: UserWarning: Implicit dimension choice for softmax has been deprecated. Change the call to include dim=X as an argument.\n"
     ]
    },
    {
     "name": "stdout",
     "output_type": "stream",
     "text": [
      "Epoch 72 Batch 0: Train Loss = 0.2993\n",
      "Model Loss = 0.2974, Decov Loss = 0.0000\n",
      "\n",
      "==>Predicting on validation\n",
      "Valid Loss = 0.3438\n",
      "valid_model Loss = 0.3438\n",
      "valid_decov Loss = 0.0000\n",
      "confusion matrix:\n",
      "[[825  34]\n",
      " [108  33]]\n",
      "accuracy = 0.8579999804496765\n",
      "precision class 0 = 0.8842443823814392\n",
      "precision class 1 = 0.49253731966018677\n",
      "recall class 0 = 0.9604191184043884\n",
      "recall class 1 = 0.23404255509376526\n",
      "AUC of ROC = 0.7924520512884023\n",
      "AUC of PRC = 0.4095857172892909\n",
      "min(+P, Se) = 0.425531914893617\n",
      "f1_score = 0.31730768233317297\n",
      "\n",
      "\n",
      "------------ Save best model ------------\n",
      "\n"
     ]
    },
    {
     "name": "stderr",
     "output_type": "stream",
     "text": [
      "C:\\Users\\berse\\anaconda3\\envs\\ConCare2\\lib\\site-packages\\ipykernel_launcher.py:140: UserWarning: Implicit dimension choice for softmax has been deprecated. Change the call to include dim=X as an argument.\n",
      "C:\\Users\\berse\\anaconda3\\envs\\ConCare2\\lib\\site-packages\\ipykernel_launcher.py:208: UserWarning: Implicit dimension choice for softmax has been deprecated. Change the call to include dim=X as an argument.\n"
     ]
    },
    {
     "name": "stdout",
     "output_type": "stream",
     "text": [
      "Epoch 73 Batch 0: Train Loss = 0.2768\n",
      "Model Loss = 0.2749, Decov Loss = 0.0000\n",
      "\n",
      "==>Predicting on validation\n",
      "Valid Loss = 0.3376\n",
      "valid_model Loss = 0.3376\n",
      "valid_decov Loss = 0.0000\n",
      "confusion matrix:\n",
      "[[820  39]\n",
      " [105  36]]\n",
      "accuracy = 0.8560000061988831\n",
      "precision class 0 = 0.8864864706993103\n",
      "precision class 1 = 0.47999998927116394\n",
      "recall class 0 = 0.9545983672142029\n",
      "recall class 1 = 0.25531914830207825\n",
      "AUC of ROC = 0.7909328841882776\n",
      "AUC of PRC = 0.4078915510520219\n",
      "min(+P, Se) = 0.41843971631205673\n",
      "f1_score = 0.3333333302059291\n",
      "\n"
     ]
    },
    {
     "name": "stderr",
     "output_type": "stream",
     "text": [
      "C:\\Users\\berse\\anaconda3\\envs\\ConCare2\\lib\\site-packages\\ipykernel_launcher.py:140: UserWarning: Implicit dimension choice for softmax has been deprecated. Change the call to include dim=X as an argument.\n",
      "C:\\Users\\berse\\anaconda3\\envs\\ConCare2\\lib\\site-packages\\ipykernel_launcher.py:208: UserWarning: Implicit dimension choice for softmax has been deprecated. Change the call to include dim=X as an argument.\n"
     ]
    },
    {
     "name": "stdout",
     "output_type": "stream",
     "text": [
      "Epoch 74 Batch 0: Train Loss = 0.3495\n",
      "Model Loss = 0.3473, Decov Loss = 0.0000\n",
      "\n",
      "==>Predicting on validation\n",
      "Valid Loss = 0.3427\n",
      "valid_model Loss = 0.3427\n",
      "valid_decov Loss = 0.0000\n",
      "confusion matrix:\n",
      "[[833  26]\n",
      " [111  30]]\n",
      "accuracy = 0.8629999756813049\n",
      "precision class 0 = 0.882415235042572\n",
      "precision class 1 = 0.5357142686843872\n",
      "recall class 0 = 0.9697322249412537\n",
      "recall class 1 = 0.21276596188545227\n",
      "AUC of ROC = 0.7922951807726285\n",
      "AUC of PRC = 0.4078663965165144\n",
      "min(+P, Se) = 0.4084507042253521\n",
      "f1_score = 0.30456854184122567\n",
      "\n"
     ]
    },
    {
     "name": "stderr",
     "output_type": "stream",
     "text": [
      "C:\\Users\\berse\\anaconda3\\envs\\ConCare2\\lib\\site-packages\\ipykernel_launcher.py:140: UserWarning: Implicit dimension choice for softmax has been deprecated. Change the call to include dim=X as an argument.\n",
      "C:\\Users\\berse\\anaconda3\\envs\\ConCare2\\lib\\site-packages\\ipykernel_launcher.py:208: UserWarning: Implicit dimension choice for softmax has been deprecated. Change the call to include dim=X as an argument.\n"
     ]
    },
    {
     "name": "stdout",
     "output_type": "stream",
     "text": [
      "Epoch 75 Batch 0: Train Loss = 0.3422\n",
      "Model Loss = 0.3402, Decov Loss = 0.0000\n",
      "\n",
      "==>Predicting on validation\n",
      "Valid Loss = 0.3431\n",
      "valid_model Loss = 0.3431\n",
      "valid_decov Loss = 0.0000\n",
      "confusion matrix:\n",
      "[[859   0]\n",
      " [141   0]]\n",
      "accuracy = 0.859000027179718\n",
      "precision class 0 = 0.859000027179718\n",
      "precision class 1 = nan\n",
      "recall class 0 = 1.0\n",
      "recall class 1 = 0.0\n",
      "AUC of ROC = 0.7949372105119759\n",
      "AUC of PRC = 0.41030726370981113\n",
      "min(+P, Se) = 0.41721854304635764\n",
      "f1_score = nan\n",
      "\n",
      "\n",
      "------------ Save best model ------------\n"
     ]
    },
    {
     "name": "stderr",
     "output_type": "stream",
     "text": [
      "C:\\work\\code\\ConCareUs\\utils\\metrics.py:23: RuntimeWarning: invalid value encountered in float_scalars\n",
      "  prec1 = cf[1][1] / (cf[1][1] + cf[0][1])\n"
     ]
    },
    {
     "name": "stdout",
     "output_type": "stream",
     "text": [
      "\n"
     ]
    },
    {
     "name": "stderr",
     "output_type": "stream",
     "text": [
      "C:\\Users\\berse\\anaconda3\\envs\\ConCare2\\lib\\site-packages\\ipykernel_launcher.py:140: UserWarning: Implicit dimension choice for softmax has been deprecated. Change the call to include dim=X as an argument.\n",
      "C:\\Users\\berse\\anaconda3\\envs\\ConCare2\\lib\\site-packages\\ipykernel_launcher.py:208: UserWarning: Implicit dimension choice for softmax has been deprecated. Change the call to include dim=X as an argument.\n"
     ]
    },
    {
     "name": "stdout",
     "output_type": "stream",
     "text": [
      "Epoch 76 Batch 0: Train Loss = 0.2678\n",
      "Model Loss = 0.2661, Decov Loss = 0.0000\n",
      "\n",
      "==>Predicting on validation\n",
      "Valid Loss = 0.3340\n",
      "valid_model Loss = 0.3340\n",
      "valid_decov Loss = 0.0000\n",
      "confusion matrix:\n",
      "[[855   4]\n",
      " [132   9]]\n",
      "accuracy = 0.8640000224113464\n",
      "precision class 0 = 0.8662614226341248\n",
      "precision class 1 = 0.692307710647583\n",
      "recall class 0 = 0.9953434467315674\n",
      "recall class 1 = 0.06382978707551956\n",
      "AUC of ROC = 0.8001056811895739\n",
      "AUC of PRC = 0.41674056451513447\n",
      "min(+P, Se) = 0.4225352112676056\n",
      "f1_score = 0.11688311803042334\n",
      "\n",
      "\n",
      "------------ Save best model ------------\n",
      "\n"
     ]
    },
    {
     "name": "stderr",
     "output_type": "stream",
     "text": [
      "C:\\Users\\berse\\anaconda3\\envs\\ConCare2\\lib\\site-packages\\ipykernel_launcher.py:140: UserWarning: Implicit dimension choice for softmax has been deprecated. Change the call to include dim=X as an argument.\n",
      "C:\\Users\\berse\\anaconda3\\envs\\ConCare2\\lib\\site-packages\\ipykernel_launcher.py:208: UserWarning: Implicit dimension choice for softmax has been deprecated. Change the call to include dim=X as an argument.\n"
     ]
    },
    {
     "name": "stdout",
     "output_type": "stream",
     "text": [
      "Epoch 77 Batch 0: Train Loss = 0.3025\n",
      "Model Loss = 0.3006, Decov Loss = 0.0000\n",
      "\n",
      "==>Predicting on validation\n",
      "Valid Loss = 0.3354\n",
      "valid_model Loss = 0.3354\n",
      "valid_decov Loss = 0.0000\n",
      "confusion matrix:\n",
      "[[846  13]\n",
      " [121  20]]\n",
      "accuracy = 0.8659999966621399\n",
      "precision class 0 = 0.8748707175254822\n",
      "precision class 1 = 0.6060606241226196\n",
      "recall class 0 = 0.9848661422729492\n",
      "recall class 1 = 0.1418439745903015\n",
      "AUC of ROC = 0.8032018097903715\n",
      "AUC of PRC = 0.4187225582570351\n",
      "min(+P, Se) = 0.4276729559748428\n",
      "f1_score = 0.22988506265684483\n",
      "\n",
      "\n",
      "------------ Save best model ------------\n",
      "\n"
     ]
    },
    {
     "name": "stderr",
     "output_type": "stream",
     "text": [
      "C:\\Users\\berse\\anaconda3\\envs\\ConCare2\\lib\\site-packages\\ipykernel_launcher.py:140: UserWarning: Implicit dimension choice for softmax has been deprecated. Change the call to include dim=X as an argument.\n",
      "C:\\Users\\berse\\anaconda3\\envs\\ConCare2\\lib\\site-packages\\ipykernel_launcher.py:208: UserWarning: Implicit dimension choice for softmax has been deprecated. Change the call to include dim=X as an argument.\n"
     ]
    },
    {
     "name": "stdout",
     "output_type": "stream",
     "text": [
      "Epoch 78 Batch 0: Train Loss = 0.3268\n",
      "Model Loss = 0.3249, Decov Loss = 0.0000\n",
      "\n",
      "==>Predicting on validation\n",
      "Valid Loss = 0.3340\n",
      "valid_model Loss = 0.3340\n",
      "valid_decov Loss = 0.0000\n",
      "confusion matrix:\n",
      "[[832  27]\n",
      " [112  29]]\n",
      "accuracy = 0.8610000014305115\n",
      "precision class 0 = 0.8813559412956238\n",
      "precision class 1 = 0.5178571343421936\n",
      "recall class 0 = 0.9685680866241455\n",
      "recall class 1 = 0.20567375421524048\n",
      "AUC of ROC = 0.7976865727094841\n",
      "AUC of PRC = 0.4167952136940998\n",
      "min(+P, Se) = 0.42045454545454547\n",
      "f1_score = 0.2944162375145103\n",
      "\n"
     ]
    },
    {
     "name": "stderr",
     "output_type": "stream",
     "text": [
      "C:\\Users\\berse\\anaconda3\\envs\\ConCare2\\lib\\site-packages\\ipykernel_launcher.py:140: UserWarning: Implicit dimension choice for softmax has been deprecated. Change the call to include dim=X as an argument.\n",
      "C:\\Users\\berse\\anaconda3\\envs\\ConCare2\\lib\\site-packages\\ipykernel_launcher.py:208: UserWarning: Implicit dimension choice for softmax has been deprecated. Change the call to include dim=X as an argument.\n"
     ]
    },
    {
     "name": "stdout",
     "output_type": "stream",
     "text": [
      "Epoch 79 Batch 0: Train Loss = 0.4011\n",
      "Model Loss = 0.3992, Decov Loss = 0.0000\n",
      "\n",
      "==>Predicting on validation\n",
      "Valid Loss = 0.3355\n",
      "valid_model Loss = 0.3355\n",
      "valid_decov Loss = 0.0000\n",
      "confusion matrix:\n",
      "[[824  35]\n",
      " [103  38]]\n",
      "accuracy = 0.8619999885559082\n",
      "precision class 0 = 0.8888888955116272\n",
      "precision class 1 = 0.5205479264259338\n",
      "recall class 0 = 0.9592549204826355\n",
      "recall class 1 = 0.26950353384017944\n",
      "AUC of ROC = 0.7935584012417539\n",
      "AUC of PRC = 0.4150582555877373\n",
      "min(+P, Se) = 0.4154929577464789\n",
      "f1_score = 0.35514017190149394\n",
      "\n"
     ]
    },
    {
     "name": "stderr",
     "output_type": "stream",
     "text": [
      "C:\\Users\\berse\\anaconda3\\envs\\ConCare2\\lib\\site-packages\\ipykernel_launcher.py:140: UserWarning: Implicit dimension choice for softmax has been deprecated. Change the call to include dim=X as an argument.\n",
      "C:\\Users\\berse\\anaconda3\\envs\\ConCare2\\lib\\site-packages\\ipykernel_launcher.py:208: UserWarning: Implicit dimension choice for softmax has been deprecated. Change the call to include dim=X as an argument.\n"
     ]
    },
    {
     "name": "stdout",
     "output_type": "stream",
     "text": [
      "Epoch 80 Batch 0: Train Loss = 0.3268\n",
      "Model Loss = 0.3249, Decov Loss = 0.0000\n",
      "\n",
      "==>Predicting on validation\n",
      "Valid Loss = 0.3389\n",
      "valid_model Loss = 0.3389\n",
      "valid_decov Loss = 0.0000\n",
      "confusion matrix:\n",
      "[[818  41]\n",
      " [101  40]]\n",
      "accuracy = 0.8579999804496765\n",
      "precision class 0 = 0.8900979161262512\n",
      "precision class 1 = 0.4938271641731262\n",
      "recall class 0 = 0.9522700905799866\n",
      "recall class 1 = 0.283687949180603\n",
      "AUC of ROC = 0.7910237039605676\n",
      "AUC of PRC = 0.4115259744991822\n",
      "min(+P, Se) = 0.4295774647887324\n",
      "f1_score = 0.3603603661147411\n",
      "\n"
     ]
    },
    {
     "name": "stderr",
     "output_type": "stream",
     "text": [
      "C:\\Users\\berse\\anaconda3\\envs\\ConCare2\\lib\\site-packages\\ipykernel_launcher.py:140: UserWarning: Implicit dimension choice for softmax has been deprecated. Change the call to include dim=X as an argument.\n",
      "C:\\Users\\berse\\anaconda3\\envs\\ConCare2\\lib\\site-packages\\ipykernel_launcher.py:208: UserWarning: Implicit dimension choice for softmax has been deprecated. Change the call to include dim=X as an argument.\n"
     ]
    },
    {
     "name": "stdout",
     "output_type": "stream",
     "text": [
      "Epoch 81 Batch 0: Train Loss = 0.3374\n",
      "Model Loss = 0.3355, Decov Loss = 0.0000\n",
      "\n",
      "==>Predicting on validation\n",
      "Valid Loss = 0.3396\n",
      "valid_model Loss = 0.3396\n",
      "valid_decov Loss = 0.0000\n",
      "confusion matrix:\n",
      "[[816  43]\n",
      " [100  41]]\n",
      "accuracy = 0.8569999933242798\n",
      "precision class 0 = 0.8908296823501587\n",
      "precision class 1 = 0.488095223903656\n",
      "recall class 0 = 0.9499418139457703\n",
      "recall class 1 = 0.29078012704849243\n",
      "AUC of ROC = 0.7914860591649535\n",
      "AUC of PRC = 0.40897690835991024\n",
      "min(+P, Se) = 0.425531914893617\n",
      "f1_score = 0.3644444288677639\n",
      "\n"
     ]
    },
    {
     "name": "stderr",
     "output_type": "stream",
     "text": [
      "C:\\Users\\berse\\anaconda3\\envs\\ConCare2\\lib\\site-packages\\ipykernel_launcher.py:140: UserWarning: Implicit dimension choice for softmax has been deprecated. Change the call to include dim=X as an argument.\n",
      "C:\\Users\\berse\\anaconda3\\envs\\ConCare2\\lib\\site-packages\\ipykernel_launcher.py:208: UserWarning: Implicit dimension choice for softmax has been deprecated. Change the call to include dim=X as an argument.\n"
     ]
    },
    {
     "name": "stdout",
     "output_type": "stream",
     "text": [
      "Epoch 82 Batch 0: Train Loss = 0.3302\n",
      "Model Loss = 0.3281, Decov Loss = 0.0000\n",
      "\n",
      "==>Predicting on validation\n",
      "Valid Loss = 0.3390\n",
      "valid_model Loss = 0.3390\n",
      "valid_decov Loss = 0.0000\n",
      "confusion matrix:\n",
      "[[817  42]\n",
      " [101  40]]\n",
      "accuracy = 0.8569999933242798\n",
      "precision class 0 = 0.8899782299995422\n",
      "precision class 1 = 0.4878048896789551\n",
      "recall class 0 = 0.9511059522628784\n",
      "recall class 1 = 0.283687949180603\n",
      "AUC of ROC = 0.7920144651128229\n",
      "AUC of PRC = 0.4053371119294605\n",
      "min(+P, Se) = 0.4236111111111111\n",
      "f1_score = 0.3587444024959626\n",
      "\n"
     ]
    },
    {
     "name": "stderr",
     "output_type": "stream",
     "text": [
      "C:\\Users\\berse\\anaconda3\\envs\\ConCare2\\lib\\site-packages\\ipykernel_launcher.py:140: UserWarning: Implicit dimension choice for softmax has been deprecated. Change the call to include dim=X as an argument.\n",
      "C:\\Users\\berse\\anaconda3\\envs\\ConCare2\\lib\\site-packages\\ipykernel_launcher.py:208: UserWarning: Implicit dimension choice for softmax has been deprecated. Change the call to include dim=X as an argument.\n"
     ]
    },
    {
     "name": "stdout",
     "output_type": "stream",
     "text": [
      "Epoch 83 Batch 0: Train Loss = 0.2848\n",
      "Model Loss = 0.2829, Decov Loss = 0.0000\n",
      "\n",
      "==>Predicting on validation\n",
      "Valid Loss = 0.3382\n",
      "valid_model Loss = 0.3382\n",
      "valid_decov Loss = 0.0000\n",
      "confusion matrix:\n",
      "[[815  44]\n",
      " [104  37]]\n",
      "accuracy = 0.8519999980926514\n",
      "precision class 0 = 0.8868334889411926\n",
      "precision class 1 = 0.45679011940956116\n",
      "recall class 0 = 0.9487776756286621\n",
      "recall class 1 = 0.26241135597229004\n",
      "AUC of ROC = 0.791263137905696\n",
      "AUC of PRC = 0.4024342901113853\n",
      "min(+P, Se) = 0.4166666666666667\n",
      "f1_score = 0.33333335288952065\n",
      "\n"
     ]
    },
    {
     "name": "stderr",
     "output_type": "stream",
     "text": [
      "C:\\Users\\berse\\anaconda3\\envs\\ConCare2\\lib\\site-packages\\ipykernel_launcher.py:140: UserWarning: Implicit dimension choice for softmax has been deprecated. Change the call to include dim=X as an argument.\n",
      "C:\\Users\\berse\\anaconda3\\envs\\ConCare2\\lib\\site-packages\\ipykernel_launcher.py:208: UserWarning: Implicit dimension choice for softmax has been deprecated. Change the call to include dim=X as an argument.\n"
     ]
    },
    {
     "name": "stdout",
     "output_type": "stream",
     "text": [
      "Epoch 84 Batch 0: Train Loss = 0.2910\n",
      "Model Loss = 0.2891, Decov Loss = 0.0000\n",
      "\n",
      "==>Predicting on validation\n",
      "Valid Loss = 0.3386\n",
      "valid_model Loss = 0.3386\n",
      "valid_decov Loss = 0.0000\n",
      "confusion matrix:\n",
      "[[814  45]\n",
      " [101  40]]\n",
      "accuracy = 0.8539999723434448\n",
      "precision class 0 = 0.8896175026893616\n",
      "precision class 1 = 0.47058823704719543\n",
      "recall class 0 = 0.9476134777069092\n",
      "recall class 1 = 0.283687949180603\n",
      "AUC of ROC = 0.7905283233844401\n",
      "AUC of PRC = 0.410387399839898\n",
      "min(+P, Se) = 0.41843971631205673\n",
      "f1_score = 0.35398231997440693\n",
      "\n"
     ]
    },
    {
     "name": "stderr",
     "output_type": "stream",
     "text": [
      "C:\\Users\\berse\\anaconda3\\envs\\ConCare2\\lib\\site-packages\\ipykernel_launcher.py:140: UserWarning: Implicit dimension choice for softmax has been deprecated. Change the call to include dim=X as an argument.\n",
      "C:\\Users\\berse\\anaconda3\\envs\\ConCare2\\lib\\site-packages\\ipykernel_launcher.py:208: UserWarning: Implicit dimension choice for softmax has been deprecated. Change the call to include dim=X as an argument.\n"
     ]
    },
    {
     "name": "stdout",
     "output_type": "stream",
     "text": [
      "Epoch 85 Batch 0: Train Loss = 0.2852\n",
      "Model Loss = 0.2833, Decov Loss = 0.0000\n",
      "\n",
      "==>Predicting on validation\n",
      "Valid Loss = 0.3415\n",
      "valid_model Loss = 0.3415\n",
      "valid_decov Loss = 0.0000\n",
      "confusion matrix:\n",
      "[[817  42]\n",
      " [101  40]]\n",
      "accuracy = 0.8569999933242798\n",
      "precision class 0 = 0.8899782299995422\n",
      "precision class 1 = 0.4878048896789551\n",
      "recall class 0 = 0.9511059522628784\n",
      "recall class 1 = 0.283687949180603\n",
      "AUC of ROC = 0.7923447188302413\n",
      "AUC of PRC = 0.41053855470821604\n",
      "min(+P, Se) = 0.41843971631205673\n",
      "f1_score = 0.3587444024959626\n",
      "\n"
     ]
    },
    {
     "name": "stderr",
     "output_type": "stream",
     "text": [
      "C:\\Users\\berse\\anaconda3\\envs\\ConCare2\\lib\\site-packages\\ipykernel_launcher.py:140: UserWarning: Implicit dimension choice for softmax has been deprecated. Change the call to include dim=X as an argument.\n",
      "C:\\Users\\berse\\anaconda3\\envs\\ConCare2\\lib\\site-packages\\ipykernel_launcher.py:208: UserWarning: Implicit dimension choice for softmax has been deprecated. Change the call to include dim=X as an argument.\n"
     ]
    },
    {
     "name": "stdout",
     "output_type": "stream",
     "text": [
      "Epoch 86 Batch 0: Train Loss = 0.3065\n",
      "Model Loss = 0.3045, Decov Loss = 0.0000\n",
      "\n",
      "==>Predicting on validation\n",
      "Valid Loss = 0.3356\n",
      "valid_model Loss = 0.3356\n",
      "valid_decov Loss = 0.0000\n",
      "confusion matrix:\n",
      "[[809  50]\n",
      " [ 97  44]]\n",
      "accuracy = 0.8529999852180481\n",
      "precision class 0 = 0.8929359912872314\n",
      "precision class 1 = 0.4680851101875305\n",
      "recall class 0 = 0.9417927861213684\n",
      "recall class 1 = 0.3120567500591278\n",
      "AUC of ROC = 0.798495694317159\n",
      "AUC of PRC = 0.4097186827111009\n",
      "min(+P, Se) = 0.4326241134751773\n",
      "f1_score = 0.37446810960769705\n",
      "\n"
     ]
    },
    {
     "name": "stderr",
     "output_type": "stream",
     "text": [
      "C:\\Users\\berse\\anaconda3\\envs\\ConCare2\\lib\\site-packages\\ipykernel_launcher.py:140: UserWarning: Implicit dimension choice for softmax has been deprecated. Change the call to include dim=X as an argument.\n",
      "C:\\Users\\berse\\anaconda3\\envs\\ConCare2\\lib\\site-packages\\ipykernel_launcher.py:208: UserWarning: Implicit dimension choice for softmax has been deprecated. Change the call to include dim=X as an argument.\n"
     ]
    },
    {
     "name": "stdout",
     "output_type": "stream",
     "text": [
      "Epoch 87 Batch 0: Train Loss = 0.2873\n",
      "Model Loss = 0.2852, Decov Loss = 0.0000\n",
      "\n",
      "==>Predicting on validation\n",
      "Valid Loss = 0.3347\n",
      "valid_model Loss = 0.3347\n",
      "valid_decov Loss = 0.0000\n",
      "confusion matrix:\n",
      "[[814  45]\n",
      " [100  41]]\n",
      "accuracy = 0.8550000190734863\n",
      "precision class 0 = 0.8905907869338989\n",
      "precision class 1 = 0.4767441749572754\n",
      "recall class 0 = 0.9476134777069092\n",
      "recall class 1 = 0.29078012704849243\n",
      "AUC of ROC = 0.802566071384341\n",
      "AUC of PRC = 0.40855436865595335\n",
      "min(+P, Se) = 0.4326241134751773\n",
      "f1_score = 0.36123346557608665\n",
      "\n"
     ]
    },
    {
     "name": "stderr",
     "output_type": "stream",
     "text": [
      "C:\\Users\\berse\\anaconda3\\envs\\ConCare2\\lib\\site-packages\\ipykernel_launcher.py:140: UserWarning: Implicit dimension choice for softmax has been deprecated. Change the call to include dim=X as an argument.\n",
      "C:\\Users\\berse\\anaconda3\\envs\\ConCare2\\lib\\site-packages\\ipykernel_launcher.py:208: UserWarning: Implicit dimension choice for softmax has been deprecated. Change the call to include dim=X as an argument.\n"
     ]
    },
    {
     "name": "stdout",
     "output_type": "stream",
     "text": [
      "Epoch 88 Batch 0: Train Loss = 0.3147\n",
      "Model Loss = 0.3126, Decov Loss = 0.0000\n",
      "\n",
      "==>Predicting on validation\n",
      "Valid Loss = 0.3382\n",
      "valid_model Loss = 0.3382\n",
      "valid_decov Loss = 0.0000\n",
      "confusion matrix:\n",
      "[[830  29]\n",
      " [112  29]]\n",
      "accuracy = 0.859000027179718\n",
      "precision class 0 = 0.881104052066803\n",
      "precision class 1 = 0.5\n",
      "recall class 0 = 0.9662398099899292\n",
      "recall class 1 = 0.20567375421524048\n",
      "AUC of ROC = 0.8000809121607675\n",
      "AUC of PRC = 0.4004777843340391\n",
      "min(+P, Se) = 0.4166666666666667\n",
      "f1_score = 0.29145728176324814\n",
      "\n"
     ]
    },
    {
     "name": "stderr",
     "output_type": "stream",
     "text": [
      "C:\\Users\\berse\\anaconda3\\envs\\ConCare2\\lib\\site-packages\\ipykernel_launcher.py:140: UserWarning: Implicit dimension choice for softmax has been deprecated. Change the call to include dim=X as an argument.\n",
      "C:\\Users\\berse\\anaconda3\\envs\\ConCare2\\lib\\site-packages\\ipykernel_launcher.py:208: UserWarning: Implicit dimension choice for softmax has been deprecated. Change the call to include dim=X as an argument.\n"
     ]
    },
    {
     "name": "stdout",
     "output_type": "stream",
     "text": [
      "Epoch 89 Batch 0: Train Loss = 0.3619\n",
      "Model Loss = 0.3598, Decov Loss = 0.0000\n",
      "\n",
      "==>Predicting on validation\n",
      "Valid Loss = 0.3389\n",
      "valid_model Loss = 0.3389\n",
      "valid_decov Loss = 0.0000\n",
      "confusion matrix:\n",
      "[[829  30]\n",
      " [109  32]]\n",
      "accuracy = 0.8610000014305115\n",
      "precision class 0 = 0.8837953209877014\n",
      "precision class 1 = 0.5161290168762207\n",
      "recall class 0 = 0.965075671672821\n",
      "recall class 1 = 0.22695034742355347\n",
      "AUC of ROC = 0.7952592078864588\n",
      "AUC of PRC = 0.39345483457587666\n",
      "min(+P, Se) = 0.4161073825503356\n",
      "f1_score = 0.3152709261569006\n",
      "\n"
     ]
    },
    {
     "name": "stderr",
     "output_type": "stream",
     "text": [
      "C:\\Users\\berse\\anaconda3\\envs\\ConCare2\\lib\\site-packages\\ipykernel_launcher.py:140: UserWarning: Implicit dimension choice for softmax has been deprecated. Change the call to include dim=X as an argument.\n",
      "C:\\Users\\berse\\anaconda3\\envs\\ConCare2\\lib\\site-packages\\ipykernel_launcher.py:208: UserWarning: Implicit dimension choice for softmax has been deprecated. Change the call to include dim=X as an argument.\n"
     ]
    },
    {
     "name": "stdout",
     "output_type": "stream",
     "text": [
      "Epoch 90 Batch 0: Train Loss = 0.3216\n",
      "Model Loss = 0.3195, Decov Loss = 0.0000\n",
      "\n",
      "==>Predicting on validation\n",
      "Valid Loss = 0.3384\n",
      "valid_model Loss = 0.3384\n",
      "valid_decov Loss = 0.0000\n",
      "confusion matrix:\n",
      "[[822  37]\n",
      " [106  35]]\n",
      "accuracy = 0.8569999933242798\n",
      "precision class 0 = 0.8857758641242981\n",
      "precision class 1 = 0.4861111044883728\n",
      "recall class 0 = 0.9569266438484192\n",
      "recall class 1 = 0.24822695553302765\n",
      "AUC of ROC = 0.7964976593267777\n",
      "AUC of PRC = 0.40123145671127114\n",
      "min(+P, Se) = 0.43356643356643354\n",
      "f1_score = 0.328638507346269\n",
      "\n"
     ]
    },
    {
     "name": "stderr",
     "output_type": "stream",
     "text": [
      "C:\\Users\\berse\\anaconda3\\envs\\ConCare2\\lib\\site-packages\\ipykernel_launcher.py:140: UserWarning: Implicit dimension choice for softmax has been deprecated. Change the call to include dim=X as an argument.\n",
      "C:\\Users\\berse\\anaconda3\\envs\\ConCare2\\lib\\site-packages\\ipykernel_launcher.py:208: UserWarning: Implicit dimension choice for softmax has been deprecated. Change the call to include dim=X as an argument.\n"
     ]
    },
    {
     "name": "stdout",
     "output_type": "stream",
     "text": [
      "Epoch 91 Batch 0: Train Loss = 0.2581\n",
      "Model Loss = 0.2559, Decov Loss = 0.0000\n",
      "\n",
      "==>Predicting on validation\n",
      "Valid Loss = 0.3447\n",
      "valid_model Loss = 0.3447\n",
      "valid_decov Loss = 0.0000\n",
      "confusion matrix:\n",
      "[[824  35]\n",
      " [104  37]]\n",
      "accuracy = 0.8610000014305115\n",
      "precision class 0 = 0.8879310488700867\n",
      "precision class 1 = 0.5138888955116272\n",
      "recall class 0 = 0.9592549204826355\n",
      "recall class 1 = 0.26241135597229004\n",
      "AUC of ROC = 0.7944005482211708\n",
      "AUC of PRC = 0.40922062696189004\n",
      "min(+P, Se) = 0.4267515923566879\n",
      "f1_score = 0.34741784929874464\n",
      "\n"
     ]
    },
    {
     "name": "stderr",
     "output_type": "stream",
     "text": [
      "C:\\Users\\berse\\anaconda3\\envs\\ConCare2\\lib\\site-packages\\ipykernel_launcher.py:140: UserWarning: Implicit dimension choice for softmax has been deprecated. Change the call to include dim=X as an argument.\n",
      "C:\\Users\\berse\\anaconda3\\envs\\ConCare2\\lib\\site-packages\\ipykernel_launcher.py:208: UserWarning: Implicit dimension choice for softmax has been deprecated. Change the call to include dim=X as an argument.\n"
     ]
    },
    {
     "name": "stdout",
     "output_type": "stream",
     "text": [
      "Epoch 92 Batch 0: Train Loss = 0.3282\n",
      "Model Loss = 0.3257, Decov Loss = 0.0000\n",
      "\n",
      "==>Predicting on validation\n",
      "Valid Loss = 0.3424\n",
      "valid_model Loss = 0.3424\n",
      "valid_decov Loss = 0.0000\n",
      "confusion matrix:\n",
      "[[825  34]\n",
      " [106  35]]\n",
      "accuracy = 0.8600000143051147\n",
      "precision class 0 = 0.8861439228057861\n",
      "precision class 1 = 0.5072463750839233\n",
      "recall class 0 = 0.9604191184043884\n",
      "recall class 1 = 0.24822695553302765\n",
      "AUC of ROC = 0.7928318430634335\n",
      "AUC of PRC = 0.4115873676243935\n",
      "min(+P, Se) = 0.4225352112676056\n",
      "f1_score = 0.33333334420408534\n",
      "\n"
     ]
    },
    {
     "name": "stderr",
     "output_type": "stream",
     "text": [
      "C:\\Users\\berse\\anaconda3\\envs\\ConCare2\\lib\\site-packages\\ipykernel_launcher.py:140: UserWarning: Implicit dimension choice for softmax has been deprecated. Change the call to include dim=X as an argument.\n",
      "C:\\Users\\berse\\anaconda3\\envs\\ConCare2\\lib\\site-packages\\ipykernel_launcher.py:208: UserWarning: Implicit dimension choice for softmax has been deprecated. Change the call to include dim=X as an argument.\n"
     ]
    },
    {
     "name": "stdout",
     "output_type": "stream",
     "text": [
      "Epoch 93 Batch 0: Train Loss = 0.2852\n",
      "Model Loss = 0.2832, Decov Loss = 0.0000\n",
      "\n",
      "==>Predicting on validation\n",
      "Valid Loss = 0.3392\n",
      "valid_model Loss = 0.3392\n",
      "valid_decov Loss = 0.0000\n",
      "confusion matrix:\n",
      "[[823  36]\n",
      " [103  38]]\n",
      "accuracy = 0.8610000014305115\n",
      "precision class 0 = 0.8887689113616943\n",
      "precision class 1 = 0.5135135054588318\n",
      "recall class 0 = 0.9580907821655273\n",
      "recall class 1 = 0.26950353384017944\n",
      "AUC of ROC = 0.7947142892527185\n",
      "AUC of PRC = 0.4163654008485822\n",
      "min(+P, Se) = 0.4195804195804196\n",
      "f1_score = 0.353488359639553\n",
      "\n"
     ]
    },
    {
     "name": "stderr",
     "output_type": "stream",
     "text": [
      "C:\\Users\\berse\\anaconda3\\envs\\ConCare2\\lib\\site-packages\\ipykernel_launcher.py:140: UserWarning: Implicit dimension choice for softmax has been deprecated. Change the call to include dim=X as an argument.\n",
      "C:\\Users\\berse\\anaconda3\\envs\\ConCare2\\lib\\site-packages\\ipykernel_launcher.py:208: UserWarning: Implicit dimension choice for softmax has been deprecated. Change the call to include dim=X as an argument.\n"
     ]
    },
    {
     "name": "stdout",
     "output_type": "stream",
     "text": [
      "Epoch 94 Batch 0: Train Loss = 0.3071\n",
      "Model Loss = 0.3051, Decov Loss = 0.0000\n",
      "\n",
      "==>Predicting on validation\n",
      "Valid Loss = 0.3334\n",
      "valid_model Loss = 0.3334\n",
      "valid_decov Loss = 0.0000\n",
      "confusion matrix:\n",
      "[[817  42]\n",
      " [100  41]]\n",
      "accuracy = 0.8579999804496765\n",
      "precision class 0 = 0.8909487724304199\n",
      "precision class 1 = 0.4939759075641632\n",
      "recall class 0 = 0.9511059522628784\n",
      "recall class 1 = 0.29078012704849243\n",
      "AUC of ROC = 0.8007579322814753\n",
      "AUC of PRC = 0.40224227170179466\n",
      "min(+P, Se) = 0.40425531914893614\n",
      "f1_score = 0.36607140402917854\n",
      "\n"
     ]
    },
    {
     "name": "stderr",
     "output_type": "stream",
     "text": [
      "C:\\Users\\berse\\anaconda3\\envs\\ConCare2\\lib\\site-packages\\ipykernel_launcher.py:140: UserWarning: Implicit dimension choice for softmax has been deprecated. Change the call to include dim=X as an argument.\n",
      "C:\\Users\\berse\\anaconda3\\envs\\ConCare2\\lib\\site-packages\\ipykernel_launcher.py:208: UserWarning: Implicit dimension choice for softmax has been deprecated. Change the call to include dim=X as an argument.\n"
     ]
    },
    {
     "name": "stdout",
     "output_type": "stream",
     "text": [
      "Epoch 95 Batch 0: Train Loss = 0.3051\n",
      "Model Loss = 0.3029, Decov Loss = 0.0000\n",
      "\n",
      "==>Predicting on validation\n",
      "Valid Loss = 0.3311\n",
      "valid_model Loss = 0.3311\n",
      "valid_decov Loss = 0.0000\n",
      "confusion matrix:\n",
      "[[820  39]\n",
      " [101  40]]\n",
      "accuracy = 0.8600000143051147\n",
      "precision class 0 = 0.8903365731239319\n",
      "precision class 1 = 0.5063291192054749\n",
      "recall class 0 = 0.9545983672142029\n",
      "recall class 1 = 0.283687949180603\n",
      "AUC of ROC = 0.8040109313980465\n",
      "AUC of PRC = 0.3987716825765999\n",
      "min(+P, Se) = 0.41379310344827586\n",
      "f1_score = 0.3636363698603693\n",
      "\n",
      "\n",
      "------------ Save best model ------------\n",
      "\n"
     ]
    },
    {
     "name": "stderr",
     "output_type": "stream",
     "text": [
      "C:\\Users\\berse\\anaconda3\\envs\\ConCare2\\lib\\site-packages\\ipykernel_launcher.py:140: UserWarning: Implicit dimension choice for softmax has been deprecated. Change the call to include dim=X as an argument.\n",
      "C:\\Users\\berse\\anaconda3\\envs\\ConCare2\\lib\\site-packages\\ipykernel_launcher.py:208: UserWarning: Implicit dimension choice for softmax has been deprecated. Change the call to include dim=X as an argument.\n"
     ]
    },
    {
     "name": "stdout",
     "output_type": "stream",
     "text": [
      "Epoch 96 Batch 0: Train Loss = 0.3119\n",
      "Model Loss = 0.3099, Decov Loss = 0.0000\n",
      "\n",
      "==>Predicting on validation\n",
      "Valid Loss = 0.3318\n",
      "valid_model Loss = 0.3318\n",
      "valid_decov Loss = 0.0000\n",
      "confusion matrix:\n",
      "[[812  47]\n",
      " [101  40]]\n",
      "accuracy = 0.8519999980926514\n",
      "precision class 0 = 0.8893756866455078\n",
      "precision class 1 = 0.4597701132297516\n",
      "recall class 0 = 0.9452852010726929\n",
      "recall class 1 = 0.283687949180603\n",
      "AUC of ROC = 0.8049356418068181\n",
      "AUC of PRC = 0.4024180520928805\n",
      "min(+P, Se) = 0.4429530201342282\n",
      "f1_score = 0.3508772110757411\n",
      "\n",
      "\n",
      "------------ Save best model ------------\n",
      "\n"
     ]
    },
    {
     "name": "stderr",
     "output_type": "stream",
     "text": [
      "C:\\Users\\berse\\anaconda3\\envs\\ConCare2\\lib\\site-packages\\ipykernel_launcher.py:140: UserWarning: Implicit dimension choice for softmax has been deprecated. Change the call to include dim=X as an argument.\n",
      "C:\\Users\\berse\\anaconda3\\envs\\ConCare2\\lib\\site-packages\\ipykernel_launcher.py:208: UserWarning: Implicit dimension choice for softmax has been deprecated. Change the call to include dim=X as an argument.\n"
     ]
    },
    {
     "name": "stdout",
     "output_type": "stream",
     "text": [
      "Epoch 97 Batch 0: Train Loss = 0.2891\n",
      "Model Loss = 0.2866, Decov Loss = 0.0000\n",
      "\n",
      "==>Predicting on validation\n",
      "Valid Loss = 0.3333\n",
      "valid_model Loss = 0.3333\n",
      "valid_decov Loss = 0.0000\n",
      "confusion matrix:\n",
      "[[815  44]\n",
      " [ 98  43]]\n",
      "accuracy = 0.8579999804496765\n",
      "precision class 0 = 0.8926615715026855\n",
      "precision class 1 = 0.49425286054611206\n",
      "recall class 0 = 0.9487776756286621\n",
      "recall class 1 = 0.304964542388916\n",
      "AUC of ROC = 0.8040274440839175\n",
      "AUC of PRC = 0.40369318781100705\n",
      "min(+P, Se) = 0.41843971631205673\n",
      "f1_score = 0.37719298125221445\n",
      "\n"
     ]
    },
    {
     "name": "stderr",
     "output_type": "stream",
     "text": [
      "C:\\Users\\berse\\anaconda3\\envs\\ConCare2\\lib\\site-packages\\ipykernel_launcher.py:140: UserWarning: Implicit dimension choice for softmax has been deprecated. Change the call to include dim=X as an argument.\n",
      "C:\\Users\\berse\\anaconda3\\envs\\ConCare2\\lib\\site-packages\\ipykernel_launcher.py:208: UserWarning: Implicit dimension choice for softmax has been deprecated. Change the call to include dim=X as an argument.\n"
     ]
    },
    {
     "name": "stdout",
     "output_type": "stream",
     "text": [
      "Epoch 98 Batch 0: Train Loss = 0.3274\n",
      "Model Loss = 0.3254, Decov Loss = 0.0000\n",
      "\n",
      "==>Predicting on validation\n",
      "Valid Loss = 0.3364\n",
      "valid_model Loss = 0.3364\n",
      "valid_decov Loss = 0.0000\n",
      "confusion matrix:\n",
      "[[814  45]\n",
      " [ 97  44]]\n",
      "accuracy = 0.8579999804496765\n",
      "precision class 0 = 0.8935235738754272\n",
      "precision class 1 = 0.49438202381134033\n",
      "recall class 0 = 0.9476134777069092\n",
      "recall class 1 = 0.3120567500591278\n",
      "AUC of ROC = 0.8008322393678944\n",
      "AUC of PRC = 0.3948456559946868\n",
      "min(+P, Se) = 0.41843971631205673\n",
      "f1_score = 0.3826086912871762\n",
      "\n"
     ]
    },
    {
     "name": "stderr",
     "output_type": "stream",
     "text": [
      "C:\\Users\\berse\\anaconda3\\envs\\ConCare2\\lib\\site-packages\\ipykernel_launcher.py:140: UserWarning: Implicit dimension choice for softmax has been deprecated. Change the call to include dim=X as an argument.\n",
      "C:\\Users\\berse\\anaconda3\\envs\\ConCare2\\lib\\site-packages\\ipykernel_launcher.py:208: UserWarning: Implicit dimension choice for softmax has been deprecated. Change the call to include dim=X as an argument.\n"
     ]
    },
    {
     "name": "stdout",
     "output_type": "stream",
     "text": [
      "Epoch 99 Batch 0: Train Loss = 0.2375\n",
      "Model Loss = 0.2354, Decov Loss = 0.0000\n",
      "\n",
      "==>Predicting on validation\n",
      "Valid Loss = 0.3399\n",
      "valid_model Loss = 0.3399\n",
      "valid_decov Loss = 0.0000\n",
      "confusion matrix:\n",
      "[[817  42]\n",
      " [102  39]]\n",
      "accuracy = 0.8560000061988831\n",
      "precision class 0 = 0.8890097737312317\n",
      "precision class 1 = 0.48148149251937866\n",
      "recall class 0 = 0.9511059522628784\n",
      "recall class 1 = 0.27659574151039124\n",
      "AUC of ROC = 0.800072655817832\n",
      "AUC of PRC = 0.39406705931981517\n",
      "min(+P, Se) = 0.4397163120567376\n",
      "f1_score = 0.3513513379196259\n",
      "\n"
     ]
    }
   ],
   "source": [
    "RANDOM_SEED = 42\n",
    "np.random.seed(RANDOM_SEED) #numpy\n",
    "random.seed(RANDOM_SEED)\n",
    "torch.manual_seed(RANDOM_SEED) # cpu\n",
    "torch.cuda.manual_seed(RANDOM_SEED) #gpu\n",
    "torch.backends.cudnn.deterministic=True # cudnn\n",
    "\n",
    "model = ConCare(input_dim = 76, hidden_dim = 64, d_model = 64,  MHD_num_head = 4 , d_ff = 256, output_dim = 1).to(device)\n",
    "# input_dim, d_model, d_k, d_v, MHD_num_head, d_ff, output_dim\n",
    "optimizer = torch.optim.Adam(model.parameters(), lr=1e-3)\n",
    "\n",
    "max_roc = 0\n",
    "max_prc = 0\n",
    "train_loss = []\n",
    "train_model_loss = []\n",
    "train_decov_loss = []\n",
    "valid_loss = []\n",
    "valid_model_loss = []\n",
    "valid_decov_loss = []\n",
    "history = []\n",
    "np.set_printoptions(threshold=np.inf)\n",
    "np.set_printoptions(precision=2)\n",
    "np.set_printoptions(suppress=True)\n",
    "\n",
    "for each_epoch in range(100):\n",
    "    batch_loss = []\n",
    "    model_batch_loss = []\n",
    "    decov_batch_loss = []\n",
    "\n",
    "    model.train()\n",
    "\n",
    "    for step, (batch_x, batch_y, batch_name) in enumerate(train_loader):\n",
    "        optimizer.zero_grad()\n",
    "        batch_x = batch_x.float().to(device)\n",
    "        batch_y = batch_y.float().to(device)\n",
    "\n",
    "        batch_demo = []\n",
    "        for i in range(len(batch_name)):\n",
    "            cur_id, cur_ep, _ = batch_name[i].split('_', 2)\n",
    "            cur_idx = cur_id + '_' + cur_ep\n",
    "            cur_demo = torch.tensor(demographic_data[idx_list.index(cur_idx)], dtype=torch.float32)\n",
    "            batch_demo.append(cur_demo)\n",
    "\n",
    "        batch_demo = torch.stack(batch_demo).to(device)\n",
    "        output, decov_loss = model(batch_x, batch_demo)\n",
    "\n",
    "\n",
    "        model_loss = get_loss(output, batch_y.unsqueeze(-1))\n",
    "        loss = model_loss + 800* decov_loss\n",
    "\n",
    "        batch_loss.append(loss.cpu().detach().numpy())\n",
    "        model_batch_loss.append(model_loss.cpu().detach().numpy())\n",
    "        decov_batch_loss.append(decov_loss.cpu().detach().numpy())\n",
    "        loss.backward()\n",
    "        optimizer.step()\n",
    "\n",
    "        if step % 30 == 0:\n",
    "            print('Epoch %d Batch %d: Train Loss = %.4f'%(each_epoch, step, np.mean(np.array(batch_loss))))\n",
    "            print('Model Loss = %.4f, Decov Loss = %.4f'%(np.mean(np.array(model_batch_loss)), np.mean(np.array(decov_batch_loss))))\n",
    "    train_loss.append(np.mean(np.array(batch_loss)))\n",
    "    train_model_loss.append(np.mean(np.array(model_batch_loss)))\n",
    "    train_decov_loss.append(np.mean(np.array(decov_batch_loss)))\n",
    "\n",
    "    batch_loss = []\n",
    "    model_batch_loss = []\n",
    "    decov_batch_loss = []\n",
    "\n",
    "    y_true = []\n",
    "    y_pred = []\n",
    "    with torch.no_grad():\n",
    "        model.eval()\n",
    "        for step, (batch_x, batch_y, batch_name) in enumerate(valid_loader):\n",
    "            batch_x = batch_x.float().to(device)\n",
    "            batch_y = batch_y.float().to(device)\n",
    "            batch_demo = []\n",
    "            for i in range(len(batch_name)):\n",
    "                cur_id, cur_ep, _ = batch_name[i].split('_', 2)\n",
    "                cur_idx = cur_id + '_' + cur_ep\n",
    "                cur_demo = torch.tensor(demographic_data[idx_list.index(cur_idx)], dtype=torch.float32)\n",
    "                batch_demo.append(cur_demo)\n",
    "\n",
    "            batch_demo = torch.stack(batch_demo).to(device)\n",
    "            output,decov_loss = model(batch_x, batch_demo)\n",
    "\n",
    "            model_loss = get_loss(output, batch_y.unsqueeze(-1))\n",
    "\n",
    "            loss = model_loss + 10* decov_loss\n",
    "            batch_loss.append(loss.cpu().detach().numpy())\n",
    "            model_batch_loss.append(model_loss.cpu().detach().numpy())\n",
    "            decov_batch_loss.append(decov_loss.cpu().detach().numpy())\n",
    "            y_pred += list(output.cpu().detach().numpy().flatten())\n",
    "            y_true += list(batch_y.cpu().numpy().flatten())\n",
    "\n",
    "    valid_loss.append(np.mean(np.array(batch_loss)))\n",
    "    valid_model_loss.append(np.mean(np.array(model_batch_loss)))\n",
    "    valid_decov_loss.append(np.mean(np.array(decov_batch_loss)))\n",
    "\n",
    "    print(\"\\n==>Predicting on validation\")\n",
    "    print('Valid Loss = %.4f'%(valid_loss[-1]))\n",
    "    print('valid_model Loss = %.4f'%(valid_model_loss[-1]))\n",
    "    print('valid_decov Loss = %.4f'%(valid_decov_loss[-1]))\n",
    "    y_pred = np.array(y_pred)\n",
    "    y_pred = np.stack([1 - y_pred, y_pred], axis=1)\n",
    "    ret = metrics.print_metrics_binary(y_true, y_pred)\n",
    "    history.append(ret)\n",
    "    print()\n",
    "\n",
    "    cur_auroc = ret['auroc']\n",
    "\n",
    "    if cur_auroc > max_roc:\n",
    "        max_roc = cur_auroc\n",
    "        state = {\n",
    "            'net': model.state_dict(),\n",
    "            'optimizer': optimizer.state_dict(),\n",
    "            'epoch': each_epoch\n",
    "        }\n",
    "        torch.save(state, file_name)\n",
    "        print('\\n------------ Save best model ------------\\n')"
   ],
   "metadata": {
    "collapsed": false,
    "pycharm": {
     "name": "#%%\n"
    }
   }
  },
  {
   "cell_type": "markdown",
   "source": [
    "### Run for test"
   ],
   "metadata": {
    "collapsed": false
   }
  },
  {
   "cell_type": "code",
   "execution_count": null,
   "outputs": [],
   "source": [
    "checkpoint = torch.load(file_name)\n",
    "save_epoch = checkpoint['epoch']\n",
    "model.load_state_dict(checkpoint['net'])\n",
    "optimizer.load_state_dict(checkpoint['optimizer'])\n",
    "model.eval()\n",
    "\n",
    "test_reader = InHospitalMortalityReader(dataset_dir=os.path.join(data_path, 'test'),\n",
    "                                        listfile=os.path.join(data_path, 'test_listfile.csv'),\n",
    "                                        period_length=48.0)\n",
    "test_raw = utils.load_data(test_reader, discretizer, normalizer, small_part, return_names=True)\n",
    "test_dataset = Dataset(test_raw['data'][0], test_raw['data'][1], test_raw['names'])\n",
    "test_loader = torch.utils.data.DataLoader(test_dataset, batch_size=batch_size, shuffle=False)"
   ],
   "metadata": {
    "collapsed": false,
    "pycharm": {
     "name": "#%%\n"
    }
   }
  },
  {
   "cell_type": "code",
   "execution_count": null,
   "outputs": [],
   "source": [
    "batch_loss = []\n",
    "y_true = []\n",
    "y_pred = []\n",
    "with torch.no_grad():\n",
    "    model.eval()\n",
    "    for step, (batch_x, batch_y, batch_name) in enumerate(test_loader):\n",
    "        batch_x = batch_x.float().to(device)\n",
    "        batch_y = batch_y.float().to(device)\n",
    "        batch_demo = []\n",
    "        for i in range(len(batch_name)):\n",
    "            cur_id, cur_ep, _ = batch_name[i].split('_', 2)\n",
    "            cur_idx = cur_id + '_' + cur_ep\n",
    "            cur_demo = torch.tensor(demographic_data[idx_list.index(cur_idx)], dtype=torch.float32)\n",
    "            batch_demo.append(cur_demo)\n",
    "\n",
    "        batch_demo = torch.stack(batch_demo).to(device)\n",
    "        output = model(batch_x, batch_demo)[0]\n",
    "\n",
    "        loss = get_loss(output, batch_y.unsqueeze(-1))\n",
    "        batch_loss.append(loss.cpu().detach().numpy())\n",
    "        y_pred += list(output.cpu().detach().numpy().flatten())\n",
    "        y_true += list(batch_y.cpu().numpy().flatten())\n",
    "\n",
    "print(\"\\n==>Predicting on test\")\n",
    "print('Test Loss = %.4f'%(np.mean(np.array(batch_loss))))\n",
    "y_pred = np.array(y_pred)\n",
    "y_pred = np.stack([1 - y_pred, y_pred], axis=1)\n",
    "test_res = metrics.print_metrics_binary(y_true, y_pred)"
   ],
   "metadata": {
    "collapsed": false,
    "pycharm": {
     "name": "#%%\n"
    }
   }
  },
  {
   "cell_type": "code",
   "execution_count": null,
   "outputs": [],
   "source": [
    "# Bootstrap\n",
    "N = len(y_true)\n",
    "N_idx = np.arange(N)\n",
    "K = 1000\n",
    "\n",
    "auroc = []\n",
    "auprc = []\n",
    "minpse = []\n",
    "for i in range(K):\n",
    "    boot_idx = np.random.choice(N_idx, N, replace=True)\n",
    "    boot_true = np.array(y_true)[boot_idx]\n",
    "    boot_pred = y_pred[boot_idx, :]\n",
    "    test_ret = metrics.print_metrics_binary(boot_true, boot_pred, verbose=0)\n",
    "    auroc.append(test_ret['auroc'])\n",
    "    auprc.append(test_ret['auprc'])\n",
    "    minpse.append(test_ret['minpse'])\n",
    "    print('%d/%d'%(i+1,K))\n",
    "\n",
    "print('auroc %.4f(%.4f)'%(np.mean(auroc), np.std(auroc)))\n",
    "print('auprc %.4f(%.4f)'%(np.mean(auprc), np.std(auprc)))\n",
    "print('minpse %.4f(%.4f)'%(np.mean(minpse), np.std(minpse)))"
   ],
   "metadata": {
    "collapsed": false,
    "pycharm": {
     "name": "#%%\n"
    }
   }
  }
 ],
 "metadata": {
  "kernelspec": {
   "display_name": "Python 3",
   "language": "python",
   "name": "python3"
  },
  "language_info": {
   "codemirror_mode": {
    "name": "ipython",
    "version": 2
   },
   "file_extension": ".py",
   "mimetype": "text/x-python",
   "name": "python",
   "nbconvert_exporter": "python",
   "pygments_lexer": "ipython2",
   "version": "2.7.6"
  }
 },
 "nbformat": 4,
 "nbformat_minor": 0
}